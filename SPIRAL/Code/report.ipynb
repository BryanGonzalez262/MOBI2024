{
 "cells": [
  {
   "cell_type": "markdown",
   "metadata": {},
   "source": [
    "# 0. Imports\n",
    "This notebook contains the code to produce a comprehensive report of the spiral data from MindLogger"
   ]
  },
  {
   "cell_type": "code",
   "execution_count": 11,
   "metadata": {
    "ExecuteTime": {
     "end_time": "2024-08-20T15:29:46.344649Z",
     "start_time": "2024-08-20T15:29:45.974609Z"
    }
   },
   "outputs": [],
   "source": [
    "from glob import glob\n",
    "import os\n",
    "import pandas as pd\n",
    "\n"
   ]
  },
  {
   "cell_type": "markdown",
   "source": [
    "## 0.1 Importing the reports "
   ],
   "metadata": {
    "collapsed": false
   }
  },
  {
   "cell_type": "code",
   "execution_count": 12,
   "metadata": {
    "ExecuteTime": {
     "end_time": "2024-08-20T15:29:47.719047Z",
     "start_time": "2024-08-20T15:29:47.684091Z"
    }
   },
   "outputs": [
    {
     "data": {
      "text/plain": "   index  study_id  Start_Date       Start_Time         End_Time  \\\n0      1   5707782  2024-05-31  14:19:32.309999  14:22:10.542999   \n1      2   5707782  2024-05-31  14:19:32.309999  14:22:10.542999   \n2      3   5707782  2024-05-31  14:19:32.309999  14:22:10.542999   \n3      4   5707782  2024-05-31  14:19:32.309999  14:22:10.542999   \n4      5   5707782  2024-05-31  14:17:09.161999  14:19:19.825000   \n\n                                     id activity_scheduled_time  \\\n0  72dad497-db32-4965-bbe6-6c952a43a9e0           not scheduled   \n1  72dad497-db32-4965-bbe6-6c952a43a9e0           not scheduled   \n2  72dad497-db32-4965-bbe6-6c952a43a9e0           not scheduled   \n3  72dad497-db32-4965-bbe6-6c952a43a9e0           not scheduled   \n4  3aa2119f-55af-42cf-a831-ea77ababb356           not scheduled   \n\n   activity_start_time  activity_end_time       flag  ...  \\\n0        1717179572310      1717179730543  completed  ...   \n1        1717179572310      1717179730543  completed  ...   \n2        1717179572310      1717179730543  completed  ...   \n3        1717179572310      1717179730543  completed  ...   \n4        1717179429162      1717179559825  completed  ...   \n\n                                item_id  \\\n0  648c7d00-8819-c112-0b4f-6f8100000000   \n1  648c7d01-8819-c112-0b4f-6f8600000000   \n2  648c7d02-8819-c112-0b4f-6f8c00000000   \n3  648c7d03-8819-c112-0b4f-6f9100000000   \n4  648c7cff-8819-c112-0b4f-6f7b00000000   \n\n                                            response  \\\n0    72dad497-db32-4965-bbe6-6c952a43a9e0-trail1.csv   \n1    72dad497-db32-4965-bbe6-6c952a43a9e0-trail2.csv   \n2    72dad497-db32-4965-bbe6-6c952a43a9e0-trail3.csv   \n3    72dad497-db32-4965-bbe6-6c952a43a9e0-trail4.csv   \n4  3aa2119f-55af-42cf-a831-ea77ababb356-648c7b3e-...   \n\n                                              prompt options   version  \\\n0                                           Sample A     NaN  14.6.150   \n1                                             Test A     NaN  14.6.150   \n2                                           Sample B     NaN  14.6.150   \n3                                             Test B     NaN  14.6.150   \n4  Please draw as much as you can remember of the...     NaN  14.6.150   \n\n  rawScore reviewing_id                              event_id timezone_offset  \\\n0      NaN          NaN  8a8460d1-53a3-419a-8299-21cfc7c50038            -240   \n1      NaN          NaN  8a8460d1-53a3-419a-8299-21cfc7c50038            -240   \n2      NaN          NaN  8a8460d1-53a3-419a-8299-21cfc7c50038            -240   \n3      NaN          NaN  8a8460d1-53a3-419a-8299-21cfc7c50038            -240   \n4      NaN          NaN  8a8460d1-53a3-419a-8299-21cfc7c50038            -240   \n\n  legacy_user_id  \n0            NaN  \n1            NaN  \n2            NaN  \n3            NaN  \n4            NaN  \n\n[5 rows x 27 columns]",
      "text/html": "<div>\n<style scoped>\n    .dataframe tbody tr th:only-of-type {\n        vertical-align: middle;\n    }\n\n    .dataframe tbody tr th {\n        vertical-align: top;\n    }\n\n    .dataframe thead th {\n        text-align: right;\n    }\n</style>\n<table border=\"1\" class=\"dataframe\">\n  <thead>\n    <tr style=\"text-align: right;\">\n      <th></th>\n      <th>index</th>\n      <th>study_id</th>\n      <th>Start_Date</th>\n      <th>Start_Time</th>\n      <th>End_Time</th>\n      <th>id</th>\n      <th>activity_scheduled_time</th>\n      <th>activity_start_time</th>\n      <th>activity_end_time</th>\n      <th>flag</th>\n      <th>...</th>\n      <th>item_id</th>\n      <th>response</th>\n      <th>prompt</th>\n      <th>options</th>\n      <th>version</th>\n      <th>rawScore</th>\n      <th>reviewing_id</th>\n      <th>event_id</th>\n      <th>timezone_offset</th>\n      <th>legacy_user_id</th>\n    </tr>\n  </thead>\n  <tbody>\n    <tr>\n      <th>0</th>\n      <td>1</td>\n      <td>5707782</td>\n      <td>2024-05-31</td>\n      <td>14:19:32.309999</td>\n      <td>14:22:10.542999</td>\n      <td>72dad497-db32-4965-bbe6-6c952a43a9e0</td>\n      <td>not scheduled</td>\n      <td>1717179572310</td>\n      <td>1717179730543</td>\n      <td>completed</td>\n      <td>...</td>\n      <td>648c7d00-8819-c112-0b4f-6f8100000000</td>\n      <td>72dad497-db32-4965-bbe6-6c952a43a9e0-trail1.csv</td>\n      <td>Sample A</td>\n      <td>NaN</td>\n      <td>14.6.150</td>\n      <td>NaN</td>\n      <td>NaN</td>\n      <td>8a8460d1-53a3-419a-8299-21cfc7c50038</td>\n      <td>-240</td>\n      <td>NaN</td>\n    </tr>\n    <tr>\n      <th>1</th>\n      <td>2</td>\n      <td>5707782</td>\n      <td>2024-05-31</td>\n      <td>14:19:32.309999</td>\n      <td>14:22:10.542999</td>\n      <td>72dad497-db32-4965-bbe6-6c952a43a9e0</td>\n      <td>not scheduled</td>\n      <td>1717179572310</td>\n      <td>1717179730543</td>\n      <td>completed</td>\n      <td>...</td>\n      <td>648c7d01-8819-c112-0b4f-6f8600000000</td>\n      <td>72dad497-db32-4965-bbe6-6c952a43a9e0-trail2.csv</td>\n      <td>Test A</td>\n      <td>NaN</td>\n      <td>14.6.150</td>\n      <td>NaN</td>\n      <td>NaN</td>\n      <td>8a8460d1-53a3-419a-8299-21cfc7c50038</td>\n      <td>-240</td>\n      <td>NaN</td>\n    </tr>\n    <tr>\n      <th>2</th>\n      <td>3</td>\n      <td>5707782</td>\n      <td>2024-05-31</td>\n      <td>14:19:32.309999</td>\n      <td>14:22:10.542999</td>\n      <td>72dad497-db32-4965-bbe6-6c952a43a9e0</td>\n      <td>not scheduled</td>\n      <td>1717179572310</td>\n      <td>1717179730543</td>\n      <td>completed</td>\n      <td>...</td>\n      <td>648c7d02-8819-c112-0b4f-6f8c00000000</td>\n      <td>72dad497-db32-4965-bbe6-6c952a43a9e0-trail3.csv</td>\n      <td>Sample B</td>\n      <td>NaN</td>\n      <td>14.6.150</td>\n      <td>NaN</td>\n      <td>NaN</td>\n      <td>8a8460d1-53a3-419a-8299-21cfc7c50038</td>\n      <td>-240</td>\n      <td>NaN</td>\n    </tr>\n    <tr>\n      <th>3</th>\n      <td>4</td>\n      <td>5707782</td>\n      <td>2024-05-31</td>\n      <td>14:19:32.309999</td>\n      <td>14:22:10.542999</td>\n      <td>72dad497-db32-4965-bbe6-6c952a43a9e0</td>\n      <td>not scheduled</td>\n      <td>1717179572310</td>\n      <td>1717179730543</td>\n      <td>completed</td>\n      <td>...</td>\n      <td>648c7d03-8819-c112-0b4f-6f9100000000</td>\n      <td>72dad497-db32-4965-bbe6-6c952a43a9e0-trail4.csv</td>\n      <td>Test B</td>\n      <td>NaN</td>\n      <td>14.6.150</td>\n      <td>NaN</td>\n      <td>NaN</td>\n      <td>8a8460d1-53a3-419a-8299-21cfc7c50038</td>\n      <td>-240</td>\n      <td>NaN</td>\n    </tr>\n    <tr>\n      <th>4</th>\n      <td>5</td>\n      <td>5707782</td>\n      <td>2024-05-31</td>\n      <td>14:17:09.161999</td>\n      <td>14:19:19.825000</td>\n      <td>3aa2119f-55af-42cf-a831-ea77ababb356</td>\n      <td>not scheduled</td>\n      <td>1717179429162</td>\n      <td>1717179559825</td>\n      <td>completed</td>\n      <td>...</td>\n      <td>648c7cff-8819-c112-0b4f-6f7b00000000</td>\n      <td>3aa2119f-55af-42cf-a831-ea77ababb356-648c7b3e-...</td>\n      <td>Please draw as much as you can remember of the...</td>\n      <td>NaN</td>\n      <td>14.6.150</td>\n      <td>NaN</td>\n      <td>NaN</td>\n      <td>8a8460d1-53a3-419a-8299-21cfc7c50038</td>\n      <td>-240</td>\n      <td>NaN</td>\n    </tr>\n  </tbody>\n</table>\n<p>5 rows × 27 columns</p>\n</div>"
     },
     "execution_count": 12,
     "metadata": {},
     "output_type": "execute_result"
    }
   ],
   "source": [
    "data_dir = '/Users/bryan.gonzalez/PycharmProjects/MOBI2024/SPIRAL/Data/Clean_Oak_AWS_06012024'\n",
    "\n",
    "report_file_paths = glob(os.path.join(data_dir, '*', 'modified_report.csv'))\n",
    "# Combine each report into a single dataframe\n",
    "report_df = pd.concat([pd.read_csv(report_file_path) for report_file_path in report_file_paths])\n",
    "report_df.head()"
   ]
  },
  {
   "cell_type": "code",
   "outputs": [
    {
     "data": {
      "text/plain": "array(['Trails_iPad', 'ReyDelay_iPad', 'Digit_Symbol_Substitution',\n       'Spiral Drawing Non-Dominant', 'Spiral Drawing Dominant',\n       'Alpha_iPad', 'ReyCopy_iPad', 'Identifier'], dtype=object)"
     },
     "execution_count": 13,
     "metadata": {},
     "output_type": "execute_result"
    }
   ],
   "source": [
    "report_df.activity_name.unique()"
   ],
   "metadata": {
    "collapsed": false,
    "ExecuteTime": {
     "end_time": "2024-08-20T15:30:48.695034Z",
     "start_time": "2024-08-20T15:30:48.689385Z"
    }
   },
   "execution_count": 13
  },
  {
   "cell_type": "code",
   "outputs": [
    {
     "data": {
      "text/plain": "array(['Oak Cognitive Task'], dtype=object)"
     },
     "execution_count": 14,
     "metadata": {},
     "output_type": "execute_result"
    }
   ],
   "source": [
    "report_df.activity_flow_name.unique()"
   ],
   "metadata": {
    "collapsed": false,
    "ExecuteTime": {
     "end_time": "2024-08-20T15:31:56.799453Z",
     "start_time": "2024-08-20T15:31:56.795650Z"
    }
   },
   "execution_count": 14
  },
  {
   "cell_type": "code",
   "outputs": [],
   "source": [],
   "metadata": {
    "collapsed": false
   }
  }
 ],
 "metadata": {
  "language_info": {
   "name": "python"
  },
  "kernelspec": {
   "name": "python3",
   "language": "python",
   "display_name": "Python 3 (ipykernel)"
  }
 },
 "nbformat": 4,
 "nbformat_minor": 2
}
