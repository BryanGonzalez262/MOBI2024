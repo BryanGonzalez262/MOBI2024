{
 "cells": [
  {
   "cell_type": "code",
   "execution_count": 2,
   "id": "initial_id",
   "metadata": {
    "collapsed": true,
    "ExecuteTime": {
     "end_time": "2024-08-06T17:15:35.699848Z",
     "start_time": "2024-08-06T17:15:35.688255Z"
    }
   },
   "outputs": [],
   "source": [
    "import pandas as pd\n",
    "\n",
    "\n",
    "\n",
    "\n"
   ]
  },
  {
   "cell_type": "code",
   "outputs": [
    {
     "data": {
      "text/plain": "     line_number          x          y  UTC_Timestamp  seconds  \\\n0              0  49.597586  49.195171   1.717179e+09    0.000   \n1              0  49.547284  49.195171   1.717179e+09    0.032   \n2              0  49.547284  49.245473   1.717179e+09    0.040   \n3              0  49.547284  49.295775   1.717179e+09    0.057   \n4              0  49.547284  49.346076   1.717179e+09    0.065   \n..           ...        ...        ...            ...      ...   \n839            0  77.112676  51.106640   1.717179e+09    7.028   \n840            0  77.112676  51.207243   1.717179e+09    7.036   \n841            0  77.112676  51.257545   1.717179e+09    7.044   \n842            0  77.112676  51.307847   1.717179e+09    7.053   \n843            0  77.112676  51.257545   1.717179e+09    7.077   \n\n     epoch_time_in_seconds_start  \n0                   1.717179e+09  \n1                            NaN  \n2                            NaN  \n3                            NaN  \n4                            NaN  \n..                           ...  \n839                          NaN  \n840                          NaN  \n841                          NaN  \n842                          NaN  \n843                          NaN  \n\n[844 rows x 6 columns]",
      "text/html": "<div>\n<style scoped>\n    .dataframe tbody tr th:only-of-type {\n        vertical-align: middle;\n    }\n\n    .dataframe tbody tr th {\n        vertical-align: top;\n    }\n\n    .dataframe thead th {\n        text-align: right;\n    }\n</style>\n<table border=\"1\" class=\"dataframe\">\n  <thead>\n    <tr style=\"text-align: right;\">\n      <th></th>\n      <th>line_number</th>\n      <th>x</th>\n      <th>y</th>\n      <th>UTC_Timestamp</th>\n      <th>seconds</th>\n      <th>epoch_time_in_seconds_start</th>\n    </tr>\n  </thead>\n  <tbody>\n    <tr>\n      <th>0</th>\n      <td>0</td>\n      <td>49.597586</td>\n      <td>49.195171</td>\n      <td>1.717179e+09</td>\n      <td>0.000</td>\n      <td>1.717179e+09</td>\n    </tr>\n    <tr>\n      <th>1</th>\n      <td>0</td>\n      <td>49.547284</td>\n      <td>49.195171</td>\n      <td>1.717179e+09</td>\n      <td>0.032</td>\n      <td>NaN</td>\n    </tr>\n    <tr>\n      <th>2</th>\n      <td>0</td>\n      <td>49.547284</td>\n      <td>49.245473</td>\n      <td>1.717179e+09</td>\n      <td>0.040</td>\n      <td>NaN</td>\n    </tr>\n    <tr>\n      <th>3</th>\n      <td>0</td>\n      <td>49.547284</td>\n      <td>49.295775</td>\n      <td>1.717179e+09</td>\n      <td>0.057</td>\n      <td>NaN</td>\n    </tr>\n    <tr>\n      <th>4</th>\n      <td>0</td>\n      <td>49.547284</td>\n      <td>49.346076</td>\n      <td>1.717179e+09</td>\n      <td>0.065</td>\n      <td>NaN</td>\n    </tr>\n    <tr>\n      <th>...</th>\n      <td>...</td>\n      <td>...</td>\n      <td>...</td>\n      <td>...</td>\n      <td>...</td>\n      <td>...</td>\n    </tr>\n    <tr>\n      <th>839</th>\n      <td>0</td>\n      <td>77.112676</td>\n      <td>51.106640</td>\n      <td>1.717179e+09</td>\n      <td>7.028</td>\n      <td>NaN</td>\n    </tr>\n    <tr>\n      <th>840</th>\n      <td>0</td>\n      <td>77.112676</td>\n      <td>51.207243</td>\n      <td>1.717179e+09</td>\n      <td>7.036</td>\n      <td>NaN</td>\n    </tr>\n    <tr>\n      <th>841</th>\n      <td>0</td>\n      <td>77.112676</td>\n      <td>51.257545</td>\n      <td>1.717179e+09</td>\n      <td>7.044</td>\n      <td>NaN</td>\n    </tr>\n    <tr>\n      <th>842</th>\n      <td>0</td>\n      <td>77.112676</td>\n      <td>51.307847</td>\n      <td>1.717179e+09</td>\n      <td>7.053</td>\n      <td>NaN</td>\n    </tr>\n    <tr>\n      <th>843</th>\n      <td>0</td>\n      <td>77.112676</td>\n      <td>51.257545</td>\n      <td>1.717179e+09</td>\n      <td>7.077</td>\n      <td>NaN</td>\n    </tr>\n  </tbody>\n</table>\n<p>844 rows × 6 columns</p>\n</div>"
     },
     "execution_count": 4,
     "metadata": {},
     "output_type": "execute_result"
    }
   ],
   "source": [
    "df = pd.read_csv('/Users/bryan.gonzalez/MOBI2024/SPIRAL/Data/Clean_Oak_AWS_06012024/MoBi_Harlem_1/drawing-responses-Mon Jun 03 2024/3b7b2492-dabf-41a6-8aea-40e135706cf7-648c7b3e-8819-c112-0b4f-6f3000000000-spiral_trace1_Dom.csv')\n",
    "df"
   ],
   "metadata": {
    "collapsed": false,
    "ExecuteTime": {
     "end_time": "2024-08-06T17:16:04.738813Z",
     "start_time": "2024-08-06T17:16:04.633182Z"
    }
   },
   "id": "ab61c775b19d9c1e",
   "execution_count": 4
  },
  {
   "cell_type": "code",
   "outputs": [],
   "source": [
    "df['seconds_dff'] = df.seconds.diff()\n",
    "df['ideal_seconds'] = .0082\n",
    "\n"
   ],
   "metadata": {
    "collapsed": false,
    "ExecuteTime": {
     "end_time": "2024-08-06T17:19:28.288129Z",
     "start_time": "2024-08-06T17:19:28.267591Z"
    }
   },
   "id": "b0338ab6b89ed4d2",
   "execution_count": 7
  },
  {
   "cell_type": "code",
   "outputs": [
    {
     "data": {
      "text/plain": "     line_number          x          y  UTC_Timestamp  seconds  \\\n0              0  49.597586  49.195171   1.717179e+09    0.000   \n1              0  49.547284  49.195171   1.717179e+09    0.032   \n2              0  49.547284  49.245473   1.717179e+09    0.040   \n3              0  49.547284  49.295775   1.717179e+09    0.057   \n4              0  49.547284  49.346076   1.717179e+09    0.065   \n..           ...        ...        ...            ...      ...   \n839            0  77.112676  51.106640   1.717179e+09    7.028   \n840            0  77.112676  51.207243   1.717179e+09    7.036   \n841            0  77.112676  51.257545   1.717179e+09    7.044   \n842            0  77.112676  51.307847   1.717179e+09    7.053   \n843            0  77.112676  51.257545   1.717179e+09    7.077   \n\n     epoch_time_in_seconds_start  seconds_dff  ideal_seconds  \n0                   1.717179e+09          NaN         0.0082  \n1                            NaN        0.032         0.0082  \n2                            NaN        0.008         0.0082  \n3                            NaN        0.017         0.0082  \n4                            NaN        0.008         0.0082  \n..                           ...          ...            ...  \n839                          NaN        0.009         0.0082  \n840                          NaN        0.008         0.0082  \n841                          NaN        0.008         0.0082  \n842                          NaN        0.009         0.0082  \n843                          NaN        0.024         0.0082  \n\n[844 rows x 8 columns]",
      "text/html": "<div>\n<style scoped>\n    .dataframe tbody tr th:only-of-type {\n        vertical-align: middle;\n    }\n\n    .dataframe tbody tr th {\n        vertical-align: top;\n    }\n\n    .dataframe thead th {\n        text-align: right;\n    }\n</style>\n<table border=\"1\" class=\"dataframe\">\n  <thead>\n    <tr style=\"text-align: right;\">\n      <th></th>\n      <th>line_number</th>\n      <th>x</th>\n      <th>y</th>\n      <th>UTC_Timestamp</th>\n      <th>seconds</th>\n      <th>epoch_time_in_seconds_start</th>\n      <th>seconds_dff</th>\n      <th>ideal_seconds</th>\n    </tr>\n  </thead>\n  <tbody>\n    <tr>\n      <th>0</th>\n      <td>0</td>\n      <td>49.597586</td>\n      <td>49.195171</td>\n      <td>1.717179e+09</td>\n      <td>0.000</td>\n      <td>1.717179e+09</td>\n      <td>NaN</td>\n      <td>0.0082</td>\n    </tr>\n    <tr>\n      <th>1</th>\n      <td>0</td>\n      <td>49.547284</td>\n      <td>49.195171</td>\n      <td>1.717179e+09</td>\n      <td>0.032</td>\n      <td>NaN</td>\n      <td>0.032</td>\n      <td>0.0082</td>\n    </tr>\n    <tr>\n      <th>2</th>\n      <td>0</td>\n      <td>49.547284</td>\n      <td>49.245473</td>\n      <td>1.717179e+09</td>\n      <td>0.040</td>\n      <td>NaN</td>\n      <td>0.008</td>\n      <td>0.0082</td>\n    </tr>\n    <tr>\n      <th>3</th>\n      <td>0</td>\n      <td>49.547284</td>\n      <td>49.295775</td>\n      <td>1.717179e+09</td>\n      <td>0.057</td>\n      <td>NaN</td>\n      <td>0.017</td>\n      <td>0.0082</td>\n    </tr>\n    <tr>\n      <th>4</th>\n      <td>0</td>\n      <td>49.547284</td>\n      <td>49.346076</td>\n      <td>1.717179e+09</td>\n      <td>0.065</td>\n      <td>NaN</td>\n      <td>0.008</td>\n      <td>0.0082</td>\n    </tr>\n    <tr>\n      <th>...</th>\n      <td>...</td>\n      <td>...</td>\n      <td>...</td>\n      <td>...</td>\n      <td>...</td>\n      <td>...</td>\n      <td>...</td>\n      <td>...</td>\n    </tr>\n    <tr>\n      <th>839</th>\n      <td>0</td>\n      <td>77.112676</td>\n      <td>51.106640</td>\n      <td>1.717179e+09</td>\n      <td>7.028</td>\n      <td>NaN</td>\n      <td>0.009</td>\n      <td>0.0082</td>\n    </tr>\n    <tr>\n      <th>840</th>\n      <td>0</td>\n      <td>77.112676</td>\n      <td>51.207243</td>\n      <td>1.717179e+09</td>\n      <td>7.036</td>\n      <td>NaN</td>\n      <td>0.008</td>\n      <td>0.0082</td>\n    </tr>\n    <tr>\n      <th>841</th>\n      <td>0</td>\n      <td>77.112676</td>\n      <td>51.257545</td>\n      <td>1.717179e+09</td>\n      <td>7.044</td>\n      <td>NaN</td>\n      <td>0.008</td>\n      <td>0.0082</td>\n    </tr>\n    <tr>\n      <th>842</th>\n      <td>0</td>\n      <td>77.112676</td>\n      <td>51.307847</td>\n      <td>1.717179e+09</td>\n      <td>7.053</td>\n      <td>NaN</td>\n      <td>0.009</td>\n      <td>0.0082</td>\n    </tr>\n    <tr>\n      <th>843</th>\n      <td>0</td>\n      <td>77.112676</td>\n      <td>51.257545</td>\n      <td>1.717179e+09</td>\n      <td>7.077</td>\n      <td>NaN</td>\n      <td>0.024</td>\n      <td>0.0082</td>\n    </tr>\n  </tbody>\n</table>\n<p>844 rows × 8 columns</p>\n</div>"
     },
     "execution_count": 8,
     "metadata": {},
     "output_type": "execute_result"
    }
   ],
   "source": [
    "df"
   ],
   "metadata": {
    "collapsed": false,
    "ExecuteTime": {
     "end_time": "2024-08-06T17:19:32.061235Z",
     "start_time": "2024-08-06T17:19:31.961577Z"
    }
   },
   "id": "22656e5e7501aedf",
   "execution_count": 8
  },
  {
   "cell_type": "code",
   "outputs": [],
   "source": [],
   "metadata": {
    "collapsed": false
   },
   "id": "778d9fec93f7ceb7"
  }
 ],
 "metadata": {
  "kernelspec": {
   "display_name": "Python 3",
   "language": "python",
   "name": "python3"
  },
  "language_info": {
   "codemirror_mode": {
    "name": "ipython",
    "version": 2
   },
   "file_extension": ".py",
   "mimetype": "text/x-python",
   "name": "python",
   "nbconvert_exporter": "python",
   "pygments_lexer": "ipython2",
   "version": "2.7.6"
  }
 },
 "nbformat": 4,
 "nbformat_minor": 5
}
