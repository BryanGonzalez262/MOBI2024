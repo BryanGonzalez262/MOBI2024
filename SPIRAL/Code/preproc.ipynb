{
 "cells": [
  {
   "cell_type": "code",
   "execution_count": 11,
   "id": "initial_id",
   "metadata": {
    "collapsed": true,
    "ExecuteTime": {
     "end_time": "2024-09-24T19:08:11.050676Z",
     "start_time": "2024-09-24T19:08:11.045963Z"
    }
   },
   "outputs": [],
   "source": [
    "import os\n",
    "import numpy as np\n",
    "import pandas as pd\n",
    "from scipy.interpolate import interp1d\n",
    "from scipy.spatial import distance\n",
    "import matplotlib.pyplot as plt"
   ]
  },
  {
   "cell_type": "code",
   "outputs": [],
   "source": [
    "def shift_and_scale(group: pd.DataFrame) -> pd.DataFrame:\n",
    "    \"\"\" Shift and scales the 'x' and 'y' values in the given DataFrame group. \n",
    "    \n",
    "    Args:\n",
    "        group (pd.DataFrame): A DataFrame group with columns 'x' and 'y' to shift and scale.\n",
    "        \n",
    "    Returns:\n",
    "         pd.DataFrame: The shifted and scaled DataFrame group.\n",
    "    \"\"\"\n",
    "    # Check if all 'x' and 'y' values in the group are withing the specified range\n",
    "    if group['x'].between(-50, -40).all() and group['y'].between(40, 50).all():\n",
    "        # If so, shift all 'x' values by +45 and all 'y' values by -45\n",
    "        group['x'] += 45\n",
    "        group['y'] -= 45\n",
    "        \n",
    "        #Scale spiral coordinates to math the reference spiral\n",
    "        group['x'] *= 10\n",
    "        group['y'] *= 10\n",
    "        \n",
    "    #drop the index to avoid duplication\n",
    "    group = group.reset_index(drop=True)\n",
    "    return group"
   ],
   "metadata": {
    "collapsed": false,
    "ExecuteTime": {
     "end_time": "2024-09-24T19:05:26.105734Z",
     "start_time": "2024-09-24T19:05:26.099763Z"
    }
   },
   "id": "a79756e3ed1acf50",
   "execution_count": 2
  },
  {
   "cell_type": "code",
   "outputs": [],
   "source": [
    "def generate_reference(num_points: int = 5000, b: float = 1.075) -> np.ndarray:\n",
    "    \"\"\" Generates a reference spiral with the given number of points and scaling factor.\n",
    "    \n",
    "    Args:\n",
    "        num_point (int, optional): The number of points to generate for the reference spiral.\n",
    "            Defaults to 5000.\n",
    "        b (float, optional): The scaling factor for the reference spiral. Defaults to 1.075.\n",
    "    \n",
    "    Returns:\n",
    "        np.ndarray: A numpy array with the generated reference spiral coordinates.\n",
    "    \"\"\"\n",
    "    t = np.linspace(0, 8*np.pi, num_points)\n",
    "    arc_length = (b / 2) * (t * np.sqrt(1 + t**2) + np.log(t + np.sqrt(1 + t**2)))\n",
    "    arc_length_equidistant = np.linspace(0, arc_length[-1], num_points)\n",
    "    f_theta = interp1d(arc_length, t, kind='cubic', fill_value='extrapolate')\n",
    "    t_interp = f_theta(arc_length_equidistant)\n",
    "    x_ref = b * t_interp * np.cos(t_interp)\n",
    "    y_ref = b * t_interp * np.sin(t_interp)\n",
    "    ref = np.column_stack((x_ref, y_ref))\n",
    "    return ref\n"
   ],
   "metadata": {
    "collapsed": false,
    "ExecuteTime": {
     "end_time": "2024-09-24T19:05:27.220194Z",
     "start_time": "2024-09-24T19:05:27.208991Z"
    }
   },
   "id": "afec42175236eb27",
   "execution_count": 3
  },
  {
   "cell_type": "code",
   "outputs": [],
   "source": [
    "def remove_duplicate(group: pd.DataFrame) -> pd.DataFrame:\n",
    "    \"\"\" Removes duplicate points from the given DataFrame group.\n",
    "    \n",
    "    Args:\n",
    "        group (pd.DataFrame): A DataFrame group with columns 'x' and 'y' to remove duplicates.\n",
    "        \n",
    "    Returns:\n",
    "        pd.DataFrame: The DataFrame group with duplicates removed.\n",
    "    \"\"\"\n",
    "    # Create a temporary reference spiral \n",
    "    ref = generate_reference()\n",
    "    # Calculate the Euclidean distance between the group coordinates and the reference spiral\n",
    "    dist = distance.cdist(group[['x', 'y']], ref, 'euclidean')\n",
    "    # Find the minimum distance for each group coordinate\n",
    "    group['dist'] = np.min(dist, axis=1)\n",
    "    #sort the values by timestamp distance and UTC timestamp\n",
    "    group = group.sort_values(by=['UTC_Timestamp', 'dist'])\n",
    "    # drop duplicates based on UTC_Timestamp, keeping the first occurence\n",
    "    # (which has the shortest distance to the reference spiral, due to the sorting)\n",
    "    group = group.drop_duplicates(subset='UTC_Timestamp', keep='first')\n",
    "    #drop the dist column\n",
    "    group = group.drop(columns='dist')\n",
    "    #reset the index\n",
    "    group = group.reset_index(drop=True)    \n",
    "    return group"
   ],
   "metadata": {
    "collapsed": false,
    "ExecuteTime": {
     "end_time": "2024-09-24T19:05:28.407333Z",
     "start_time": "2024-09-24T19:05:28.401244Z"
    }
   },
   "id": "f84aab7f67a1034d",
   "execution_count": 4
  },
  {
   "cell_type": "code",
   "outputs": [],
   "source": [
    "def keep_longest_line(group: pd.DataFrame) -> pd.DataFrame:\n",
    "    \"\"\" Keeps only the longest line segment in the given DataFrame group.\n",
    "    \n",
    "    Args:\n",
    "        group (pd.DataFrame): A DataFrame group with columns 'x' and 'y' to keep the longest line segment.\n",
    "        \n",
    "    Returns:\n",
    "        pd.DataFrame: The DataFrame group with only the longest line segment.\n",
    "    \"\"\"\n",
    "   # group by line number and get the sie of each group. \n",
    "    # find the line_number with the maximum size\n",
    "    longest_line = group.groupby('line_number').size().idxmax()\n",
    "    # filter the group to keep only the longest line\n",
    "    group = group[group['line_number'] == longest_line]\n",
    "    #reset the index\n",
    "    group = group.reset_index(drop=True)\n",
    "    \n",
    "    return group"
   ],
   "metadata": {
    "collapsed": false,
    "ExecuteTime": {
     "end_time": "2024-09-24T19:05:29.374453Z",
     "start_time": "2024-09-24T19:05:29.369518Z"
    }
   },
   "id": "3779c8740dcdc061",
   "execution_count": 5
  },
  {
   "cell_type": "code",
   "outputs": [],
   "source": [
    "def drop_overlapping_time_window(group: pd.DataFrame) -> pd.DataFrame:\n",
    "    \"\"\" Drops rows from the input group Dataframe that have overlapping time windows.\n",
    "    \n",
    "    Args:\n",
    "        group (pd.DataFrame): A DataFrame group with columns 'x' and 'y' to drop overlapping time windows.\n",
    "        \n",
    "    Returns:\n",
    "        pd.DataFrame: The DataFrame group with rows that have overlapping time windows dropped.\n",
    "    \"\"\"\n",
    "    # Create a dictionary of time windows for each line number\n",
    "    time_windows = {line_number: (\n",
    "        group.loc[group['line_number'] == line_number, 'UTC_Timestamp'].min(),\n",
    "        group.loc[group['line_number'] == line_number, 'UTC_Timestamp'].max()\n",
    "    ) for line_number in group['line_number'].unique()}\n",
    "    \n",
    "    #create a set to store the line_numbers to drop\n",
    "    lines_to_drop = set()\n",
    "    \n",
    "    # Iterate through each line number and compare it's time window with all other time windows\n",
    "    for line_number, time_window in time_windows.items():\n",
    "        for other_line_number, other_time_window in time_windows.items():\n",
    "            if line_number != other_line_number:\n",
    "                # check if the time windows overlap\n",
    "                if max(time_window[0], other_time_window[0]) <= min(time_window[1], other_time_window[1]):\n",
    "                    # if there is overlap, drop the shorter line\n",
    "                    if group.loc[group.line_numner == line_number].shape[0] <= \\\n",
    "                        group.loc[group.line_number == other_line_number].shape[0]:\n",
    "                        lines_to_drop.add(line_number)\n",
    "                    else:\n",
    "                        lines_to_drop.add(other_line_number)\n",
    "                        \n",
    "    # drop the rows with overlapping time windows\n",
    "    group  = group[~group['line_number'].isin(lines_to_drop)]\n",
    "    group = group.reset_index(drop=True)\n",
    "    return group\n",
    "    "
   ],
   "metadata": {
    "collapsed": false,
    "ExecuteTime": {
     "end_time": "2024-09-24T19:05:30.581002Z",
     "start_time": "2024-09-24T19:05:30.567247Z"
    }
   },
   "id": "d29d0811c2761194",
   "execution_count": 6
  },
  {
   "cell_type": "code",
   "outputs": [],
   "source": [
    "def cart2polar(group: pd.DataFrame) -> pd.DataFrame:\n",
    "    # Convert the 'x' and 'y' values to polar coordinates\n",
    "    group['r'] = np.sqrt(group['x']**2 + group['y']**2)\n",
    "    group['theta'] = np.arctan2(group['y'], group['x'])\n",
    "    #group['theta_diff'] = [np.nan] + np.diff(group['theta']).tolist()\n",
    "\n",
    "    #flip = np.where(group['theta_diff'] < -3)[0]\n",
    "\n",
    "    #for f in flip:\n",
    "\n",
    "     #   group['theta'][f+1:] += 2*np.pi\n",
    "\n",
    "\n",
    "    return group"
   ],
   "metadata": {
    "collapsed": false,
    "ExecuteTime": {
     "end_time": "2024-09-24T19:34:05.954050Z",
     "start_time": "2024-09-24T19:34:05.950019Z"
    }
   },
   "id": "ddc29029efc29379",
   "execution_count": 35
  },
  {
   "cell_type": "code",
   "outputs": [],
   "source": [],
   "metadata": {
    "collapsed": false,
    "ExecuteTime": {
     "end_time": "2024-09-24T19:34:06.462774Z",
     "start_time": "2024-09-24T19:34:06.460282Z"
    }
   },
   "id": "20dd7234da01d0f9",
   "execution_count": 35
  },
  {
   "cell_type": "markdown",
   "source": [
    "# Reference Spiral "
   ],
   "metadata": {
    "collapsed": false
   },
   "id": "bcf620bd11252887"
  },
  {
   "cell_type": "code",
   "outputs": [],
   "source": [
    "# create an archimese spiral with 10000 points\n",
    "ref = generate_reference(10000)\n",
    "ref = pd.DataFrame(ref, columns=['x', 'y'])\n",
    "ref= cart2polar(ref)"
   ],
   "metadata": {
    "collapsed": false,
    "ExecuteTime": {
     "end_time": "2024-09-24T19:34:07.293595Z",
     "start_time": "2024-09-24T19:34:07.284412Z"
    }
   },
   "id": "8d25a7f08f5db8f0",
   "execution_count": 36
  },
  {
   "cell_type": "code",
   "outputs": [],
   "source": [
    "# import a single case\n",
    "dat = pd.read_csv('/Users/bryan.gonzalez/PycharmProjects/MOBI2024/SPIRAL/Data/Clean_Oak_AWS_06012024/MoBi_Harlem_3/drawing-responses-Mon Jun 03 2024/61ab8ffb-8919-46d5-88e8-36495f70a149-c3c6111b-372a-409e-9263-b6b9c8876e86-spiral_recall1_Dom.csv')\n",
    "dat = cart2polar(dat)"
   ],
   "metadata": {
    "collapsed": false,
    "ExecuteTime": {
     "end_time": "2024-09-24T19:34:09.639057Z",
     "start_time": "2024-09-24T19:34:09.632059Z"
    }
   },
   "id": "7b6e62664be1d82b",
   "execution_count": 37
  },
  {
   "cell_type": "code",
   "outputs": [
    {
     "data": {
      "text/plain": "[<matplotlib.lines.Line2D at 0x14f8b0150>]"
     },
     "execution_count": 38,
     "metadata": {},
     "output_type": "execute_result"
    },
    {
     "data": {
      "text/plain": "<Figure size 640x480 with 1 Axes>",
      "image/png": "[encoded data removed]"
     },
     "metadata": {},
     "output_type": "display_data"
    }
   ],
   "source": [
    "plt.plot(dat['theta'])"
   ],
   "metadata": {
    "collapsed": false,
    "ExecuteTime": {
     "end_time": "2024-09-24T19:34:10.931680Z",
     "start_time": "2024-09-24T19:34:10.756963Z"
    }
   },
   "id": "1a1f67f4fa93b1d7",
   "execution_count": 38
  },
  {
   "cell_type": "code",
   "outputs": [
    {
     "data": {
      "text/plain": "[<matplotlib.lines.Line2D at 0x14f8ebf90>]"
     },
     "execution_count": 39,
     "metadata": {},
     "output_type": "execute_result"
    },
    {
     "data": {
      "text/plain": "<Figure size 640x480 with 1 Axes>",
      "image/png": "[encoded data removed]"
     },
     "metadata": {},
     "output_type": "display_data"
    }
   ],
   "source": [
    "plt.plot(ref['theta'])"
   ],
   "metadata": {
    "collapsed": false,
    "ExecuteTime": {
     "end_time": "2024-09-24T19:34:11.882932Z",
     "start_time": "2024-09-24T19:34:11.717900Z"
    }
   },
   "id": "caed155f4fe23c74",
   "execution_count": 39
  },
  {
   "cell_type": "code",
   "outputs": [
    {
     "data": {
      "text/plain": "      theta  theta\n0      True   True\n1      True   True\n2      True   True\n3      True   True\n4      True   True\n...     ...    ...\n9995  False   True\n9996  False   True\n9997  False   True\n9998  False   True\n9999  False   True\n\n[10000 rows x 2 columns]",
      "text/html": "<div>\n<style scoped>\n    .dataframe tbody tr th:only-of-type {\n        vertical-align: middle;\n    }\n\n    .dataframe tbody tr th {\n        vertical-align: top;\n    }\n\n    .dataframe thead th {\n        text-align: right;\n    }\n</style>\n<table border=\"1\" class=\"dataframe\">\n  <thead>\n    <tr style=\"text-align: right;\">\n      <th></th>\n      <th>theta</th>\n      <th>theta</th>\n    </tr>\n  </thead>\n  <tbody>\n    <tr>\n      <th>0</th>\n      <td>True</td>\n      <td>True</td>\n    </tr>\n    <tr>\n      <th>1</th>\n      <td>True</td>\n      <td>True</td>\n    </tr>\n    <tr>\n      <th>2</th>\n      <td>True</td>\n      <td>True</td>\n    </tr>\n    <tr>\n      <th>3</th>\n      <td>True</td>\n      <td>True</td>\n    </tr>\n    <tr>\n      <th>4</th>\n      <td>True</td>\n      <td>True</td>\n    </tr>\n    <tr>\n      <th>...</th>\n      <td>...</td>\n      <td>...</td>\n    </tr>\n    <tr>\n      <th>9995</th>\n      <td>False</td>\n      <td>True</td>\n    </tr>\n    <tr>\n      <th>9996</th>\n      <td>False</td>\n      <td>True</td>\n    </tr>\n    <tr>\n      <th>9997</th>\n      <td>False</td>\n      <td>True</td>\n    </tr>\n    <tr>\n      <th>9998</th>\n      <td>False</td>\n      <td>True</td>\n    </tr>\n    <tr>\n      <th>9999</th>\n      <td>False</td>\n      <td>True</td>\n    </tr>\n  </tbody>\n</table>\n<p>10000 rows × 2 columns</p>\n</div>"
     },
     "execution_count": 42,
     "metadata": {},
     "output_type": "execute_result"
    }
   ],
   "source": [
    "# Find places where theta in dat is roughly equal to theta in ref\n",
    "def roughly_equal(a, b, tolerance=1e-5):\n",
    "    \"\"\"\n",
    "    Checks if two numbers are roughly equal within a given tolerance.\n",
    "    \n",
    "    Parameters:\n",
    "    a (float): The first number.\n",
    "    b (float): The second number.\n",
    "    tolerance (float): The maximum difference for the numbers to be considered equal. Default is 1e-5.\n",
    "    \n",
    "    Returns:\n",
    "    bool: True if the numbers are roughly equal, False otherwise.\n",
    "    \"\"\"\n",
    "    return abs(a - b) <= tolerance\n",
    "\n",
    "pd.concat([dat, ref], axis=1).apply(lambda row: roughly_equal(row['theta'], row['theta']), axis=1)"
   ],
   "metadata": {
    "collapsed": false,
    "ExecuteTime": {
     "end_time": "2024-09-24T19:41:33.468330Z",
     "start_time": "2024-09-24T19:41:30.090604Z"
    }
   },
   "id": "53725def13abf769",
   "execution_count": 42
  },
  {
   "cell_type": "code",
   "outputs": [
    {
     "data": {
      "text/plain": "0       0.785398\n1       0.759161\n2       0.729414\n3       0.698720\n4       0.667611\n          ...   \n9995         NaN\n9996         NaN\n9997         NaN\n9998         NaN\n9999         NaN\nName: theta, Length: 10000, dtype: float64"
     },
     "execution_count": 40,
     "metadata": {},
     "output_type": "execute_result"
    }
   ],
   "source": [
    "abs(dat['theta'] - ref['theta'])"
   ],
   "metadata": {
    "collapsed": false,
    "ExecuteTime": {
     "end_time": "2024-09-24T19:40:34.038847Z",
     "start_time": "2024-09-24T19:40:34.016669Z"
    }
   },
   "id": "8b629e9ebc586393",
   "execution_count": 40
  },
  {
   "cell_type": "code",
   "outputs": [],
   "source": [],
   "metadata": {
    "collapsed": false
   },
   "id": "3ba656672dc1d8cc"
  }
 ],
 "metadata": {
  "kernelspec": {
   "display_name": "Python 3",
   "language": "python",
   "name": "python3"
  },
  "language_info": {
   "codemirror_mode": {
    "name": "ipython",
    "version": 2
   },
   "file_extension": ".py",
   "mimetype": "text/x-python",
   "name": "python",
   "nbconvert_exporter": "python",
   "pygments_lexer": "ipython2",
   "version": "2.7.6"
  }
 },
 "nbformat": 4,
 "nbformat_minor": 5
}
