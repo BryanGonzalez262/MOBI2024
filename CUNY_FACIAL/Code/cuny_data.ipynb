{
 "cells": [
  {
   "cell_type": "markdown",
   "metadata": {},
   "source": [
    "# 0. Imports"
   ]
  },
  {
   "cell_type": "code",
   "execution_count": 4,
   "metadata": {},
   "outputs": [],
   "source": [
    "import pyxdf\n",
    "import pandas as pd\n",
    "import matplotlib.pyplot as plt \n",
    "import seaborn as sns \n",
    "import wave\n",
    "#import pyaudio\n",
    "import numpy as np\n",
    "import sounddevice as sd\n",
    "import cv2"
   ]
  },
  {
   "cell_type": "code",
   "execution_count": 5,
   "metadata": {},
   "outputs": [],
   "source": [
    "class MobiSubject():\n",
    "    def __init__(self, xdf_path):\n",
    "        self.xdf_path = xdf_path\n",
    "        self.data, self.header = pyxdf.load_xdf(xdf_path)\n",
    "        self.streams =[stream['info']['name'][0] for stream in self.data]\n"
   ]
  },
  {
   "cell_type": "code",
   "execution_count": 6,
   "metadata": {},
   "outputs": [
    {
     "name": "stderr",
     "output_type": "stream",
     "text": [
      "Stream 2: Calculated effective sampling rate 249.9915 Hz is different from specified rate 500.0000 Hz.\n",
      "Stream 5: Calculated effective sampling rate 119.9956 Hz is different from specified rate 90.0000 Hz.\n"
     ]
    },
    {
     "data": {
      "text/plain": [
       "['WebcamStream',\n",
       " 'Stimuli_Markers',\n",
       " 'EGI NetAmp 0',\n",
       " 'OpenSignals',\n",
       " 'Tobii',\n",
       " 'Audio']"
      ]
     },
     "execution_count": 6,
     "metadata": {},
     "output_type": "execute_result"
    }
   ],
   "source": [
    "xdf_path = \"C:/Users/Admin/Documents/CurrentStudy/sub-P2222/ses-S001/mobi/sub-P2222_ses-S001_task-CUNY_face_run-001_mobi.xdf\"\n",
    "subject = MobiSubject(xdf_path)\n",
    "subject.streams\n"
   ]
  },
  {
   "cell_type": "code",
   "execution_count": null,
   "metadata": {},
   "outputs": [],
   "source": []
  }
 ],
 "metadata": {
  "kernelspec": {
   "display_name": "Python 3",
   "language": "python",
   "name": "python3"
  },
  "language_info": {
   "codemirror_mode": {
    "name": "ipython",
    "version": 3
   },
   "file_extension": ".py",
   "mimetype": "text/x-python",
   "name": "python",
   "nbconvert_exporter": "python",
   "pygments_lexer": "ipython3",
   "version": "3.11.3"
  }
 },
 "nbformat": 4,
 "nbformat_minor": 2
}
