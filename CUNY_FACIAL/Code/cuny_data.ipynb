{
 "cells": [
  {
   "cell_type": "markdown",
   "metadata": {},
   "source": [
    "# 0. Imports"
   ]
  },
  {
   "cell_type": "code",
   "execution_count": 1,
   "metadata": {
    "ExecuteTime": {
     "end_time": "2024-10-16T16:20:52.821889Z",
     "start_time": "2024-10-16T16:20:52.817373Z"
    }
   },
   "outputs": [],
   "source": [
    "import pyxdf\n",
    "import pandas as pd\n",
    "import matplotlib.pyplot as plt \n",
    "import seaborn as sns \n",
    "#import wave\n",
    "#import pyaudio\n",
    "import numpy as np\n",
    "from fpdf import FPDF\n",
    "from glob import glob\n",
    "import os\n"
   ]
  },
  {
   "cell_type": "code",
   "execution_count": 2,
   "metadata": {},
   "outputs": [],
   "source": [
    "data_dir = '/Users/bryan.gonzalez/PycharmProjects/MOBI2024/CUNY_FACIAL/Data/real_subjects'\n",
    "subject_xdf_paths = glob(os.path.join(data_dir,'*', '*.xdf'))\n",
    "subject_xdf_paths.sort()\n",
    "sub_ids = [x.split('/')[-1].split('_')[0] for x in subject_xdf_paths]\n",
    "df = pd.DataFrame({\n",
    "    'Subject': sub_ids, \n",
    "    'Date':[0] * len(sub_ids),\n",
    "    'EGI NetAmp 0':[0] * len(sub_ids),\n",
    "    'OpenSignals':[0] * len(sub_ids),\n",
    "    'WebcamStream':[0]  * len(sub_ids),\n",
    "    'Tobii':[0] * len(sub_ids),\n",
    "    'Stimuli_Markers':[0] * len(sub_ids),\n",
    "    'Microphone':[0] * len(sub_ids)})"
   ]
  },
  {
   "cell_type": "code",
   "execution_count": 3,
   "metadata": {},
   "outputs": [],
   "source": [
    "for i, subject in enumerate(sub_ids):\n",
    "    data, header = pyxdf.load_xdf(subject_xdf_paths[i])\n",
    "    streams_collected = [stream['info']['name'][0] for stream in data]\n",
    "    streams_collected\n",
    "    df.loc[df['Subject'] == subject, 'datetime'] = header['info']['datetime'][0]\n",
    "    for s in streams_collected:\n",
    "        df.loc[df['Subject'] == subject, s] = 1"
   ]
  },
  {
   "cell_type": "code",
   "execution_count": 4,
   "metadata": {},
   "outputs": [],
   "source": [
    "df['date'] = pd.to_datetime(df['datetime']).dt.date\n",
    "df.sort_values(by='date', inplace=True)"
   ]
  },
  {
   "cell_type": "code",
   "execution_count": 5,
   "metadata": {},
   "outputs": [],
   "source": [
    "df['count'] = [len(df.loc[df.date <= d]) for d in df.date]"
   ]
  },
  {
   "cell_type": "code",
   "execution_count": 11,
   "metadata": {},
   "outputs": [
    {
     "data": {
      "image/png": "[encoded data removed]",
      "text/plain": [
       "<Figure size 640x480 with 1 Axes>"
      ]
     },
     "metadata": {},
     "output_type": "display_data"
    }
   ],
   "source": [
    "sns.pointplot(x='date', y='count', data=df)\n",
    "plt.xticks(rotation=45);\n",
    "# make sure y axis is integers\n",
    "plt.yticks(np.arange(0, df['count'].max() + 1, 1));\n",
    "plt.savefig('data_collection.png')"
   ]
  },
  {
   "cell_type": "code",
   "execution_count": 17,
   "metadata": {},
   "outputs": [
    {
     "data": {
      "text/plain": [
       "Index(['Subject', 'Date', 'EGI NetAmp 0', 'OpenSignals', 'WebcamStream',\n",
       "       'Tobii', 'Stimuli_Markers', 'Microphone', 'datetime', 'date', 'count'],\n",
       "      dtype='object')"
      ]
     },
     "execution_count": 17,
     "metadata": {},
     "output_type": "execute_result"
    }
   ],
   "source": [
    "df.columns"
   ]
  },
  {
   "cell_type": "code",
   "execution_count": 9,
   "metadata": {},
   "outputs": [],
   "source": [
    "streams = ['EGI NetAmp 0', 'OpenSignals', 'WebcamStream',\n",
    "       'Tobii', 'Stimuli_Markers', 'Microphone']\n",
    "calculated_values = {}\n",
    "# Get percentage of subjects that have each stream\n",
    "calculated_values = {s: f'{df[s].sum() / len(df) * 100} %'  for s in streams}"
   ]
  },
  {
   "cell_type": "markdown",
   "metadata": {},
   "source": [
    "# Goal\n",
    "To create a pdf report with values calculated in this python code"
   ]
  },
  {
   "cell_type": "code",
   "execution_count": 7,
   "metadata": {
    "ExecuteTime": {
     "end_time": "2024-10-16T16:23:11.519334Z",
     "start_time": "2024-10-16T16:21:04.668427Z"
    }
   },
   "outputs": [],
   "source": [
    "def create_pdf(claculated_values, file_name = \"output_testfile.pdf\"):\n",
    "    pdf = FPDF()\n",
    "    pdf.set_auto_page_break(auto=True, margin=15)\n",
    "    pdf.add_page()\n",
    "    #set font for the title\n",
    "    pdf.set_font(\"Arial\", size=12)\n",
    "    #Title of the document\n",
    "    pdf.cell(200, 10, \"CUNY Data Report\",ln=True, align='C')\n",
    "    pdf.cell(200, 10, txt=\"Plot in PDF Example\", ln=True, align='C')\n",
    "\n",
    "    # Step 3: Insert the plot image into the PDF\n",
    "    # The parameters are (x-position, y-position, width, height)\n",
    "    pdf.image('data_collection.png', x=10, y=30, w=180, h=140)\n",
    "\n",
    "    # add calculated values\n",
    "    for key, value in claculated_values.items():\n",
    "        pdf.ln(2)\n",
    "        pdf.cell(200, 5, txt= f\"{key}\" + \" : \" + str(value), ln=True, align='L')\n",
    "\n",
    "    pdf.output(file_name)"
   ]
  },
  {
   "cell_type": "code",
   "execution_count": 7,
   "metadata": {
    "ExecuteTime": {
     "end_time": "2024-10-16T15:14:25.154965Z",
     "start_time": "2024-10-16T15:14:25.147739Z"
    }
   },
   "outputs": [],
   "source": [
    "a = 10\n",
    "b = 5\n",
    "sum_result = a + b\n",
    "product_result = a * b\n",
    "difference_result = a - b\n",
    "quotient_result = a / b\n",
    "\n",
    "# Store the calculated values in a dictionary\n",
    "calulated_values = {\n",
    "    \"Sum\": sum_result,\n",
    "    \"Product\": product_result,\n",
    "    \"Difference\": difference_result,\n",
    "    \"Quotient\": quotient_result\n",
    "}"
   ]
  },
  {
   "cell_type": "code",
   "execution_count": 12,
   "metadata": {
    "collapsed": false
   },
   "outputs": [],
   "source": [
    "create_pdf(calculated_values)"
   ]
  },
  {
   "cell_type": "code",
   "execution_count": null,
   "metadata": {},
   "outputs": [],
   "source": []
  }
 ],
 "metadata": {
  "kernelspec": {
   "display_name": "Python 3",
   "language": "python",
   "name": "python3"
  },
  "language_info": {
   "codemirror_mode": {
    "name": "ipython",
    "version": 3
   },
   "file_extension": ".py",
   "mimetype": "text/x-python",
   "name": "python",
   "nbconvert_exporter": "python",
   "pygments_lexer": "ipython3",
   "version": "3.12.0"
  }
 },
 "nbformat": 4,
 "nbformat_minor": 2
}
