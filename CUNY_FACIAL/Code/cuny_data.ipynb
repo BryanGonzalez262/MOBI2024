{
 "cells": [
  {
   "cell_type": "markdown",
   "metadata": {},
   "source": [
    "# 0. Imports"
   ]
  },
  {
   "cell_type": "code",
   "execution_count": 1,
   "metadata": {
    "ExecuteTime": {
     "end_time": "2024-10-16T16:20:52.821889Z",
     "start_time": "2024-10-16T16:20:52.817373Z"
    }
   },
   "outputs": [],
   "source": [
    "import pyxdf\n",
    "import pandas as pd\n",
    "import matplotlib.pyplot as plt \n",
    "import seaborn as sns \n",
    "#import wave\n",
    "#import pyaudio\n",
    "import numpy as np\n",
    "from fpdf import FPDF\n",
    "from glob import glob\n",
    "import os\n",
    "from datetime import date\n",
    "import calendar\n"
   ]
  },
  {
   "cell_type": "code",
   "execution_count": 2,
   "metadata": {},
   "outputs": [],
   "source": [
    "data_dir = '/Users/bryan.gonzalez/PycharmProjects/MOBI2024/CUNY_FACIAL/Data/real_subjects'\n",
    "subject_xdf_paths = glob(os.path.join(data_dir,'*', '*.xdf'))\n",
    "subject_xdf_paths.sort()\n",
    "sub_ids = [x.split('/')[-1].split('_')[0] for x in subject_xdf_paths]\n",
    "df = pd.DataFrame({\n",
    "    'Subject': sub_ids, \n",
    "    'Date':[0] * len(sub_ids),\n",
    "    'EGI NetAmp 0':[0] * len(sub_ids),\n",
    "    'OpenSignals':[0] * len(sub_ids),\n",
    "    'WebcamStream':[0]  * len(sub_ids),\n",
    "    'Tobii':[0] * len(sub_ids),\n",
    "    'Stimuli_Markers':[0] * len(sub_ids),\n",
    "    'Microphone':[0] * len(sub_ids)})\n",
    "\n"
   ]
  },
  {
   "cell_type": "code",
   "execution_count": 3,
   "metadata": {},
   "outputs": [],
   "source": [
    "xdfs = {}\n",
    "for i, subject in enumerate(sub_ids):\n",
    "    data, header = pyxdf.load_xdf(subject_xdf_paths[i])\n",
    "    xdfs[subject] = data\n",
    "    streams_collected = [stream['info']['name'][0] for stream in data]\n",
    "    \n",
    "    df.loc[df['Subject'] == subject, 'datetime'] = header['info']['datetime'][0]\n",
    "    for s in streams_collected:\n",
    "        df.loc[df['Subject'] == subject, s] = 1\n",
    "\n",
    "df.rename(columns={\n",
    "    'EGI NetAmp 0':'EEG', \n",
    "    'OpenSignals':'Physiology', \n",
    "    'WebcamStream':'Video', \n",
    "    'Tobii':'EyeTracker', \n",
    "    'Stimuli_Markers':'Stimuli',\n",
    "    'Microphone':'Audio'}, inplace=True)"
   ]
  },
  {
   "cell_type": "code",
   "execution_count": 4,
   "metadata": {},
   "outputs": [],
   "source": [
    "df['date'] = pd.to_datetime(df['datetime']).dt.date\n",
    "df.sort_values(by='date', inplace=True)"
   ]
  },
  {
   "cell_type": "code",
   "execution_count": 5,
   "metadata": {},
   "outputs": [],
   "source": [
    "df['count'] = [len(df.loc[df.date <= d]) for d in df.date]"
   ]
  },
  {
   "cell_type": "code",
   "execution_count": 6,
   "metadata": {},
   "outputs": [
    {
     "data": {
      "image/png": "[encoded data removed]",
      "text/plain": [
       "<Figure size 640x480 with 1 Axes>"
      ]
     },
     "metadata": {},
     "output_type": "display_data"
    }
   ],
   "source": [
    "sns.pointplot(x='date', y='count', data=df)\n",
    "plt.xticks(rotation=45);\n",
    "# give the plot a title\n",
    "\n",
    "plt.title('Total Number of Subjects over Time')\n",
    "# make sure y axis is integers\n",
    "plt.yticks(np.arange(0, df['count'].max() + 1, 1));\n",
    "plt.tight_layout()\n",
    "plt.savefig('data_collection.png')"
   ]
  },
  {
   "cell_type": "code",
   "execution_count": 7,
   "metadata": {},
   "outputs": [],
   "source": [
    "streams = ['EEG', 'Physiology', 'Video', 'EyeTracker', 'Stimuli', 'Audio']\n",
    "calculated_values = {}\n",
    "# Get percentage of subjects that have each stream\n",
    "calculated_values = {s: f'{df[s].sum() / len(df) * 100} %'  for s in streams}\n",
    "calculated_values['N'] = df.Subject.nunique()\n",
    "# Get the number of subjects in the last week\n",
    "calculated_values['n_lastweek'] = df.loc[df.date >= date.today() - pd.Timedelta(7, 'D')].Subject.nunique()\n",
    "# Get the percentage of subjects that have all 6 data streams\n",
    "calculated_values['all_streams'] = f'{len(df.loc[df[streams].sum(axis=1) == 6]) / len(df) * 100} %'\n"
   ]
  },
  {
   "cell_type": "markdown",
   "metadata": {},
   "source": [
    "## Subjects with each experimental block"
   ]
  },
  {
   "cell_type": "code",
   "execution_count": 20,
   "metadata": {},
   "outputs": [],
   "source": [
    "def get_stim(xdfs, subject):\n",
    "    data = xdfs[subject]\n",
    "    streams_collected = [stream['info']['name'][0] for stream in data]\n",
    "    stim_dat = data[streams_collected.index('Stimuli_Markers')]\n",
    "    stim_df = pd.DataFrame(stim_dat['time_series'])\n",
    "    stim_df.rename(columns={0: 'trigger'}, inplace=True)\n",
    "    events = {\n",
    "            200: 'Onset_ExperimentStart',\n",
    "            10: 'Onset_RestingState',\n",
    "            11: 'Offset_RestingState',\n",
    "            500: 'Onset_StoryListening',\n",
    "            501: 'Offset_StoryListening',\n",
    "            100: 'Onset_10second_rest',\n",
    "            101: 'Offset_10second_rest', \n",
    "            20: 'Onset_CampFriend',\n",
    "            21: 'Offset_CampFriend',\n",
    "            30: 'Onset_FrogDissection',\n",
    "            31: 'Offset_FrogDissection',\n",
    "            40: 'Onset_DanceContest',\n",
    "            41: 'Offset_DanceContest',\n",
    "            50: 'Onset_ZoomClass',\n",
    "            51: 'Offset_ZoomClass',\n",
    "            60: 'Onset_Tornado',\n",
    "            61: 'Offset_Tornado',\n",
    "            70: 'Onset_BirthdayParty',\n",
    "            71: 'Offset_BirthdayParty',\n",
    "            300: 'Onset_subjectInput',\n",
    "            301: 'Offset_subjectInput',\n",
    "            302: 'Onset_FavoriteStory',\n",
    "            303: 'Offset_FavoriteStory',\n",
    "            304: 'Onset_WorstStory',\n",
    "            305: 'Offset_WorstStory',\n",
    "            400: 'Onset_impedanceCheck',\n",
    "            401: 'Offset_impedanceCheck',\n",
    "            80: 'Onset_SocialTask',\n",
    "            81: 'Offset_SocialTask',\n",
    "            201: 'Offset_ExperimentEnd',\n",
    "        }\n",
    "\n",
    "    story_onsets = [20, 30, 40, 50, 60, 70]\n",
    "\n",
    "    # relabel the event if the trigger is in the events dictionary, else if \n",
    "    stim_df['event'] = stim_df['trigger'].apply(lambda x: events[x] if x in events.keys() else 'Bx_input')\n",
    "    # relabel the event as a psychopy timestamp if the trigger is greater than 5 digits\n",
    "    stim_df.loc[stim_df.trigger.astype(str).str.len() > 5, 'event'] = 'psychopy_time_stamp'\n",
    "    stim_df['lsl_time_stamp'] = stim_dat['time_stamps']\n",
    "    stim_df['time'] = (stim_dat['time_stamps'] - stim_dat['time_stamps'][0])/1000\n",
    "    return stim_df"
   ]
  },
  {
   "cell_type": "code",
   "execution_count": 34,
   "metadata": {},
   "outputs": [],
   "source": [
    "\n",
    "trials = ['RestingState', 'StoryListening', 'CampFriend', 'FrogDissection', 'DanceContest', 'ZoomClass', 'Tornado', 'BirthdayParty','SocialTask']\n",
    "for subject in sub_ids:\n",
    "    stim = get_stim(xdfs, subject)\n",
    "    for trial in trials:\n",
    "        # Find out if event columns contains Onset and Offset for RestingState\n",
    "        df['has_'+trial] = stim.event.str.contains('Onset_'+ trial).sum() + stim.event.str.contains('Offset_'+ trial).sum() == 2\n"
   ]
  },
  {
   "cell_type": "code",
   "execution_count": 40,
   "metadata": {},
   "outputs": [],
   "source": [
    "trials = ['RestingState', 'StoryListening', 'CampFriend', 'FrogDissection', 'DanceContest', 'ZoomClass', 'Tornado', 'BirthdayParty','SocialTask']\n",
    "\n",
    "for t in trials:\n",
    "    calculated_values['Completed '+t] =  f'{df['has_'+t].sum() / len(df) * 100} %'  "
   ]
  },
  {
   "cell_type": "markdown",
   "metadata": {},
   "source": [
    "# Goal\n",
    "To create a pdf report with values calculated in this python code"
   ]
  },
  {
   "cell_type": "code",
   "execution_count": 47,
   "metadata": {
    "ExecuteTime": {
     "end_time": "2024-10-16T16:23:11.519334Z",
     "start_time": "2024-10-16T16:21:04.668427Z"
    }
   },
   "outputs": [],
   "source": [
    "def create_pdf(values, file_name = \"output_testfile.pdf\"):\n",
    "    pdf = FPDF()\n",
    "    pdf.set_auto_page_break(auto=True, margin=15)\n",
    "    pdf.add_page()\n",
    "    #set font for the title\n",
    "    pdf.set_font(\"Arial\", size=12)\n",
    "    #Title of the document\n",
    "    today = date.today()\n",
    "    today = today.strftime(\"%B %d, %Y\")\n",
    "    pdf.set_fill_color(220, 220, 220)  # RGB values for the color\n",
    "    pdf.cell(180, 10, f\"CUNY Data Report, {calendar.day_name[date.today().weekday()]}, {today} \",ln=True, align='C', border=1, fill=True)\n",
    "    pdf.cell(180, 5, f\"N:{values['N']}\",ln=True, align='L', border=1)\n",
    "    pdf.cell(180, 5, f\"New Subjects Last Week:{values['n_lastweek']}\",ln=True, align='L', border=1)\n",
    "\n",
    "    # Step 3: Insert the plot image into the PDF\n",
    "    # The parameters are (x-position, y-position, width, height)\n",
    "    pdf.image('data_collection.png', x=90, y=20, w=100, h=80)\n",
    "    pdf.ln(75)\n",
    "    pdf.cell(180, 5, txt=\"Percentage of Subjects with each Data Stream\", ln=True, align='L', border=1, fill=True)\n",
    "    pdf.ln(3)\n",
    "    pdf.cell(180, 5, txt= f\"All 6 streams: {values['all_streams']}\", ln=True, align='L' , border=1)\n",
    "\n",
    "    # add calculated values\n",
    "    for key in ['EEG', 'Physiology', 'Video', 'EyeTracker', 'Stimuli', 'Audio']:\n",
    "        pdf.ln(3)\n",
    "        pdf.cell(180, 5, txt= f\"{key}\" + \" : \" + str(values[key]), ln=True, align='L' , border=1)\n",
    "\n",
    "    # Resting State\n",
    "    pdf.ln(5)\n",
    "    pdf.cell(180, 5, txt=f\"Completed Resting State: {values['Completed RestingState']}%\", ln=True, align='L', border=1, fill=False)\n",
    "    # Story State\n",
    "    pdf.ln(5)\n",
    "    pdf.cell(180, 5, txt=f\"Completed Story Listening: {values['Completed StoryListening']}%\", ln=True, align='L', border=1, fill=False)\n",
    "    # Resting State\n",
    "    pdf.ln(5)\n",
    "    pdf.cell(180, 5, txt=f\"Completed Social Task: {values['Completed SocialTask']}%\", ln=True, align='L', border=1, fill=False)\n",
    "\n",
    "    pdf.output(file_name)"
   ]
  },
  {
   "cell_type": "code",
   "execution_count": 48,
   "metadata": {
    "collapsed": false
   },
   "outputs": [],
   "source": [
    "create_pdf(calculated_values)"
   ]
  },
  {
   "cell_type": "code",
   "execution_count": null,
   "metadata": {},
   "outputs": [],
   "source": []
  }
 ],
 "metadata": {
  "kernelspec": {
   "display_name": "Python 3",
   "language": "python",
   "name": "python3"
  },
  "language_info": {
   "codemirror_mode": {
    "name": "ipython",
    "version": 3
   },
   "file_extension": ".py",
   "mimetype": "text/x-python",
   "name": "python",
   "nbconvert_exporter": "python",
   "pygments_lexer": "ipython3",
   "version": "3.12.0"
  }
 },
 "nbformat": 4,
 "nbformat_minor": 2
}
