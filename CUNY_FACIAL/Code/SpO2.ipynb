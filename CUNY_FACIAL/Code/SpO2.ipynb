{
 "cells": [
  {
   "cell_type": "code",
   "execution_count": 1,
   "id": "initial_id",
   "metadata": {
    "ExecuteTime": {
     "end_time": "2024-10-02T19:28:58.425105Z",
     "start_time": "2024-10-02T19:28:58.198948Z"
    },
    "collapsed": true
   },
   "outputs": [],
   "source": [
    "import pyxdf\n",
    "import pandas as pd\n",
    "import matplotlib.pyplot as plt\n",
    "import seaborn as sns\n",
    "#import pyaudio\n",
    "import numpy as np\n",
    "from scipy.signal import iirnotch, filtfilt, butter\n",
    "from glob import glob\n",
    "# Load Data"
   ]
  },
  {
   "cell_type": "code",
   "execution_count": 3,
   "id": "1f863b63e286ba36",
   "metadata": {
    "ExecuteTime": {
     "end_time": "2024-10-02T19:29:38.734484Z",
     "start_time": "2024-10-02T19:29:38.511958Z"
    },
    "collapsed": false
   },
   "outputs": [
    {
     "data": {
      "text/plain": [
       "['OpenSignals']"
      ]
     },
     "execution_count": 3,
     "metadata": {},
     "output_type": "execute_result"
    }
   ],
   "source": [
    "data, header = pyxdf.load_xdf('')\n",
    "\n",
    "#data, header = pyxdf.load_xdf('/Users/bryan.gonzalez/PycharmProjects/MOBI2024/CUNY_FACIAL/Data/sub-P001_ses-S001_task-spo2task_run-001_phsyio.xdf')\n",
    "streams_collected = [stream['info']['name'][0] for stream in data]\n",
    "streams_collected"
   ]
  },
  {
   "cell_type": "code",
   "execution_count": 4,
   "id": "5016afa9b8d81b51",
   "metadata": {
    "ExecuteTime": {
     "end_time": "2024-10-02T19:33:41.346344Z",
     "start_time": "2024-10-02T19:33:41.331361Z"
    },
    "collapsed": false
   },
   "outputs": [],
   "source": [
    "PS = data[streams_collected.index('OpenSignals')]\n",
    "# Get the column names\n",
    "column_labels = [PS['info']['desc'][0]['channels'][0]['channel'][i]['label'][0] for i in range(len(PS['info']['desc'][0]['channels'][0]['channel']))]\n",
    "ps_df = pd.DataFrame(data=PS['time_series'], columns=column_labels)\n",
    "ps_df['lsl_time_stamp'] = PS['time_stamps']\n",
    "ps_df['time'] = (PS['time_stamps'] - PS['time_stamps'][0])/1000"
   ]
  },
  {
   "cell_type": "code",
   "execution_count": 5,
   "id": "f664c935423157d2",
   "metadata": {
    "ExecuteTime": {
     "end_time": "2024-10-02T19:33:51.314742Z",
     "start_time": "2024-10-02T19:33:50.329116Z"
    },
    "collapsed": false
   },
   "outputs": [
    {
     "ename": "KeyError",
     "evalue": "'SpO2'",
     "output_type": "error",
     "traceback": [
      "\u001b[0;31m---------------------------------------------------------------------------\u001b[0m",
      "\u001b[0;31mKeyError\u001b[0m                                  Traceback (most recent call last)",
      "File \u001b[0;32m~/PycharmProjects/MoBI/venv/lib/python3.11/site-packages/pandas/core/indexes/base.py:3790\u001b[0m, in \u001b[0;36mIndex.get_loc\u001b[0;34m(self, key)\u001b[0m\n\u001b[1;32m   3789\u001b[0m \u001b[38;5;28;01mtry\u001b[39;00m:\n\u001b[0;32m-> 3790\u001b[0m     \u001b[38;5;28;01mreturn\u001b[39;00m \u001b[38;5;28;43mself\u001b[39;49m\u001b[38;5;241;43m.\u001b[39;49m\u001b[43m_engine\u001b[49m\u001b[38;5;241;43m.\u001b[39;49m\u001b[43mget_loc\u001b[49m\u001b[43m(\u001b[49m\u001b[43mcasted_key\u001b[49m\u001b[43m)\u001b[49m\n\u001b[1;32m   3791\u001b[0m \u001b[38;5;28;01mexcept\u001b[39;00m \u001b[38;5;167;01mKeyError\u001b[39;00m \u001b[38;5;28;01mas\u001b[39;00m err:\n",
      "File \u001b[0;32mindex.pyx:152\u001b[0m, in \u001b[0;36mpandas._libs.index.IndexEngine.get_loc\u001b[0;34m()\u001b[0m\n",
      "File \u001b[0;32mindex.pyx:181\u001b[0m, in \u001b[0;36mpandas._libs.index.IndexEngine.get_loc\u001b[0;34m()\u001b[0m\n",
      "File \u001b[0;32mpandas/_libs/hashtable_class_helper.pxi:7080\u001b[0m, in \u001b[0;36mpandas._libs.hashtable.PyObjectHashTable.get_item\u001b[0;34m()\u001b[0m\n",
      "File \u001b[0;32mpandas/_libs/hashtable_class_helper.pxi:7088\u001b[0m, in \u001b[0;36mpandas._libs.hashtable.PyObjectHashTable.get_item\u001b[0;34m()\u001b[0m\n",
      "\u001b[0;31mKeyError\u001b[0m: 'SpO2'",
      "\nThe above exception was the direct cause of the following exception:\n",
      "\u001b[0;31mKeyError\u001b[0m                                  Traceback (most recent call last)",
      "Cell \u001b[0;32mIn[5], line 3\u001b[0m\n\u001b[1;32m      1\u001b[0m \u001b[38;5;66;03m# Plot the data\u001b[39;00m\n\u001b[1;32m      2\u001b[0m plt\u001b[38;5;241m.\u001b[39mfigure(figsize\u001b[38;5;241m=\u001b[39m(\u001b[38;5;241m20\u001b[39m, \u001b[38;5;241m10\u001b[39m))\n\u001b[0;32m----> 3\u001b[0m plt\u001b[38;5;241m.\u001b[39mplot(ps_df[\u001b[38;5;124m'\u001b[39m\u001b[38;5;124mtime\u001b[39m\u001b[38;5;124m'\u001b[39m], \u001b[43mps_df\u001b[49m\u001b[43m[\u001b[49m\u001b[38;5;124;43m'\u001b[39;49m\u001b[38;5;124;43mSpO2\u001b[39;49m\u001b[38;5;124;43m'\u001b[39;49m\u001b[43m]\u001b[49m, label\u001b[38;5;241m=\u001b[39m\u001b[38;5;124m'\u001b[39m\u001b[38;5;124mSpO2\u001b[39m\u001b[38;5;124m'\u001b[39m)\n",
      "File \u001b[0;32m~/PycharmProjects/MoBI/venv/lib/python3.11/site-packages/pandas/core/frame.py:3893\u001b[0m, in \u001b[0;36mDataFrame.__getitem__\u001b[0;34m(self, key)\u001b[0m\n\u001b[1;32m   3891\u001b[0m \u001b[38;5;28;01mif\u001b[39;00m \u001b[38;5;28mself\u001b[39m\u001b[38;5;241m.\u001b[39mcolumns\u001b[38;5;241m.\u001b[39mnlevels \u001b[38;5;241m>\u001b[39m \u001b[38;5;241m1\u001b[39m:\n\u001b[1;32m   3892\u001b[0m     \u001b[38;5;28;01mreturn\u001b[39;00m \u001b[38;5;28mself\u001b[39m\u001b[38;5;241m.\u001b[39m_getitem_multilevel(key)\n\u001b[0;32m-> 3893\u001b[0m indexer \u001b[38;5;241m=\u001b[39m \u001b[38;5;28;43mself\u001b[39;49m\u001b[38;5;241;43m.\u001b[39;49m\u001b[43mcolumns\u001b[49m\u001b[38;5;241;43m.\u001b[39;49m\u001b[43mget_loc\u001b[49m\u001b[43m(\u001b[49m\u001b[43mkey\u001b[49m\u001b[43m)\u001b[49m\n\u001b[1;32m   3894\u001b[0m \u001b[38;5;28;01mif\u001b[39;00m is_integer(indexer):\n\u001b[1;32m   3895\u001b[0m     indexer \u001b[38;5;241m=\u001b[39m [indexer]\n",
      "File \u001b[0;32m~/PycharmProjects/MoBI/venv/lib/python3.11/site-packages/pandas/core/indexes/base.py:3797\u001b[0m, in \u001b[0;36mIndex.get_loc\u001b[0;34m(self, key)\u001b[0m\n\u001b[1;32m   3792\u001b[0m     \u001b[38;5;28;01mif\u001b[39;00m \u001b[38;5;28misinstance\u001b[39m(casted_key, \u001b[38;5;28mslice\u001b[39m) \u001b[38;5;129;01mor\u001b[39;00m (\n\u001b[1;32m   3793\u001b[0m         \u001b[38;5;28misinstance\u001b[39m(casted_key, abc\u001b[38;5;241m.\u001b[39mIterable)\n\u001b[1;32m   3794\u001b[0m         \u001b[38;5;129;01mand\u001b[39;00m \u001b[38;5;28many\u001b[39m(\u001b[38;5;28misinstance\u001b[39m(x, \u001b[38;5;28mslice\u001b[39m) \u001b[38;5;28;01mfor\u001b[39;00m x \u001b[38;5;129;01min\u001b[39;00m casted_key)\n\u001b[1;32m   3795\u001b[0m     ):\n\u001b[1;32m   3796\u001b[0m         \u001b[38;5;28;01mraise\u001b[39;00m InvalidIndexError(key)\n\u001b[0;32m-> 3797\u001b[0m     \u001b[38;5;28;01mraise\u001b[39;00m \u001b[38;5;167;01mKeyError\u001b[39;00m(key) \u001b[38;5;28;01mfrom\u001b[39;00m \u001b[38;5;21;01merr\u001b[39;00m\n\u001b[1;32m   3798\u001b[0m \u001b[38;5;28;01mexcept\u001b[39;00m \u001b[38;5;167;01mTypeError\u001b[39;00m:\n\u001b[1;32m   3799\u001b[0m     \u001b[38;5;66;03m# If we have a listlike key, _check_indexing_error will raise\u001b[39;00m\n\u001b[1;32m   3800\u001b[0m     \u001b[38;5;66;03m#  InvalidIndexError. Otherwise we fall through and re-raise\u001b[39;00m\n\u001b[1;32m   3801\u001b[0m     \u001b[38;5;66;03m#  the TypeError.\u001b[39;00m\n\u001b[1;32m   3802\u001b[0m     \u001b[38;5;28mself\u001b[39m\u001b[38;5;241m.\u001b[39m_check_indexing_error(key)\n",
      "\u001b[0;31mKeyError\u001b[0m: 'SpO2'"
     ]
    },
    {
     "data": {
      "text/plain": [
       "<Figure size 2000x1000 with 0 Axes>"
      ]
     },
     "metadata": {},
     "output_type": "display_data"
    }
   ],
   "source": [
    "# Plot the data\n",
    "plt.figure(figsize=(20, 10))\n",
    "plt.plot(ps_df['time'], ps_df['SpO2'], label='SpO2')"
   ]
  },
  {
   "cell_type": "code",
   "execution_count": 6,
   "id": "b615fc55c136fba8",
   "metadata": {
    "ExecuteTime": {
     "end_time": "2024-10-02T19:34:03.271580Z",
     "start_time": "2024-10-02T19:34:03.256952Z"
    },
    "collapsed": false
   },
   "outputs": [
    {
     "data": {
      "text/html": [
       "<div>\n",
       "<style scoped>\n",
       "    .dataframe tbody tr th:only-of-type {\n",
       "        vertical-align: middle;\n",
       "    }\n",
       "\n",
       "    .dataframe tbody tr th {\n",
       "        vertical-align: top;\n",
       "    }\n",
       "\n",
       "    .dataframe thead th {\n",
       "        text-align: right;\n",
       "    }\n",
       "</style>\n",
       "<table border=\"1\" class=\"dataframe\">\n",
       "  <thead>\n",
       "    <tr style=\"text-align: right;\">\n",
       "      <th></th>\n",
       "      <th>nSeq</th>\n",
       "      <th>RIP0</th>\n",
       "      <th>fSpO21</th>\n",
       "      <th>fSpO22</th>\n",
       "      <th>%SpO23</th>\n",
       "      <th>lsl_time_stamp</th>\n",
       "      <th>time</th>\n",
       "    </tr>\n",
       "  </thead>\n",
       "  <tbody>\n",
       "    <tr>\n",
       "      <th>0</th>\n",
       "      <td>33075.0</td>\n",
       "      <td>-2.431</td>\n",
       "      <td>1.19626</td>\n",
       "      <td>0.69800</td>\n",
       "      <td>100.0</td>\n",
       "      <td>97871.270363</td>\n",
       "      <td>0.000000</td>\n",
       "    </tr>\n",
       "    <tr>\n",
       "      <th>1</th>\n",
       "      <td>33076.0</td>\n",
       "      <td>-2.437</td>\n",
       "      <td>1.19625</td>\n",
       "      <td>0.69796</td>\n",
       "      <td>100.0</td>\n",
       "      <td>97871.272364</td>\n",
       "      <td>0.000002</td>\n",
       "    </tr>\n",
       "    <tr>\n",
       "      <th>2</th>\n",
       "      <td>33077.0</td>\n",
       "      <td>-2.437</td>\n",
       "      <td>1.19623</td>\n",
       "      <td>0.69807</td>\n",
       "      <td>100.0</td>\n",
       "      <td>97871.274364</td>\n",
       "      <td>0.000004</td>\n",
       "    </tr>\n",
       "    <tr>\n",
       "      <th>3</th>\n",
       "      <td>33078.0</td>\n",
       "      <td>-2.431</td>\n",
       "      <td>1.19619</td>\n",
       "      <td>0.69803</td>\n",
       "      <td>100.0</td>\n",
       "      <td>97871.276365</td>\n",
       "      <td>0.000006</td>\n",
       "    </tr>\n",
       "    <tr>\n",
       "      <th>4</th>\n",
       "      <td>33079.0</td>\n",
       "      <td>-2.431</td>\n",
       "      <td>1.19619</td>\n",
       "      <td>0.69800</td>\n",
       "      <td>100.0</td>\n",
       "      <td>97871.278366</td>\n",
       "      <td>0.000008</td>\n",
       "    </tr>\n",
       "    <tr>\n",
       "      <th>...</th>\n",
       "      <td>...</td>\n",
       "      <td>...</td>\n",
       "      <td>...</td>\n",
       "      <td>...</td>\n",
       "      <td>...</td>\n",
       "      <td>...</td>\n",
       "      <td>...</td>\n",
       "    </tr>\n",
       "    <tr>\n",
       "      <th>82715</th>\n",
       "      <td>115790.0</td>\n",
       "      <td>8.430</td>\n",
       "      <td>1.19637</td>\n",
       "      <td>0.73742</td>\n",
       "      <td>100.0</td>\n",
       "      <td>98036.774946</td>\n",
       "      <td>0.165505</td>\n",
       "    </tr>\n",
       "    <tr>\n",
       "      <th>82716</th>\n",
       "      <td>115791.0</td>\n",
       "      <td>8.409</td>\n",
       "      <td>1.19641</td>\n",
       "      <td>0.73735</td>\n",
       "      <td>100.0</td>\n",
       "      <td>98036.776947</td>\n",
       "      <td>0.165507</td>\n",
       "    </tr>\n",
       "    <tr>\n",
       "      <th>82717</th>\n",
       "      <td>115792.0</td>\n",
       "      <td>8.403</td>\n",
       "      <td>1.19637</td>\n",
       "      <td>0.73738</td>\n",
       "      <td>100.0</td>\n",
       "      <td>98036.778948</td>\n",
       "      <td>0.165509</td>\n",
       "    </tr>\n",
       "    <tr>\n",
       "      <th>82718</th>\n",
       "      <td>115793.0</td>\n",
       "      <td>8.377</td>\n",
       "      <td>1.19636</td>\n",
       "      <td>0.73749</td>\n",
       "      <td>100.0</td>\n",
       "      <td>98036.780948</td>\n",
       "      <td>0.165511</td>\n",
       "    </tr>\n",
       "    <tr>\n",
       "      <th>82719</th>\n",
       "      <td>115794.0</td>\n",
       "      <td>8.365</td>\n",
       "      <td>1.19637</td>\n",
       "      <td>0.73740</td>\n",
       "      <td>100.0</td>\n",
       "      <td>98036.782949</td>\n",
       "      <td>0.165513</td>\n",
       "    </tr>\n",
       "  </tbody>\n",
       "</table>\n",
       "<p>82720 rows × 7 columns</p>\n",
       "</div>"
      ],
      "text/plain": [
       "           nSeq   RIP0   fSpO21   fSpO22  %SpO23  lsl_time_stamp      time\n",
       "0       33075.0 -2.431  1.19626  0.69800   100.0    97871.270363  0.000000\n",
       "1       33076.0 -2.437  1.19625  0.69796   100.0    97871.272364  0.000002\n",
       "2       33077.0 -2.437  1.19623  0.69807   100.0    97871.274364  0.000004\n",
       "3       33078.0 -2.431  1.19619  0.69803   100.0    97871.276365  0.000006\n",
       "4       33079.0 -2.431  1.19619  0.69800   100.0    97871.278366  0.000008\n",
       "...         ...    ...      ...      ...     ...             ...       ...\n",
       "82715  115790.0  8.430  1.19637  0.73742   100.0    98036.774946  0.165505\n",
       "82716  115791.0  8.409  1.19641  0.73735   100.0    98036.776947  0.165507\n",
       "82717  115792.0  8.403  1.19637  0.73738   100.0    98036.778948  0.165509\n",
       "82718  115793.0  8.377  1.19636  0.73749   100.0    98036.780948  0.165511\n",
       "82719  115794.0  8.365  1.19637  0.73740   100.0    98036.782949  0.165513\n",
       "\n",
       "[82720 rows x 7 columns]"
      ]
     },
     "execution_count": 6,
     "metadata": {},
     "output_type": "execute_result"
    }
   ],
   "source": [
    "ps_df"
   ]
  },
  {
   "cell_type": "code",
   "execution_count": 9,
   "id": "ad09f277cfb2c49e",
   "metadata": {
    "ExecuteTime": {
     "end_time": "2024-10-02T19:38:19.651083Z",
     "start_time": "2024-10-02T19:38:19.644764Z"
    },
    "collapsed": false
   },
   "outputs": [
    {
     "data": {
      "text/plain": [
       "0.72196263"
      ]
     },
     "execution_count": 9,
     "metadata": {},
     "output_type": "execute_result"
    }
   ],
   "source": [
    "# converting units from uA \n",
    "ir_signal = ps_df['fSpO21']\n",
    "red_signal = ps_df['fSpO22']"
   ]
  },
  {
   "cell_type": "code",
   "execution_count": null,
   "id": "982cec1d62e51774",
   "metadata": {
    "collapsed": false
   },
   "outputs": [],
   "source": []
  }
 ],
 "metadata": {
  "kernelspec": {
   "display_name": "Python 3",
   "language": "python",
   "name": "python3"
  },
  "language_info": {
   "codemirror_mode": {
    "name": "ipython",
    "version": 3
   },
   "file_extension": ".py",
   "mimetype": "text/x-python",
   "name": "python",
   "nbconvert_exporter": "python",
   "pygments_lexer": "ipython3",
   "version": "3.11.3"
  }
 },
 "nbformat": 4,
 "nbformat_minor": 5
}
