{
 "cells": [
  {
   "cell_type": "markdown",
   "source": [
    "# TESTING THE EFFECT OF LUMINANCE ON PUPILOMETRY  - 6.25.24. Bryan Nathalia Test"
   ],
   "metadata": {
    "collapsed": false
   },
   "id": "36241e7ccea06b0c"
  },
  {
   "cell_type": "markdown",
   "source": [
    "## Imports"
   ],
   "metadata": {
    "collapsed": false
   },
   "id": "57630f1120f2670d"
  },
  {
   "cell_type": "code",
   "execution_count": 1,
   "id": "initial_id",
   "metadata": {
    "collapsed": true,
    "ExecuteTime": {
     "end_time": "2024-07-22T20:22:19.085220Z",
     "start_time": "2024-07-22T20:22:18.882729Z"
    }
   },
   "outputs": [],
   "source": [
    "import pingouin as pg\n",
    "import pyxdf\n",
    "import cv2\n",
    "import matplotlib.pyplot as plt\n",
    "from datetime import datetime, timedelta\n",
    "import numpy as np\n",
    "import pandas as pd\n",
    "import pingouin as pg \n",
    "import seaborn as sns"
   ]
  },
  {
   "cell_type": "code",
   "outputs": [
    {
     "name": "stderr",
     "output_type": "stream",
     "text": [
      "Stream 1: Calculated effective sampling rate 119.9949 Hz is different from specified rate 90.0000 Hz.\n"
     ]
    },
    {
     "name": "stdout",
     "output_type": "stream",
     "text": [
      "['Stimuli_Markers', 'Tobii']\n"
     ]
    }
   ],
   "source": [
    "xdf_path = \"../Data/Pilots/luminance/sub-P001_ses-S001_task-Default_run-001_eyetracking.xdf\"\n",
    "data, header = pyxdf.load_xdf(xdf_path)\n",
    "# List the streams\n",
    "streams_collected = [stream['info']['name'][0] for stream in data]\n",
    "print(streams_collected)\n",
    "stim_data = data[0]\n",
    "eye_data = data[1]"
   ],
   "metadata": {
    "collapsed": false,
    "ExecuteTime": {
     "end_time": "2024-07-22T20:22:47.779528Z",
     "start_time": "2024-07-22T20:22:47.669256Z"
    }
   },
   "id": "d585980afa3d956e",
   "execution_count": 3
  },
  {
   "cell_type": "markdown",
   "source": [
    "# Attemping Time Synchronization"
   ],
   "metadata": {
    "collapsed": false
   },
   "id": "d3d6106b2cedfaad"
  },
  {
   "cell_type": "code",
   "outputs": [
    {
     "name": "stdout",
     "output_type": "stream",
     "text": [
      "2344383.020755\n",
      "3035164.8920704434\n"
     ]
    }
   ],
   "source": [
    "print(eye_data['footer']['info']['first_timestamp'][0])\n",
    "#datetime.fromtimestamp(float(eye_data['footer']['info']['first_timestamp'][0]))\n",
    "print(eye_data['time_stamps'][0])"
   ],
   "metadata": {
    "collapsed": false,
    "ExecuteTime": {
     "end_time": "2024-07-22T20:22:53.233110Z",
     "start_time": "2024-07-22T20:22:53.229199Z"
    }
   },
   "id": "7d8ef88e79a79fde",
   "execution_count": 4
  },
  {
   "cell_type": "code",
   "outputs": [
    {
     "data": {
      "text/plain": "3035435.5768898"
     },
     "execution_count": 5,
     "metadata": {},
     "output_type": "execute_result"
    }
   ],
   "source": [
    "x = eye_data['footer']['info']['clock_offsets'][0]\n",
    "xx = x['offset']\n",
    "float(xx[-1]['time'][0]) + float(xx[-1]['value'][0])"
   ],
   "metadata": {
    "collapsed": false,
    "ExecuteTime": {
     "end_time": "2024-07-22T20:23:04.480156Z",
     "start_time": "2024-07-22T20:23:04.471956Z"
    }
   },
   "id": "e0449c6153172fda",
   "execution_count": 5
  },
  {
   "cell_type": "markdown",
   "source": [
    "# Finding the TimeStamps for Stimulus Markers"
   ],
   "metadata": {
    "collapsed": false
   },
   "id": "1ec50a39b4f89512"
  },
  {
   "cell_type": "code",
   "outputs": [
    {
     "data": {
      "text/plain": "        Event  TimeStamp_original    lsl_time\n0           1        3.035179e+06  3035178.84\n1  1721678425        3.035179e+06  3035178.84\n2           2        3.035300e+06  3035299.85\n3  1721678546        3.035300e+06  3035299.85\n4           3        3.035420e+06  3035419.85\n5  1721678666        3.035420e+06  3035419.85",
      "text/html": "<div>\n<style scoped>\n    .dataframe tbody tr th:only-of-type {\n        vertical-align: middle;\n    }\n\n    .dataframe tbody tr th {\n        vertical-align: top;\n    }\n\n    .dataframe thead th {\n        text-align: right;\n    }\n</style>\n<table border=\"1\" class=\"dataframe\">\n  <thead>\n    <tr style=\"text-align: right;\">\n      <th></th>\n      <th>Event</th>\n      <th>TimeStamp_original</th>\n      <th>lsl_time</th>\n    </tr>\n  </thead>\n  <tbody>\n    <tr>\n      <th>0</th>\n      <td>1</td>\n      <td>3.035179e+06</td>\n      <td>3035178.84</td>\n    </tr>\n    <tr>\n      <th>1</th>\n      <td>1721678425</td>\n      <td>3.035179e+06</td>\n      <td>3035178.84</td>\n    </tr>\n    <tr>\n      <th>2</th>\n      <td>2</td>\n      <td>3.035300e+06</td>\n      <td>3035299.85</td>\n    </tr>\n    <tr>\n      <th>3</th>\n      <td>1721678546</td>\n      <td>3.035300e+06</td>\n      <td>3035299.85</td>\n    </tr>\n    <tr>\n      <th>4</th>\n      <td>3</td>\n      <td>3.035420e+06</td>\n      <td>3035419.85</td>\n    </tr>\n    <tr>\n      <th>5</th>\n      <td>1721678666</td>\n      <td>3.035420e+06</td>\n      <td>3035419.85</td>\n    </tr>\n  </tbody>\n</table>\n</div>"
     },
     "execution_count": 6,
     "metadata": {},
     "output_type": "execute_result"
    }
   ],
   "source": [
    "events = pd.Series([x[0] for x in stim_data['time_series']], name='Event')\n",
    "event_times = pd.Series([x for x in stim_data['time_stamps']], name='TimeStamp_original')\n",
    "# Combining the two series into a DataFrame\n",
    "stim_df = pd.concat([events, event_times], axis=1)\n",
    "stim_df['lsl_time'] = stim_df['TimeStamp_original'].apply(lambda x: round(x, 2))\n",
    "stim_df"
   ],
   "metadata": {
    "collapsed": false,
    "ExecuteTime": {
     "end_time": "2024-07-22T20:23:25.830658Z",
     "start_time": "2024-07-22T20:23:25.813378Z"
    }
   },
   "id": "fb3e87e41858277d",
   "execution_count": 6
  },
  {
   "cell_type": "markdown",
   "source": [
    "We only care about events 1,2,3 as they correspond to the beginning , the switch, and the end"
   ],
   "metadata": {
    "collapsed": false
   },
   "id": "4896741117bf006b"
  },
  {
   "cell_type": "markdown",
   "source": [
    "## Creating the EyeTracking Dataframe"
   ],
   "metadata": {
    "collapsed": false
   },
   "id": "95db8a49380672e9"
  },
  {
   "cell_type": "code",
   "outputs": [],
   "source": [
    "# Get the column names\n",
    "column_labels = [eye_data['info']['desc'][0]['channels'][0]['channel'][i]['label'][0] for i in range(len(eye_data['info']['desc'][0]['channels'][0]['channel']))]\n",
    "\n",
    "eyes = pd.DataFrame(eye_data['time_series'], columns=column_labels)\n",
    "# adding the the timestamps\n",
    "eyes['lsl_time_og'] = eye_data['time_stamps']\n",
    "eyes['lsl_time'] = eyes['lsl_time_og'].apply(lambda x: round(x, 2))"
   ],
   "metadata": {
    "collapsed": false,
    "ExecuteTime": {
     "end_time": "2024-07-22T20:25:31.260398Z",
     "start_time": "2024-07-22T20:25:31.228107Z"
    }
   },
   "id": "ec24986868da902f",
   "execution_count": 7
  },
  {
   "cell_type": "code",
   "outputs": [],
   "source": [
    "# Finding the indices for the start of the gray, switch, and green\n",
    "gray_start_idx = eyes.loc[eyes.lsl_time == stim_df.loc[stim_df.Event == 1].lsl_time.values[0]].index[0]\n",
    "switch_idx = eyes.loc[eyes.lsl_time == stim_df.loc[stim_df.Event == 2].lsl_time.values[0]].index[0]\n",
    "green_end_idx = gray_start = eyes.loc[eyes.lsl_time == stim_df.loc[stim_df.Event == 3].lsl_time.values[0]].index[0]"
   ],
   "metadata": {
    "collapsed": false,
    "ExecuteTime": {
     "end_time": "2024-07-22T20:25:37.435149Z",
     "start_time": "2024-07-22T20:25:37.428235Z"
    }
   },
   "id": "80d6753fa3b0ebf7",
   "execution_count": 8
  },
  {
   "cell_type": "markdown",
   "source": [
    "# Splitting the data into the two conditions\n"
   ],
   "metadata": {
    "collapsed": false
   },
   "id": "e015f4f55f336eaa"
  },
  {
   "cell_type": "code",
   "outputs": [],
   "source": [
    "eyes.loc[gray_start_idx:switch_idx, 'Condition'] = 'Gray'\n",
    "eyes.loc[switch_idx:green_end_idx, 'Condition'] = 'Green'\n",
    "\n",
    "# Adding the markers\n",
    "eyes['stim_markers'] = False\n",
    "eyes.loc[gray_start_idx, 'stim_markers'] = True\n",
    "eyes.loc[switch_idx, 'stim_markers'] = True\n",
    "eyes.loc[green_end_idx, 'stim_markers'] = True\n"
   ],
   "metadata": {
    "collapsed": false,
    "ExecuteTime": {
     "end_time": "2024-07-22T20:25:45.744513Z",
     "start_time": "2024-07-22T20:25:45.734131Z"
    }
   },
   "id": "c255133141ddc271",
   "execution_count": 9
  },
  {
   "cell_type": "code",
   "outputs": [],
   "source": [],
   "metadata": {
    "collapsed": false,
    "ExecuteTime": {
     "end_time": "2024-07-22T20:25:47.536890Z",
     "start_time": "2024-07-22T20:25:47.534674Z"
    }
   },
   "id": "7c6dcbf7ac2f2f1b",
   "execution_count": 9
  },
  {
   "cell_type": "markdown",
   "source": [
    "## Left eye"
   ],
   "metadata": {
    "collapsed": false
   },
   "id": "955a775be525ab30"
  },
  {
   "cell_type": "code",
   "outputs": [
    {
     "data": {
      "text/plain": "<seaborn.axisgrid.FacetGrid at 0x15ee77950>"
     },
     "execution_count": 10,
     "metadata": {},
     "output_type": "execute_result"
    },
    {
     "data": {
      "text/plain": "<Figure size 588.625x500 with 1 Axes>",
      "image/png": "[encoded data removed]"
     },
     "metadata": {},
     "output_type": "display_data"
    }
   ],
   "source": [
    "clr_palette = ['#808080', '#0CAF04']\n",
    "sns.displot(data=eyes, x='left_pupil_diameter', hue='Condition', kind='hist', palette=clr_palette)"
   ],
   "metadata": {
    "collapsed": false,
    "ExecuteTime": {
     "end_time": "2024-07-22T20:25:58.187793Z",
     "start_time": "2024-07-22T20:25:57.771659Z"
    }
   },
   "id": "2011e62659998f7b",
   "execution_count": 10
  },
  {
   "cell_type": "code",
   "outputs": [
    {
     "data": {
      "text/plain": "              T         dof alternative         p-val          CI95%  \\\nT-test -7.10646  204.736176   two-sided  1.939467e-11  [-0.53, -0.3]   \n\n         cohen-d       BF10  power  \nT-test  0.955896  4.439e+08    1.0  ",
      "text/html": "<div>\n<style scoped>\n    .dataframe tbody tr th:only-of-type {\n        vertical-align: middle;\n    }\n\n    .dataframe tbody tr th {\n        vertical-align: top;\n    }\n\n    .dataframe thead th {\n        text-align: right;\n    }\n</style>\n<table border=\"1\" class=\"dataframe\">\n  <thead>\n    <tr style=\"text-align: right;\">\n      <th></th>\n      <th>T</th>\n      <th>dof</th>\n      <th>alternative</th>\n      <th>p-val</th>\n      <th>CI95%</th>\n      <th>cohen-d</th>\n      <th>BF10</th>\n      <th>power</th>\n    </tr>\n  </thead>\n  <tbody>\n    <tr>\n      <th>T-test</th>\n      <td>-7.10646</td>\n      <td>204.736176</td>\n      <td>two-sided</td>\n      <td>1.939467e-11</td>\n      <td>[-0.53, -0.3]</td>\n      <td>0.955896</td>\n      <td>4.439e+08</td>\n      <td>1.0</td>\n    </tr>\n  </tbody>\n</table>\n</div>"
     },
     "execution_count": 11,
     "metadata": {},
     "output_type": "execute_result"
    }
   ],
   "source": [
    "left_gray = eyes.loc[eyes.Condition== 'Gray', 'left_pupil_diameter'][::120]\n",
    "left_green = eyes.loc[eyes.Condition== 'Green','left_pupil_diameter'][::120]\n",
    "pg.ttest(left_gray[10:], left_green[10:]) # dropping the first 10 seconds"
   ],
   "metadata": {
    "collapsed": false,
    "ExecuteTime": {
     "end_time": "2024-07-22T20:26:14.831263Z",
     "start_time": "2024-07-22T20:26:14.808901Z"
    }
   },
   "id": "998981ef65da5544",
   "execution_count": 11
  },
  {
   "cell_type": "markdown",
   "source": [
    "## Right eye"
   ],
   "metadata": {
    "collapsed": false
   },
   "id": "9329d3233447c69f"
  },
  {
   "cell_type": "code",
   "outputs": [
    {
     "data": {
      "text/plain": "               T  dof alternative         p-val           CI95%   cohen-d  \\\nT-test -6.580231  220   two-sided  3.386802e-10  [-0.44, -0.24]  0.883272   \n\n             BF10     power  \nT-test  2.528e+07  0.999998  ",
      "text/html": "<div>\n<style scoped>\n    .dataframe tbody tr th:only-of-type {\n        vertical-align: middle;\n    }\n\n    .dataframe tbody tr th {\n        vertical-align: top;\n    }\n\n    .dataframe thead th {\n        text-align: right;\n    }\n</style>\n<table border=\"1\" class=\"dataframe\">\n  <thead>\n    <tr style=\"text-align: right;\">\n      <th></th>\n      <th>T</th>\n      <th>dof</th>\n      <th>alternative</th>\n      <th>p-val</th>\n      <th>CI95%</th>\n      <th>cohen-d</th>\n      <th>BF10</th>\n      <th>power</th>\n    </tr>\n  </thead>\n  <tbody>\n    <tr>\n      <th>T-test</th>\n      <td>-6.580231</td>\n      <td>220</td>\n      <td>two-sided</td>\n      <td>3.386802e-10</td>\n      <td>[-0.44, -0.24]</td>\n      <td>0.883272</td>\n      <td>2.528e+07</td>\n      <td>0.999998</td>\n    </tr>\n  </tbody>\n</table>\n</div>"
     },
     "execution_count": 12,
     "metadata": {},
     "output_type": "execute_result"
    }
   ],
   "source": [
    "right_gray = eyes.loc[eyes.Condition== 'Gray', 'right_pupil_diameter'][::120]\n",
    "right_green = eyes.loc[eyes.Condition== 'Green','right_pupil_diameter'][::120]\n",
    "pg.ttest(right_gray[10:], right_green[10:])"
   ],
   "metadata": {
    "collapsed": false,
    "ExecuteTime": {
     "end_time": "2024-07-22T20:27:36.086268Z",
     "start_time": "2024-07-22T20:27:36.069167Z"
    }
   },
   "id": "5a256085b8907543",
   "execution_count": 12
  },
  {
   "cell_type": "code",
   "outputs": [
    {
     "data": {
      "text/plain": "<seaborn.axisgrid.FacetGrid at 0x15f035c90>"
     },
     "execution_count": 13,
     "metadata": {},
     "output_type": "execute_result"
    },
    {
     "data": {
      "text/plain": "<Figure size 588.625x500 with 1 Axes>",
      "image/png": "[encoded data removed]"
     },
     "metadata": {},
     "output_type": "display_data"
    }
   ],
   "source": [
    "clr_palette = ['#808080', '#0CAF04']\n",
    "sns.displot(data=eyes, x='right_pupil_diameter', hue='Condition', kind='hist', palette=clr_palette)"
   ],
   "metadata": {
    "collapsed": false,
    "ExecuteTime": {
     "end_time": "2024-07-22T21:47:51.388656Z",
     "start_time": "2024-07-22T21:47:51.046525Z"
    }
   },
   "id": "e86cf4b9c75571e9",
   "execution_count": 13
  },
  {
   "cell_type": "markdown",
   "source": [
    "# Simulation"
   ],
   "metadata": {
    "collapsed": false
   },
   "id": "32fa4a20b205dc92"
  },
  {
   "cell_type": "code",
   "outputs": [],
   "source": [
    "# Function to calculate luminance from RGB\n",
    "def calculate_luminance(r, g, b):\n",
    "    luminance = 0.2126 * r + 0.7152 * g + 0.0722 * b\n",
    "    return luminance"
   ],
   "metadata": {
    "collapsed": false,
    "ExecuteTime": {
     "end_time": "2024-06-26T20:52:53.662793Z",
     "start_time": "2024-06-26T20:52:53.659616Z"
    }
   },
   "id": "9ee488fe51b88009",
   "execution_count": 30
  },
  {
   "cell_type": "code",
   "outputs": [
    {
     "name": "stdout",
     "output_type": "stream",
     "text": [
      "128.0\n",
      "128.2206\n"
     ]
    }
   ],
   "source": [
    "gray_luminance = calculate_luminance(128, 128, 128) \n",
    "green_luminance = calculate_luminance(11, 175, 10) \n",
    "print(gray_luminance)\n",
    "print(green_luminance)"
   ],
   "metadata": {
    "collapsed": false,
    "ExecuteTime": {
     "end_time": "2024-06-26T20:58:57.848640Z",
     "start_time": "2024-06-26T20:58:57.844793Z"
    }
   },
   "id": "25c64a8d91608073",
   "execution_count": 45
  },
  {
   "cell_type": "code",
   "outputs": [],
   "source": [],
   "metadata": {
    "collapsed": false
   },
   "id": "89852d417e13bbb8"
  }
 ],
 "metadata": {
  "kernelspec": {
   "display_name": "Python 3",
   "language": "python",
   "name": "python3"
  },
  "language_info": {
   "codemirror_mode": {
    "name": "ipython",
    "version": 2
   },
   "file_extension": ".py",
   "mimetype": "text/x-python",
   "name": "python",
   "nbconvert_exporter": "python",
   "pygments_lexer": "ipython2",
   "version": "2.7.6"
  }
 },
 "nbformat": 4,
 "nbformat_minor": 5
}
