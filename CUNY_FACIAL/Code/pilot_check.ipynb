{
 "cells": [
  {
   "attachments": {},
   "cell_type": "markdown",
   "metadata": {},
   "source": [
    "# Imports"
   ]
  },
  {
   "cell_type": "code",
   "execution_count": 1,
   "metadata": {
    "ExecuteTime": {
     "end_time": "2024-10-18T20:08:53.019704Z",
     "start_time": "2024-10-18T20:08:51.336535Z"
    }
   },
   "outputs": [],
   "source": [
    "import pyxdf\n",
    "import pandas as pd\n",
    "import matplotlib.pyplot as plt \n",
    "import seaborn as sns \n",
    "import wave\n",
    "#import pyaudio\n",
    "import numpy as np\n",
    "import sounddevice as sd\n",
    "import cv2\n",
    "from scipy.signal import iirnotch, filtfilt\n",
    "from glob import glob\n",
    "from tqdm import tqdm"
   ]
  },
  {
   "attachments": {},
   "cell_type": "markdown",
   "metadata": {},
   "source": [
    "# Load Data"
   ]
  },
  {
   "cell_type": "code",
   "execution_count": null,
   "metadata": {},
   "outputs": [],
   "source": [
    "sub_files = glob('../Data/real_subjects/*/*.xdf')\n",
    "sub_files"
   ]
  },
  {
   "cell_type": "code",
   "execution_count": 2,
   "metadata": {
    "ExecuteTime": {
     "end_time": "2024-10-18T20:11:29.428824Z",
     "start_time": "2024-10-18T20:09:11.650891Z"
    }
   },
   "outputs": [
    {
     "data": {
      "text/plain": [
       "['Tobii', 'WebcamStream', 'Stimuli_Markers']"
      ]
     },
     "execution_count": 2,
     "metadata": {},
     "output_type": "execute_result"
    }
   ],
   "source": [
    "xdf_path = \"/Users/bryan.gonzalez/PycharmProjects/MOBI2024/CUNY_FACIAL/Data/sub-P001_ses-S001_task-CUNY_run-001_CamTobii.xdf\"\n",
    "#xdf_path = sub_files[0]\n",
    "data, header = pyxdf.load_xdf(xdf_path)\n",
    "streams_collected = [stream['info']['name'][0] for stream in data]\n",
    "\n",
    "\n",
    "'''\n",
    "HELPERS\n",
    "'''\n",
    "def get_event_data(event, df, stim_df):\n",
    "    return df.loc[(df.lsl_time_stamp >= stim_df.loc[stim_df.event == 'Onset_'+event, 'lsl_time_stamp'].values[0]) & \n",
    "                  (df.lsl_time_stamp <= stim_df.loc[stim_df.event == 'Offset_'+event, 'lsl_time_stamp'].values[0])]\n",
    "\n",
    "def get_secs_between_triggers(trigger1, trigger2, stim_df):\n",
    "    return stim_df.loc[stim_df.trigger == trigger1, 'time'].values[0] - stim_df.loc[stim_df.trigger == trigger2, 'time'].values[0]\n",
    "\n",
    "                  \n",
    "streams_collected"
   ]
  },
  {
   "attachments": {},
   "cell_type": "markdown",
   "metadata": {},
   "source": [
    "# Stimulus"
   ]
  },
  {
   "cell_type": "code",
   "execution_count": 3,
   "metadata": {
    "ExecuteTime": {
     "end_time": "2024-10-18T20:22:12.750010Z",
     "start_time": "2024-10-18T20:22:12.690014Z"
    }
   },
   "outputs": [
    {
     "data": {
      "text/html": [
       "<div>\n",
       "<style scoped>\n",
       "    .dataframe tbody tr th:only-of-type {\n",
       "        vertical-align: middle;\n",
       "    }\n",
       "\n",
       "    .dataframe tbody tr th {\n",
       "        vertical-align: top;\n",
       "    }\n",
       "\n",
       "    .dataframe thead th {\n",
       "        text-align: right;\n",
       "    }\n",
       "</style>\n",
       "<table border=\"1\" class=\"dataframe\">\n",
       "  <thead>\n",
       "    <tr style=\"text-align: right;\">\n",
       "      <th></th>\n",
       "      <th>trigger</th>\n",
       "      <th>event</th>\n",
       "      <th>lsl_time_stamp</th>\n",
       "      <th>time</th>\n",
       "    </tr>\n",
       "  </thead>\n",
       "  <tbody>\n",
       "    <tr>\n",
       "      <th>0</th>\n",
       "      <td>200</td>\n",
       "      <td>Onset_Experiment</td>\n",
       "      <td>637474.985758</td>\n",
       "      <td>0.000000e+00</td>\n",
       "    </tr>\n",
       "    <tr>\n",
       "      <th>1</th>\n",
       "      <td>1730474426</td>\n",
       "      <td>psychopy_time_stamp</td>\n",
       "      <td>637474.985768</td>\n",
       "      <td>1.010019e-08</td>\n",
       "    </tr>\n",
       "    <tr>\n",
       "      <th>2</th>\n",
       "      <td>10</td>\n",
       "      <td>Onset_RestingState</td>\n",
       "      <td>637483.142726</td>\n",
       "      <td>8.156967e-03</td>\n",
       "    </tr>\n",
       "    <tr>\n",
       "      <th>3</th>\n",
       "      <td>1730474434</td>\n",
       "      <td>psychopy_time_stamp</td>\n",
       "      <td>637483.142735</td>\n",
       "      <td>8.156977e-03</td>\n",
       "    </tr>\n",
       "    <tr>\n",
       "      <th>4</th>\n",
       "      <td>11</td>\n",
       "      <td>Offset_RestingState</td>\n",
       "      <td>637783.141070</td>\n",
       "      <td>3.081553e-01</td>\n",
       "    </tr>\n",
       "    <tr>\n",
       "      <th>...</th>\n",
       "      <td>...</td>\n",
       "      <td>...</td>\n",
       "      <td>...</td>\n",
       "      <td>...</td>\n",
       "    </tr>\n",
       "    <tr>\n",
       "      <th>256</th>\n",
       "      <td>1730476178</td>\n",
       "      <td>psychopy_time_stamp</td>\n",
       "      <td>639226.231372</td>\n",
       "      <td>1.751246e+00</td>\n",
       "    </tr>\n",
       "    <tr>\n",
       "      <th>257</th>\n",
       "      <td>201</td>\n",
       "      <td>Offset_Experiment</td>\n",
       "      <td>639231.222340</td>\n",
       "      <td>1.756237e+00</td>\n",
       "    </tr>\n",
       "    <tr>\n",
       "      <th>258</th>\n",
       "      <td>1730476183</td>\n",
       "      <td>psychopy_time_stamp</td>\n",
       "      <td>639231.222350</td>\n",
       "      <td>1.756237e+00</td>\n",
       "    </tr>\n",
       "    <tr>\n",
       "      <th>259</th>\n",
       "      <td>4</td>\n",
       "      <td>Bx_input</td>\n",
       "      <td>639231.222408</td>\n",
       "      <td>1.756237e+00</td>\n",
       "    </tr>\n",
       "    <tr>\n",
       "      <th>260</th>\n",
       "      <td>1730476183</td>\n",
       "      <td>psychopy_time_stamp</td>\n",
       "      <td>639231.222409</td>\n",
       "      <td>1.756237e+00</td>\n",
       "    </tr>\n",
       "  </tbody>\n",
       "</table>\n",
       "<p>261 rows × 4 columns</p>\n",
       "</div>"
      ],
      "text/plain": [
       "        trigger                event  lsl_time_stamp          time\n",
       "0           200     Onset_Experiment   637474.985758  0.000000e+00\n",
       "1    1730474426  psychopy_time_stamp   637474.985768  1.010019e-08\n",
       "2            10   Onset_RestingState   637483.142726  8.156967e-03\n",
       "3    1730474434  psychopy_time_stamp   637483.142735  8.156977e-03\n",
       "4            11  Offset_RestingState   637783.141070  3.081553e-01\n",
       "..          ...                  ...             ...           ...\n",
       "256  1730476178  psychopy_time_stamp   639226.231372  1.751246e+00\n",
       "257         201    Offset_Experiment   639231.222340  1.756237e+00\n",
       "258  1730476183  psychopy_time_stamp   639231.222350  1.756237e+00\n",
       "259           4             Bx_input   639231.222408  1.756237e+00\n",
       "260  1730476183  psychopy_time_stamp   639231.222409  1.756237e+00\n",
       "\n",
       "[261 rows x 4 columns]"
      ]
     },
     "execution_count": 3,
     "metadata": {},
     "output_type": "execute_result"
    }
   ],
   "source": [
    "stim_dat = data[streams_collected.index('Stimuli_Markers')]\n",
    "stim_df = pd.DataFrame(stim_dat['time_series'])\n",
    "stim_df.rename(columns={0: 'trigger'}, inplace=True)\n",
    "events = {\n",
    "    200: 'Onset_Experiment',\n",
    "    10: 'Onset_RestingState',\n",
    "    11: 'Offset_RestingState',\n",
    "    500: 'Onset_StoryListening',\n",
    "    501: 'Offset_StoryListening',\n",
    "    100: 'Onset_10second_rest',\n",
    "    101: 'Offset_10second_rest', \n",
    "    20: 'Onset_CampFriend',\n",
    "    21: 'Offset_CampFriend',\n",
    "    30: 'Onset_FrogDissection',\n",
    "    31: 'Offset_FrogDissection',\n",
    "    40: 'Onset_DanceContest',\n",
    "    41: 'Offset_DanceContest',\n",
    "    50: 'Onset_ZoomClass',\n",
    "    51: 'Offset_ZoomClass',\n",
    "    60: 'Onset_Tornado',\n",
    "    61: 'Offset_Tornado',\n",
    "    70: 'Onset_BirthdayParty',\n",
    "    71: 'Offset_BirthdayParty',\n",
    "    300: 'Onset_subjectInput',\n",
    "    301: 'Offset_subjectInput',\n",
    "    302: 'Onset_FavoriteStory',\n",
    "    303: 'Offset_FavoriteStory',\n",
    "    304: 'Onset_WorstStory',\n",
    "    305: 'Offset_WorstStory',\n",
    "    400: 'Onset_impedanceCheck',\n",
    "    401: 'Offset_impedanceCheck',\n",
    "    80: 'Onset_SocialTask',\n",
    "    81: 'Offset_SocialTask',\n",
    "    201: 'Offset_Experiment',\n",
    "}\n",
    "\n",
    "story_onsets = [20, 30, 40, 50, 60, 70]\n",
    "\n",
    "# relabel the event if the trigger is in the events dictionary, else if \n",
    "stim_df['event'] = stim_df['trigger'].apply(lambda x: events[x] if x in events.keys() else 'Bx_input')\n",
    "\n",
    "# relabel the event as a psychopy timestamp if the trigger is greater than 5 digits\n",
    "stim_df.loc[stim_df.trigger.astype(str).str.len() > 5, 'event'] = 'psychopy_time_stamp'\n",
    "stim_df['lsl_time_stamp'] = stim_dat['time_stamps']\n",
    "stim_df['time'] = (stim_dat['time_stamps'] - stim_dat['time_stamps'][0])/1000\n",
    "stim_df"
   ]
  },
  {
   "cell_type": "markdown",
   "metadata": {},
   "source": [
    "## Compare time between Onset/ Offset event triggers and the stimulus durations"
   ]
  },
  {
   "cell_type": "code",
   "execution_count": null,
   "metadata": {},
   "outputs": [],
   "source": [
    "files= [\n",
    "    \"../audio_files/audio_files/After_Searching_I_Found_and_Met_My_Birth_Mother.wav\",\n",
    "    \"../audio_files/audio_files/Camp_Lose_A_Friend.wav\",\n",
    "    \"../audio_files/audio_files/Frog_Dissection_Disaster.wav\",\n",
    "    \"../audio_files/audio_files/I_Decided_To_Be_Myself_And_Won_A_Dance_Contest.wav\",\n",
    "    \"../audio_files/audio_files/I_Fully_Embarrassed_Myself_In_Zoom_Class1.wav\",\n",
    "    \"../audio_files/audio_files/Left_Home_Alone_in_a_Tornado.wav\",\n",
    "    \"../audio_files/audio_files/The_Birthday_Party_Prank.wav\",\n",
    "    \"../audio_files/audio_files/My_Dad_Saw_Me_Wearing_Glitter_At_School.wav\"\n",
    "]\n",
    "\n",
    "\n",
    "durations = pd.DataFrame({\n",
    "    'trigger':story_onsets,\n",
    "    'story':[events[x] for x in story_onsets],\n",
    "    'lsl_duration': [get_secs_between_triggers(x+1, x) for x in story_onsets],\n",
    "    'audiofile_duration': [wave.open(x).getnframes()/wave.open(x).getframerate() for x in files] #duration of audio file is number of frames divided by the frame rate.\n",
    "})\n",
    "\n",
    "durations['difference(sec)'] = durations['audiofile_duration'] - durations['lsl_duration']\n",
    "durations"
   ]
  },
  {
   "cell_type": "markdown",
   "metadata": {
    "collapsed": false
   },
   "source": [
    "# Making sure durations are correct for each stream"
   ]
  },
  {
   "cell_type": "code",
   "execution_count": 4,
   "metadata": {
    "ExecuteTime": {
     "end_time": "2024-10-16T15:06:40.769042Z",
     "start_time": "2024-10-16T15:06:40.763403Z"
    },
    "collapsed": false
   },
   "outputs": [
    {
     "data": {
      "text/plain": [
       "np.float64(1756.2365816617385)"
      ]
     },
     "execution_count": 4,
     "metadata": {},
     "output_type": "execute_result"
    }
   ],
   "source": [
    "exp_start = stim_df.loc[stim_df.event == 'Onset_Experiment', 'lsl_time_stamp'].values[0]\n",
    "exp_end = stim_df.loc[stim_df.event == 'Offset_Experiment', 'lsl_time_stamp'].values[0]\n",
    "exp_dur = exp_end - exp_start\n",
    "exp_dur"
   ]
  },
  {
   "cell_type": "code",
   "execution_count": 5,
   "metadata": {},
   "outputs": [
    {
     "data": {
      "text/html": [
       "<div>\n",
       "<style scoped>\n",
       "    .dataframe tbody tr th:only-of-type {\n",
       "        vertical-align: middle;\n",
       "    }\n",
       "\n",
       "    .dataframe tbody tr th {\n",
       "        vertical-align: top;\n",
       "    }\n",
       "\n",
       "    .dataframe thead th {\n",
       "        text-align: right;\n",
       "    }\n",
       "</style>\n",
       "<table border=\"1\" class=\"dataframe\">\n",
       "  <thead>\n",
       "    <tr style=\"text-align: right;\">\n",
       "      <th></th>\n",
       "      <th>device_time_stamp</th>\n",
       "      <th>left_gaze_origin_validity</th>\n",
       "      <th>right_gaze_origin_validity</th>\n",
       "      <th>left_gaze_origin_in_user_coordinate_system_0</th>\n",
       "      <th>left_gaze_origin_in_user_coordinate_system_1</th>\n",
       "      <th>left_gaze_origin_in_user_coordinate_system_2</th>\n",
       "      <th>right_gaze_origin_in_user_coordinate_system_0</th>\n",
       "      <th>right_gaze_origin_in_user_coordinate_system_1</th>\n",
       "      <th>right_gaze_origin_in_user_coordinate_system_2</th>\n",
       "      <th>left_gaze_origin_in_trackbox_coordinate_system_0</th>\n",
       "      <th>...</th>\n",
       "      <th>left_gaze_point_on_display_area_0</th>\n",
       "      <th>left_gaze_point_on_display_area_1</th>\n",
       "      <th>right_gaze_point_on_display_area_0</th>\n",
       "      <th>right_gaze_point_on_display_area_1</th>\n",
       "      <th>left_pupil_validity</th>\n",
       "      <th>right_pupil_validity</th>\n",
       "      <th>left_pupil_diameter</th>\n",
       "      <th>right_pupil_diameter</th>\n",
       "      <th>lsl_time_stamp</th>\n",
       "      <th>time</th>\n",
       "    </tr>\n",
       "  </thead>\n",
       "  <tbody>\n",
       "    <tr>\n",
       "      <th>0</th>\n",
       "      <td>183272352.0</td>\n",
       "      <td>0.0</td>\n",
       "      <td>0.0</td>\n",
       "      <td>NaN</td>\n",
       "      <td>NaN</td>\n",
       "      <td>NaN</td>\n",
       "      <td>NaN</td>\n",
       "      <td>NaN</td>\n",
       "      <td>NaN</td>\n",
       "      <td>NaN</td>\n",
       "      <td>...</td>\n",
       "      <td>NaN</td>\n",
       "      <td>NaN</td>\n",
       "      <td>NaN</td>\n",
       "      <td>NaN</td>\n",
       "      <td>0.0</td>\n",
       "      <td>0.0</td>\n",
       "      <td>NaN</td>\n",
       "      <td>NaN</td>\n",
       "      <td>637475.376556</td>\n",
       "      <td>0.000000</td>\n",
       "    </tr>\n",
       "    <tr>\n",
       "      <th>1</th>\n",
       "      <td>183280688.0</td>\n",
       "      <td>0.0</td>\n",
       "      <td>0.0</td>\n",
       "      <td>NaN</td>\n",
       "      <td>NaN</td>\n",
       "      <td>NaN</td>\n",
       "      <td>NaN</td>\n",
       "      <td>NaN</td>\n",
       "      <td>NaN</td>\n",
       "      <td>NaN</td>\n",
       "      <td>...</td>\n",
       "      <td>NaN</td>\n",
       "      <td>NaN</td>\n",
       "      <td>NaN</td>\n",
       "      <td>NaN</td>\n",
       "      <td>0.0</td>\n",
       "      <td>0.0</td>\n",
       "      <td>NaN</td>\n",
       "      <td>NaN</td>\n",
       "      <td>637475.384889</td>\n",
       "      <td>0.000008</td>\n",
       "    </tr>\n",
       "    <tr>\n",
       "      <th>2</th>\n",
       "      <td>183289024.0</td>\n",
       "      <td>0.0</td>\n",
       "      <td>0.0</td>\n",
       "      <td>NaN</td>\n",
       "      <td>NaN</td>\n",
       "      <td>NaN</td>\n",
       "      <td>NaN</td>\n",
       "      <td>NaN</td>\n",
       "      <td>NaN</td>\n",
       "      <td>NaN</td>\n",
       "      <td>...</td>\n",
       "      <td>NaN</td>\n",
       "      <td>NaN</td>\n",
       "      <td>NaN</td>\n",
       "      <td>NaN</td>\n",
       "      <td>0.0</td>\n",
       "      <td>0.0</td>\n",
       "      <td>NaN</td>\n",
       "      <td>NaN</td>\n",
       "      <td>637475.393223</td>\n",
       "      <td>0.000017</td>\n",
       "    </tr>\n",
       "    <tr>\n",
       "      <th>3</th>\n",
       "      <td>183297344.0</td>\n",
       "      <td>0.0</td>\n",
       "      <td>0.0</td>\n",
       "      <td>NaN</td>\n",
       "      <td>NaN</td>\n",
       "      <td>NaN</td>\n",
       "      <td>NaN</td>\n",
       "      <td>NaN</td>\n",
       "      <td>NaN</td>\n",
       "      <td>NaN</td>\n",
       "      <td>...</td>\n",
       "      <td>NaN</td>\n",
       "      <td>NaN</td>\n",
       "      <td>NaN</td>\n",
       "      <td>NaN</td>\n",
       "      <td>0.0</td>\n",
       "      <td>0.0</td>\n",
       "      <td>NaN</td>\n",
       "      <td>NaN</td>\n",
       "      <td>637475.401557</td>\n",
       "      <td>0.000025</td>\n",
       "    </tr>\n",
       "    <tr>\n",
       "      <th>4</th>\n",
       "      <td>183305680.0</td>\n",
       "      <td>0.0</td>\n",
       "      <td>0.0</td>\n",
       "      <td>NaN</td>\n",
       "      <td>NaN</td>\n",
       "      <td>NaN</td>\n",
       "      <td>NaN</td>\n",
       "      <td>NaN</td>\n",
       "      <td>NaN</td>\n",
       "      <td>NaN</td>\n",
       "      <td>...</td>\n",
       "      <td>NaN</td>\n",
       "      <td>NaN</td>\n",
       "      <td>NaN</td>\n",
       "      <td>NaN</td>\n",
       "      <td>0.0</td>\n",
       "      <td>0.0</td>\n",
       "      <td>NaN</td>\n",
       "      <td>NaN</td>\n",
       "      <td>637475.409890</td>\n",
       "      <td>0.000033</td>\n",
       "    </tr>\n",
       "  </tbody>\n",
       "</table>\n",
       "<p>5 rows × 33 columns</p>\n",
       "</div>"
      ],
      "text/plain": [
       "   device_time_stamp  left_gaze_origin_validity  right_gaze_origin_validity  \\\n",
       "0        183272352.0                        0.0                         0.0   \n",
       "1        183280688.0                        0.0                         0.0   \n",
       "2        183289024.0                        0.0                         0.0   \n",
       "3        183297344.0                        0.0                         0.0   \n",
       "4        183305680.0                        0.0                         0.0   \n",
       "\n",
       "   left_gaze_origin_in_user_coordinate_system_0  \\\n",
       "0                                           NaN   \n",
       "1                                           NaN   \n",
       "2                                           NaN   \n",
       "3                                           NaN   \n",
       "4                                           NaN   \n",
       "\n",
       "   left_gaze_origin_in_user_coordinate_system_1  \\\n",
       "0                                           NaN   \n",
       "1                                           NaN   \n",
       "2                                           NaN   \n",
       "3                                           NaN   \n",
       "4                                           NaN   \n",
       "\n",
       "   left_gaze_origin_in_user_coordinate_system_2  \\\n",
       "0                                           NaN   \n",
       "1                                           NaN   \n",
       "2                                           NaN   \n",
       "3                                           NaN   \n",
       "4                                           NaN   \n",
       "\n",
       "   right_gaze_origin_in_user_coordinate_system_0  \\\n",
       "0                                            NaN   \n",
       "1                                            NaN   \n",
       "2                                            NaN   \n",
       "3                                            NaN   \n",
       "4                                            NaN   \n",
       "\n",
       "   right_gaze_origin_in_user_coordinate_system_1  \\\n",
       "0                                            NaN   \n",
       "1                                            NaN   \n",
       "2                                            NaN   \n",
       "3                                            NaN   \n",
       "4                                            NaN   \n",
       "\n",
       "   right_gaze_origin_in_user_coordinate_system_2  \\\n",
       "0                                            NaN   \n",
       "1                                            NaN   \n",
       "2                                            NaN   \n",
       "3                                            NaN   \n",
       "4                                            NaN   \n",
       "\n",
       "   left_gaze_origin_in_trackbox_coordinate_system_0  ...  \\\n",
       "0                                               NaN  ...   \n",
       "1                                               NaN  ...   \n",
       "2                                               NaN  ...   \n",
       "3                                               NaN  ...   \n",
       "4                                               NaN  ...   \n",
       "\n",
       "   left_gaze_point_on_display_area_0  left_gaze_point_on_display_area_1  \\\n",
       "0                                NaN                                NaN   \n",
       "1                                NaN                                NaN   \n",
       "2                                NaN                                NaN   \n",
       "3                                NaN                                NaN   \n",
       "4                                NaN                                NaN   \n",
       "\n",
       "   right_gaze_point_on_display_area_0  right_gaze_point_on_display_area_1  \\\n",
       "0                                 NaN                                 NaN   \n",
       "1                                 NaN                                 NaN   \n",
       "2                                 NaN                                 NaN   \n",
       "3                                 NaN                                 NaN   \n",
       "4                                 NaN                                 NaN   \n",
       "\n",
       "   left_pupil_validity  right_pupil_validity  left_pupil_diameter  \\\n",
       "0                  0.0                   0.0                  NaN   \n",
       "1                  0.0                   0.0                  NaN   \n",
       "2                  0.0                   0.0                  NaN   \n",
       "3                  0.0                   0.0                  NaN   \n",
       "4                  0.0                   0.0                  NaN   \n",
       "\n",
       "   right_pupil_diameter  lsl_time_stamp      time  \n",
       "0                   NaN   637475.376556  0.000000  \n",
       "1                   NaN   637475.384889  0.000008  \n",
       "2                   NaN   637475.393223  0.000017  \n",
       "3                   NaN   637475.401557  0.000025  \n",
       "4                   NaN   637475.409890  0.000033  \n",
       "\n",
       "[5 rows x 33 columns]"
      ]
     },
     "execution_count": 5,
     "metadata": {},
     "output_type": "execute_result"
    }
   ],
   "source": [
    "ET = data[streams_collected.index('Tobii')]\n",
    "et_dat = ET['time_series']\n",
    "# Get the column names\n",
    "column_labels = [ET['info']['desc'][0]['channels'][0]['channel'][i]['label'][0] for i in range(len(ET['info']['desc'][0]['channels'][0]['channel']))]\n",
    "\n",
    "et_df = pd.DataFrame(data=et_dat, columns=column_labels)\n",
    "et_df['lsl_time_stamp'] = ET['time_stamps']\n",
    "et_df['time'] = (ET['time_stamps'] - ET['time_stamps'][0])/1000\n",
    "et_df.head()"
   ]
  },
  {
   "cell_type": "code",
   "execution_count": 6,
   "metadata": {},
   "outputs": [
    {
     "data": {
      "text/plain": [
       "np.float64(1755.8397755336482)"
      ]
     },
     "execution_count": 6,
     "metadata": {},
     "output_type": "execute_result"
    }
   ],
   "source": [
    "et_exp = get_event_data('Experiment', et_df, stim_df=stim_df)\n",
    "start = et_exp['lsl_time_stamp'].values[0]\n",
    "stop = et_exp['lsl_time_stamp'].values[-1]\n",
    "et_dur = stop - start\n",
    "et_dur"
   ]
  },
  {
   "cell_type": "code",
   "execution_count": null,
   "metadata": {},
   "outputs": [],
   "source": [
    "sns.lineplot(data=et_df, x='time', y='right_pupil_diameter', label='r_pupil _diameter')"
   ]
  },
  {
   "cell_type": "markdown",
   "metadata": {},
   "source": [
    "# Physio"
   ]
  },
  {
   "cell_type": "code",
   "execution_count": null,
   "metadata": {
    "ExecuteTime": {
     "end_time": "2024-10-11T15:33:11.464140Z",
     "start_time": "2024-10-11T15:33:11.436527Z"
    }
   },
   "outputs": [],
   "source": [
    "PS = data[streams_collected.index('OpenSignals')]\n",
    "# Get the column names\n",
    "column_labels = [PS['info']['desc'][0]['channels'][0]['channel'][i]['label'][0] for i in range(len(PS['info']['desc'][0]['channels'][0]['channel']))]\n",
    "ps_df = pd.DataFrame(data=PS['time_series'], columns=column_labels)\n",
    "ps_df['lsl_time_stamp'] = PS['time_stamps']\n",
    "ps_df['time'] = (PS['time_stamps'] - PS['time_stamps'][0])/1000"
   ]
  },
  {
   "cell_type": "code",
   "execution_count": null,
   "metadata": {},
   "outputs": [],
   "source": [
    "ps_exp = get_event_data('Experiment', ps_df, stim_df=stim_df)\n",
    "start = ps_exp['lsl_time_stamp'].values[0]\n",
    "stop = ps_exp['lsl_time_stamp'].values[-1]\n",
    "ps_dur = stop - start\n",
    "ps_dur"
   ]
  },
  {
   "cell_type": "code",
   "execution_count": null,
   "metadata": {
    "ExecuteTime": {
     "end_time": "2024-10-11T15:41:03.246800Z",
     "start_time": "2024-10-11T15:40:43.236295Z"
    }
   },
   "outputs": [],
   "source": [
    "    \n",
    "'''\n",
    "# Plot every column in one plot\n",
    "'''\n",
    "# confirm all events are in the stim_df\n",
    "evs = stim_df.loc[stim_df.event != 'psychopy_time_stamp']\n",
    "\n",
    "f, ax = plt.subplots(figsize=(20,20), nrows=len(column_labels), ncols=1)\n",
    "\n",
    "# Make this one figure with subplots\n",
    "for i, col in enumerate(column_labels):\n",
    "    \n",
    "    #plt.plot(ps_df.loc[(ps_df['time'] > 1000) & (ps_df['time'] < 1015), col])\n",
    "    #plt.subplot(ps_df['time'], ps_df[col], ax= ax[i])\n",
    "    sns.lineplot(data=ps_df, x='time', y=col, ax=ax[i])\n",
    "    # Place and Vline at every event in evs with onset and offset\n",
    "    for event in evs.iterrows():\n",
    "        # If the word Onset or Offset is in the event, plot a vertical line at the time of the event\n",
    "\n",
    "        if \"Onset\" in event[1]['event'] or \"Offset\" in event[1]['event']:\n",
    "            ax[i].axvline(event[1]['time'], color='r')\n",
    "            ax[i].text(event[1]['time'], 0, event[1]['event'], rotation=90)\n",
    "        \n",
    "    ax[i].set_title(col)\n",
    "    #plt.show()"
   ]
  },
  {
   "cell_type": "code",
   "execution_count": null,
   "metadata": {},
   "outputs": [],
   "source": [
    "physio_resting_state = get_event_data('RestingState', ps_df)\n",
    "fig, ax = plt.subplots(figsize=(20,20), nrows=len(column_labels), ncols=1)\n",
    "\n",
    "# Make this one figure with subplots\n",
    "#for i, col in enumerate(['RESPIRATION0', 'fSpO21', 'fSpO22', '%SpO23']):\n",
    "for i, col in enumerate(column_labels):\n",
    "    \n",
    "\n",
    "    #plt.plot(ps_df.loc[(ps_df['time'] > 1000) & (ps_df['time'] < 1015), col])\n",
    "    #plt.subplot(ps_df['time'], ps_df[col], ax= ax[i])\n",
    "    sns.lineplot(data=physio_resting_state[:5000], x='time', y=col, ax=ax[i])"
   ]
  },
  {
   "cell_type": "markdown",
   "metadata": {},
   "source": [
    "# Linking Microphone Data to Video Data"
   ]
  },
  {
   "cell_type": "code",
   "execution_count": null,
   "metadata": {},
   "outputs": [],
   "source": [
    "mic_data = data[streams_collected.index('Microphone')]\n",
    "mic_df = pd.DataFrame(mic_data['time_series'], columns=['int_array'])\n",
    "mic_df['bytestring'] = mic_df['int_array'].apply(lambda x: np.array(x).tobytes())\n",
    "#mic_df['time'] = (mic_data['time_stamps'] - mic_data['time_stamps'][0])/441000\n",
    "\n",
    "mic_df['lsl_time_stamp'] = mic_data['time_stamps']\n",
    "mic_df['time_delta'] = mic_df['lsl_time_stamp'].diff()\n",
    "\n",
    "mic_df.head()"
   ]
  },
  {
   "cell_type": "code",
   "execution_count": null,
   "metadata": {},
   "outputs": [],
   "source": [
    "precision = 1e-8\n",
    "fs = 44100\n",
    "sum(abs(mic_df.time_delta - 1/fs) < precision) == len(mic_df) - 1\n"
   ]
  },
  {
   "cell_type": "markdown",
   "metadata": {},
   "source": [
    "## checking duration of mic data"
   ]
  },
  {
   "cell_type": "code",
   "execution_count": null,
   "metadata": {},
   "outputs": [],
   "source": [
    "mic_story = get_event_data('StoryListening', mic_df, stim_df=stim_df)\n",
    "start = mic_story['lsl_time_stamp'].values[0]\n",
    "stop = mic_story['lsl_time_stamp'].values[-1]\n",
    "mic_story_dur = stop - start\n",
    "print(mic_story_dur)\n",
    "\n",
    "story_start = stim_df.loc[stim_df.event == 'Onset_StoryListening', 'lsl_time_stamp'].values[0]\n",
    "story_end = stim_df.loc[stim_df.event == 'Offset_StoryListening', 'lsl_time_stamp'].values[0]\n",
    "story_dur = story_end - story_start\n",
    "story_dur"
   ]
  },
  {
   "cell_type": "code",
   "execution_count": null,
   "metadata": {},
   "outputs": [],
   "source": [
    "sns.lineplot(y='time_delta', x = 'time', data=mic_df)"
   ]
  },
  {
   "cell_type": "code",
   "execution_count": null,
   "metadata": {},
   "outputs": [],
   "source": [
    "#conversation_onset_stim = stim_df.loc[stim_df.event == 'Onset_SocialTask', 'time'].values[0]\n",
    "#conversation_offset_stim = stim_df.loc[stim_df.event == 'Offset_SocialTask', 'time'].values[0]\n",
    "#\n",
    "# convo = mic_df.loc[(mic_df['time'] > conversation_onset_stim ) & (mic_df['time'] < conversation_offset_stim), 'int_array'].values\n",
    "convo = get_event_data('Tornado', mic_df)\n",
    "convo\n"
   ]
  },
  {
   "cell_type": "code",
   "execution_count": null,
   "metadata": {},
   "outputs": [],
   "source": [
    "f, ax = plt.subplots(figsize=(15, 5))\n",
    "plt.plot(mic_df.lsl_time_stamp, mic_df.int_array)\n",
    "for event in evs.loc[evs.event.str.contains('Tornado')].iterrows():\n",
    "    ax.axvline(event[1]['lsl_time_stamp'], color='r')\n",
    "    ax.text(event[1]['lsl_time_stamp'], 0, event[1]['event'], rotation=90)\n",
    "        "
   ]
  },
  {
   "cell_type": "code",
   "execution_count": null,
   "metadata": {
    "ExecuteTime": {
     "end_time": "2024-08-20T17:30:29.158873Z",
     "start_time": "2024-08-20T17:30:28.941089Z"
    }
   },
   "outputs": [],
   "source": [
    "sd.play(convo.int_array.values)"
   ]
  },
  {
   "cell_type": "markdown",
   "metadata": {},
   "source": [
    "# Video Data\n",
    "Now lets open the video frames"
   ]
  },
  {
   "cell_type": "code",
   "execution_count": null,
   "metadata": {},
   "outputs": [],
   "source": [
    "# Identify the frames we're interested in\n",
    "cam_data = data[streams_collected.index('WebcamStream')]\n",
    "\n",
    "#cam_df = pd.DataFrame(cam['time_series'], columns=['frame'])\n",
    "#cam_df['lsl_timestamps'] = cam['time_stamps']\n",
    "#cam_df['time'] = cam_df['lsl_timestamps'] - cam_df['lsl_timestamps'][0]\n",
    "cam_data['time_series'][0]\n",
    "frame_nums = [int(i[0]) for i in cam_data['time_series']]\n",
    "time_pre = [float(i[1]) for i in cam_data['time_series']]\n",
    "time_evnt_ms = [float(i[2]) for i in cam_data['time_series']]\n",
    "time_post = [float(i[3]) for i in cam_data['time_series']]\n",
    "\n",
    "\n",
    "cam_df = pd.DataFrame({'frame_num': frame_nums, \n",
    "                    'time_pre': time_pre, \n",
    "                    'cap_time_ms': time_evnt_ms,\n",
    "                    'time_post': time_post,\n",
    "                    'lsl_time_stamp': cam_data['time_stamps']})\n",
    "\n",
    "\n",
    "\n",
    "cam_df['frame_time_sec'] = (cam_df.cap_time_ms - cam_df.cap_time_ms[0])/1000\n",
    "cam_df['lsl_time_sec'] = cam_df.lsl_time_stamp #- cam_df.lsl_time_stamp[0]\n",
    "cam_df['time'] = (cam_df.lsl_time_stamp - cam_df.lsl_time_stamp[0])/1000"
   ]
  },
  {
   "cell_type": "markdown",
   "metadata": {},
   "source": [
    "## checking duration of cam data"
   ]
  },
  {
   "cell_type": "code",
   "execution_count": null,
   "metadata": {},
   "outputs": [],
   "source": [
    "exp_start = stim_df.loc[stim_df.event == 'Onset_Experiment', 'lsl_time_stamp'].values[0]\n",
    "exp_end = stim_df.loc[stim_df.event == 'Offset_Experiment', 'lsl_time_stamp'].values[0]\n",
    "exp_dur = exp_end - exp_start\n",
    "print(exp_dur)\n",
    "\n",
    "cam_exp = get_event_data('Experiment', cam_df, stim_df=stim_df)\n",
    "start = cam_exp['lsl_time_stamp'].values[0]\n",
    "stop = cam_exp['lsl_time_stamp'].values[-1]\n",
    "cam_dur = stop - start\n",
    "print(cam_dur)\n"
   ]
  },
  {
   "cell_type": "code",
   "execution_count": null,
   "metadata": {},
   "outputs": [],
   "source": [
    "#vid_convo = cam_df.loc[(cam_df['lsl_time_sec'] > conversation_onset_stim ) & (cam_df['lsl_time_sec'] < conversation_offset_stim)]\n",
    "vid_convo = get_event_data('SocialTask', cam_df)\n",
    "vid_convo_frames = vid_convo['frame_num'].values"
   ]
  },
  {
   "cell_type": "markdown",
   "metadata": {},
   "source": [
    "A goal here is to identify timestamps in the microphone data and their corresponding frames in the video data"
   ]
  },
  {
   "cell_type": "code",
   "execution_count": null,
   "metadata": {},
   "outputs": [],
   "source": [
    "sd.play(convo.int_array.values, 44100)\n"
   ]
  },
  {
   "cell_type": "code",
   "execution_count": null,
   "metadata": {},
   "outputs": [],
   "source": [
    "# Use cv2 to read the video file and play the frames\n",
    "cap = cv2.VideoCapture('C:/Users/Admin/Documents/code/MOBI2024/CUNY_FACIAL/video_files/2222_CUNY_Face_Full_Protocol.avi')\n",
    "frame_width = int(cap.get(3))\n",
    "frame_height = int(cap.get(4))\n",
    "\n",
    "# play the video\n",
    "while(cap.isOpened()):\n",
    "    ret, frame = cap.read()\n",
    "    if ret == True:\n",
    "        if cap.get(1) in vid_convo_frames:\n",
    "            cv2.imshow('Frame', frame)\n",
    "            if cv2.waitKey(25) & 0xFF == ord('q'):\n",
    "                break\n",
    "        \n",
    "        cv2.imshow('Frame', frame)\n",
    "        if cv2.waitKey(25) & 0xFF == ord('q'):\n",
    "            break\n",
    "        else:\n",
    "            continue\n",
    "    else:\n",
    "        break\n"
   ]
  },
  {
   "cell_type": "code",
   "execution_count": null,
   "metadata": {},
   "outputs": [],
   "source": [
    "# Use cv2 to read the video file and play the frames\n",
    "cap = cv2.VideoCapture('C:/Users/Admin/Documents/code/MOBI2024/CUNY_FACIAL/video_files/2222_CUNY_Face_Full_Protocol.avi')\n",
    "frame_width = int(cap.get(3))\n",
    "frame_height = int(cap.get(4))\n",
    "\n",
    "# play the video\n",
    "while(cap.isOpened()):\n",
    "    sd.play(convo.int_array.values, 44100)\n",
    "    ret, frame = cap.read()\n",
    "    if ret == True:\n",
    "        if cap.get(1) in vid_convo_frames:\n",
    "            cv2.imshow('Frame', frame)\n",
    "            if cv2.waitKey(25) & 0xFF == ord('q'):\n",
    "                break\n",
    "        else:\n",
    "            continue\n",
    "    else:\n",
    "        break\n"
   ]
  },
  {
   "cell_type": "markdown",
   "metadata": {},
   "source": [
    "# Eye Tracking"
   ]
  },
  {
   "cell_type": "code",
   "execution_count": null,
   "metadata": {},
   "outputs": [],
   "source": [
    "ET = data[streams_collected.index('Tobii')]\n",
    "et_dat = ET['time_series']\n",
    "# Get the column names\n",
    "column_labels = [ET['info']['desc'][0]['channels'][0]['channel'][i]['label'][0] for i in range(len(ET['info']['desc'][0]['channels'][0]['channel']))]\n",
    "\n",
    "et_df = pd.DataFrame(data=et_dat, columns=column_labels)\n",
    "et_df['time'] = (ET['time_stamps'] - ET['time_stamps'][0])/1000\n",
    "et_df.head()"
   ]
  },
  {
   "cell_type": "code",
   "execution_count": null,
   "metadata": {},
   "outputs": [],
   "source": [
    "et_df.time.describe()"
   ]
  },
  {
   "cell_type": "code",
   "execution_count": null,
   "metadata": {},
   "outputs": [],
   "source": [
    "ps_df.time.describe()"
   ]
  },
  {
   "cell_type": "code",
   "execution_count": null,
   "metadata": {},
   "outputs": [],
   "source": [
    "# Plot left_pupil_diameter and right_pupil_diameter\n",
    "plt.figure(figsize=(20, 4))\n",
    "plt.plot(et_df['left_pupil_diameter'][:1300000], label='left_pupil_diameter');\n",
    "plt.plot(et_df['right_pupil_diameter'][:1300000], label='right_pupil_diameter');\n",
    "plt.title('Pupil diameter data');"
   ]
  },
  {
   "cell_type": "code",
   "execution_count": null,
   "metadata": {},
   "outputs": [],
   "source": [
    "\n",
    "evnt_of_interest = 'CampFriend'\n",
    "onset = stim_df.loc[stim_df.event == 'Onset_'+ evnt_of_interest, 'time'].values[0]\n",
    "offset = stim_df.loc[stim_df.event == 'Offset_'+ evnt_of_interest, 'time'].values[0]\n",
    "left_x = et_df.loc[(et_df.time > onset) & (et_df.time < offset), 'left_gaze_point_on_display_area_0']\n",
    "left_y = et_df.loc[(et_df.time > onset) & (et_df.time < offset), 'left_gaze_point_on_display_area_1']\n",
    "left = pd.DataFrame({'x': left_x, 'y': left_y})\n",
    "# Right\n",
    "right_x = et_df.loc[(et_df.time > onset) & (et_df.time < offset), 'right_gaze_point_on_display_area_0']\n",
    "right_y = et_df.loc[(et_df.time > onset) & (et_df.time < offset), 'right_gaze_point_on_display_area_1']\n",
    "right = pd.DataFrame({'x': right_x, 'y': right_y})\n",
    "fig, ax = plt.subplots( figsize=(20, 10))\n",
    "sns.scatterplot(data=right, x='x', y='y', color='r')\n",
    "#ax[0].set_title('Right eye')\n",
    "sns.scatterplot(data=left, x='x', y='y', color='b')\n",
    "#ax[1].set_title('Left eye')"
   ]
  },
  {
   "cell_type": "code",
   "execution_count": null,
   "metadata": {},
   "outputs": [],
   "source": [
    "ET = data[streams_collected.index('Tobii')]\n",
    "et_dat = ET['time_series']"
   ]
  },
  {
   "cell_type": "code",
   "execution_count": null,
   "metadata": {},
   "outputs": [],
   "source": [
    "# Get the units associated with each eyetracking variable\n",
    "ET['info']['desc'][0]#['channels'][0]['channel'][0]['unit'][0]"
   ]
  },
  {
   "cell_type": "markdown",
   "metadata": {},
   "source": [
    "# EEG"
   ]
  },
  {
   "cell_type": "code",
   "execution_count": null,
   "metadata": {},
   "outputs": [],
   "source": [
    "EEG = data[streams_collected.index('EGI NetAmp 0')]\n",
    "eeg_dat = pd.DataFrame(EEG['time_series'])\n",
    "#eeg_dat['lsl_time_stamp'] = EEG['time_stamps']"
   ]
  },
  {
   "cell_type": "markdown",
   "metadata": {},
   "source": [
    "Apply Notch Filter?"
   ]
  },
  {
   "cell_type": "code",
   "execution_count": null,
   "metadata": {},
   "outputs": [],
   "source": [
    "def apply_notch_filter(data, fs, f0, Q):\n",
    "    nyquist = 0.5 * fs\n",
    "    w0 = f0 / nyquist\n",
    "    b, a = iirnotch(w0, Q)\n",
    "    return filtfilt(b, a, data)\n",
    "\n",
    "filtered_eeg = eeg_dat.apply(lambda x: apply_notch_filter(x, 1000, 60, 30))"
   ]
  },
  {
   "cell_type": "code",
   "execution_count": null,
   "metadata": {},
   "outputs": [],
   "source": [
    "# plot the EEG data\n",
    "plt.figure(figsize=(20, 10))\n",
    "plt.plot(filtered_eeg[:10000]);\n"
   ]
  },
  {
   "cell_type": "code",
   "execution_count": null,
   "metadata": {},
   "outputs": [],
   "source": [
    "rest_eeg = filtered_eeg #eeg_dat[:-1] #get_event_data('RestingState', eeg_dat)\n",
    "from scipy.signal import spectrogram\n",
    "\n",
    "plt.figure(figsize=(10, 4))\n",
    "\n",
    "for column in rest_eeg.columns:\n",
    "    f, t, Sxx = spectrogram(rest_eeg[column], fs=1000)\n",
    "\n",
    "    plt.pcolormesh(t, f, 10 *np.log10(Sxx), shading='nearest')\n",
    "\n",
    "plt.colorbar(label='Power/Frequency [Hz]')\n",
    "plt.ylabel('Freq')\n",
    "plt.xlabel('time')\n",
    "plt.tight_layout()\n",
    "plt.show()"
   ]
  },
  {
   "cell_type": "code",
   "execution_count": null,
   "metadata": {},
   "outputs": [],
   "source": [
    "from scipy.signal import spectrogram\n",
    "\n",
    "plt.figure(figsize=(10, 4))\n",
    "\n",
    "for column in eeg_dat.columns:\n",
    "    f, t, Sxx = spectrogram(eeg_dat[column], fs=250)\n",
    "\n",
    "    plt.pcolormesh(t, f, 10 *np.log10(Sxx), shading='nearest')\n",
    "\n",
    "plt.colorbar(label='Power/Frequency [Hz]')\n",
    "plt.ylabel('Freq')\n",
    "plt.xlabel('time')\n",
    "plt.tight_layout()\n",
    "plt.show()"
   ]
  },
  {
   "cell_type": "code",
   "execution_count": null,
   "metadata": {},
   "outputs": [],
   "source": []
  }
 ],
 "metadata": {
  "kernelspec": {
   "display_name": "Python 3",
   "language": "python",
   "name": "python3"
  },
  "language_info": {
   "codemirror_mode": {
    "name": "ipython",
    "version": 3
   },
   "file_extension": ".py",
   "mimetype": "text/x-python",
   "name": "python",
   "nbconvert_exporter": "python",
   "pygments_lexer": "ipython3",
   "version": "3.12.0"
  },
  "orig_nbformat": 4
 },
 "nbformat": 4,
 "nbformat_minor": 2
}
