{
 "cells": [
  {
   "attachments": {},
   "cell_type": "markdown",
   "metadata": {},
   "source": [
    "# Imports"
   ]
  },
  {
   "cell_type": "code",
   "execution_count": 22,
   "metadata": {},
   "outputs": [],
   "source": [
    "import pyxdf\n",
    "import pandas as pd\n",
    "import matplotlib.pyplot as plt \n",
    "import seaborn as sns \n",
    "import wave\n",
    "#import pyaudio\n",
    "import numpy as np\n",
    "import sounddevice as sd\n",
    "import cv2"
   ]
  },
  {
   "attachments": {},
   "cell_type": "markdown",
   "metadata": {},
   "source": [
    "# Load Data"
   ]
  },
  {
   "cell_type": "code",
   "execution_count": 9,
   "metadata": {},
   "outputs": [
    {
     "name": "stderr",
     "output_type": "stream",
     "text": [
      "Stream 2: Calculated effective sampling rate 119.9952 Hz is different from specified rate 90.0000 Hz.\n",
      "Stream 6: Calculated effective sampling rate 249.9926 Hz is different from specified rate 500.0000 Hz.\n"
     ]
    },
    {
     "data": {
      "text/plain": [
       "['OpenSignals',\n",
       " 'Tobii',\n",
       " 'EGI NetAmp 0',\n",
       " 'WebcamStream',\n",
       " 'Stimuli_Markers',\n",
       " 'Audio']"
      ]
     },
     "execution_count": 9,
     "metadata": {},
     "output_type": "execute_result"
    }
   ],
   "source": [
    "xdf_path = \"C:/Users/Admin/Documents/CurrentStudy/sub-P005/ses-S001/mobi/sub-P005_ses-S001_task-Social_run-001_mobi.xdf\"\n",
    "\n",
    "data, header = pyxdf.load_xdf(xdf_path)\n",
    "streams_collected = [stream['info']['name'][0] for stream in data]\n",
    "streams_collected"
   ]
  },
  {
   "attachments": {},
   "cell_type": "markdown",
   "metadata": {},
   "source": [
    "# Stimulus"
   ]
  },
  {
   "attachments": {},
   "cell_type": "markdown",
   "metadata": {},
   "source": [
    "## Stimulus Trigger Duration"
   ]
  },
  {
   "cell_type": "code",
   "execution_count": 3,
   "metadata": {},
   "outputs": [
    {
     "data": {
      "text/html": [
       "<div>\n",
       "<style scoped>\n",
       "    .dataframe tbody tr th:only-of-type {\n",
       "        vertical-align: middle;\n",
       "    }\n",
       "\n",
       "    .dataframe tbody tr th {\n",
       "        vertical-align: top;\n",
       "    }\n",
       "\n",
       "    .dataframe thead th {\n",
       "        text-align: right;\n",
       "    }\n",
       "</style>\n",
       "<table border=\"1\" class=\"dataframe\">\n",
       "  <thead>\n",
       "    <tr style=\"text-align: right;\">\n",
       "      <th></th>\n",
       "      <th>trigger</th>\n",
       "      <th>event</th>\n",
       "      <th>lsl_time_stamps</th>\n",
       "      <th>time</th>\n",
       "    </tr>\n",
       "  </thead>\n",
       "  <tbody>\n",
       "    <tr>\n",
       "      <th>0</th>\n",
       "      <td>100</td>\n",
       "      <td>Onset_10second_rest</td>\n",
       "      <td>339430.267538</td>\n",
       "      <td>0.000000</td>\n",
       "    </tr>\n",
       "    <tr>\n",
       "      <th>1</th>\n",
       "      <td>1722614126</td>\n",
       "      <td>psychopy_time_stamp</td>\n",
       "      <td>339430.267550</td>\n",
       "      <td>0.000013</td>\n",
       "    </tr>\n",
       "    <tr>\n",
       "      <th>2</th>\n",
       "      <td>101</td>\n",
       "      <td>Offset_10second_rest</td>\n",
       "      <td>339440.284336</td>\n",
       "      <td>10.016798</td>\n",
       "    </tr>\n",
       "    <tr>\n",
       "      <th>3</th>\n",
       "      <td>1722614136</td>\n",
       "      <td>psychopy_time_stamp</td>\n",
       "      <td>339440.284345</td>\n",
       "      <td>10.016807</td>\n",
       "    </tr>\n",
       "    <tr>\n",
       "      <th>4</th>\n",
       "      <td>60</td>\n",
       "      <td>Onset_Tornado</td>\n",
       "      <td>339440.362039</td>\n",
       "      <td>10.094501</td>\n",
       "    </tr>\n",
       "    <tr>\n",
       "      <th>5</th>\n",
       "      <td>1722614136</td>\n",
       "      <td>psychopy_time_stamp</td>\n",
       "      <td>339440.362051</td>\n",
       "      <td>10.094513</td>\n",
       "    </tr>\n",
       "    <tr>\n",
       "      <th>6</th>\n",
       "      <td>61</td>\n",
       "      <td>Offset_Tornado</td>\n",
       "      <td>339603.605601</td>\n",
       "      <td>173.338063</td>\n",
       "    </tr>\n",
       "    <tr>\n",
       "      <th>7</th>\n",
       "      <td>1722614299</td>\n",
       "      <td>psychopy_time_stamp</td>\n",
       "      <td>339603.605611</td>\n",
       "      <td>173.338073</td>\n",
       "    </tr>\n",
       "    <tr>\n",
       "      <th>8</th>\n",
       "      <td>7</td>\n",
       "      <td>Bx_input</td>\n",
       "      <td>339609.753684</td>\n",
       "      <td>179.486146</td>\n",
       "    </tr>\n",
       "    <tr>\n",
       "      <th>9</th>\n",
       "      <td>6</td>\n",
       "      <td>Bx_input</td>\n",
       "      <td>339617.836658</td>\n",
       "      <td>187.569121</td>\n",
       "    </tr>\n",
       "  </tbody>\n",
       "</table>\n",
       "</div>"
      ],
      "text/plain": [
       "      trigger                 event  lsl_time_stamps        time\n",
       "0         100   Onset_10second_rest    339430.267538    0.000000\n",
       "1  1722614126   psychopy_time_stamp    339430.267550    0.000013\n",
       "2         101  Offset_10second_rest    339440.284336   10.016798\n",
       "3  1722614136   psychopy_time_stamp    339440.284345   10.016807\n",
       "4          60         Onset_Tornado    339440.362039   10.094501\n",
       "5  1722614136   psychopy_time_stamp    339440.362051   10.094513\n",
       "6          61        Offset_Tornado    339603.605601  173.338063\n",
       "7  1722614299   psychopy_time_stamp    339603.605611  173.338073\n",
       "8           7              Bx_input    339609.753684  179.486146\n",
       "9           6              Bx_input    339617.836658  187.569121"
      ]
     },
     "execution_count": 3,
     "metadata": {},
     "output_type": "execute_result"
    }
   ],
   "source": [
    "stim_dat = data[0]\n",
    "stim_df = pd.DataFrame(stim_dat['time_series'])\n",
    "stim_df.rename(columns={0: 'trigger'}, inplace=True)\n",
    "events = {\n",
    "    100: 'Onset_10second_rest',\n",
    "    101: 'Offset_10second_rest', \n",
    "    10: 'Onset_BirthMother',\n",
    "    11: 'Offset_BirthMother', \n",
    "    20: 'Onset_CampFriend',\n",
    "    21: 'Offset_CampFriend',\n",
    "    30: 'Onset_FrogDissection',\n",
    "    31: 'Offset_FrogDissection',\n",
    "    40: 'Onset_DanceContest',\n",
    "    41: 'Offset_DanceContest',\n",
    "    50: 'Onset_ZoomClass',\n",
    "    51: 'Offset_ZoomClass',\n",
    "    60: 'Onset_Tornado',\n",
    "    61: 'Offset_Tornado',\n",
    "    70: 'Onset_BirthdayParty',\n",
    "    71: 'Offset_BirthdayParty',\n",
    "    80: 'Onset_Glitter',\n",
    "    81: 'Offset_Glitter',\n",
    "}\n",
    "\n",
    "# relabel the event if the trigger is in the events dictionary, else if \n",
    "stim_df['event'] = stim_df['trigger'].apply(lambda x: events[x] if x in events.keys() else 'Bx_input')\n",
    "\n",
    "# relabel the event as a psychopy timestamp if the trigger is greater than 4 digits\n",
    "stim_df.loc[stim_df.trigger.astype(str).str.len() > 4, 'event'] = 'psychopy_time_stamp'\n",
    "stim_df['lsl_time_stamps'] = stim_dat['time_stamps']\n",
    "stim_df['time'] = stim_dat['time_stamps'] - stim_dat['time_stamps'][0]\n",
    "stim_df.head(10)"
   ]
  },
  {
   "cell_type": "code",
   "execution_count": 4,
   "metadata": {},
   "outputs": [
    {
     "data": {
      "text/plain": [
       "[10, 20, 30, 40, 50, 60, 70, 80]"
      ]
     },
     "execution_count": 4,
     "metadata": {},
     "output_type": "execute_result"
    }
   ],
   "source": [
    "def get_secs_between_triggers(trigger1, trigger2):\n",
    "    return stim_df.loc[stim_df.trigger == trigger1, 'time'].values[0] - stim_df.loc[stim_df.trigger == trigger2, 'time'].values[0]\n",
    "\n",
    "# Get a list of the story names using the events dict\n",
    "#story_names = [x.split('_')[1] for x in list(events.values())[2:][::2]]\n",
    "#story_names\n",
    "\n",
    "story_onsets = list(events.keys())[2:][::2] #every other trigger is the offset\n",
    "story_onsets"
   ]
  },
  {
   "cell_type": "code",
   "execution_count": 5,
   "metadata": {},
   "outputs": [
    {
     "data": {
      "text/html": [
       "<div>\n",
       "<style scoped>\n",
       "    .dataframe tbody tr th:only-of-type {\n",
       "        vertical-align: middle;\n",
       "    }\n",
       "\n",
       "    .dataframe tbody tr th {\n",
       "        vertical-align: top;\n",
       "    }\n",
       "\n",
       "    .dataframe thead th {\n",
       "        text-align: right;\n",
       "    }\n",
       "</style>\n",
       "<table border=\"1\" class=\"dataframe\">\n",
       "  <thead>\n",
       "    <tr style=\"text-align: right;\">\n",
       "      <th></th>\n",
       "      <th>trigger</th>\n",
       "      <th>story</th>\n",
       "      <th>lsl_duration</th>\n",
       "      <th>audiofile_duration</th>\n",
       "      <th>difference(sec)</th>\n",
       "    </tr>\n",
       "  </thead>\n",
       "  <tbody>\n",
       "    <tr>\n",
       "      <th>0</th>\n",
       "      <td>10</td>\n",
       "      <td>Onset_BirthMother</td>\n",
       "      <td>157.745044</td>\n",
       "      <td>157.726104</td>\n",
       "      <td>-0.018939</td>\n",
       "    </tr>\n",
       "    <tr>\n",
       "      <th>1</th>\n",
       "      <td>20</td>\n",
       "      <td>Onset_CampFriend</td>\n",
       "      <td>152.937353</td>\n",
       "      <td>152.838063</td>\n",
       "      <td>-0.099290</td>\n",
       "    </tr>\n",
       "    <tr>\n",
       "      <th>2</th>\n",
       "      <td>30</td>\n",
       "      <td>Onset_FrogDissection</td>\n",
       "      <td>124.361157</td>\n",
       "      <td>124.344813</td>\n",
       "      <td>-0.016344</td>\n",
       "    </tr>\n",
       "    <tr>\n",
       "      <th>3</th>\n",
       "      <td>40</td>\n",
       "      <td>Onset_DanceContest</td>\n",
       "      <td>138.335716</td>\n",
       "      <td>138.318729</td>\n",
       "      <td>-0.016987</td>\n",
       "    </tr>\n",
       "    <tr>\n",
       "      <th>4</th>\n",
       "      <td>50</td>\n",
       "      <td>Onset_ZoomClass</td>\n",
       "      <td>98.378069</td>\n",
       "      <td>98.359854</td>\n",
       "      <td>-0.018215</td>\n",
       "    </tr>\n",
       "    <tr>\n",
       "      <th>5</th>\n",
       "      <td>60</td>\n",
       "      <td>Onset_Tornado</td>\n",
       "      <td>163.243562</td>\n",
       "      <td>163.227583</td>\n",
       "      <td>-0.015979</td>\n",
       "    </tr>\n",
       "    <tr>\n",
       "      <th>6</th>\n",
       "      <td>70</td>\n",
       "      <td>Onset_BirthdayParty</td>\n",
       "      <td>160.231821</td>\n",
       "      <td>160.215313</td>\n",
       "      <td>-0.016509</td>\n",
       "    </tr>\n",
       "    <tr>\n",
       "      <th>7</th>\n",
       "      <td>80</td>\n",
       "      <td>Onset_Glitter</td>\n",
       "      <td>158.391881</td>\n",
       "      <td>158.380208</td>\n",
       "      <td>-0.011673</td>\n",
       "    </tr>\n",
       "  </tbody>\n",
       "</table>\n",
       "</div>"
      ],
      "text/plain": [
       "   trigger                 story  lsl_duration  audiofile_duration  \\\n",
       "0       10     Onset_BirthMother    157.745044          157.726104   \n",
       "1       20      Onset_CampFriend    152.937353          152.838063   \n",
       "2       30  Onset_FrogDissection    124.361157          124.344813   \n",
       "3       40    Onset_DanceContest    138.335716          138.318729   \n",
       "4       50       Onset_ZoomClass     98.378069           98.359854   \n",
       "5       60         Onset_Tornado    163.243562          163.227583   \n",
       "6       70   Onset_BirthdayParty    160.231821          160.215313   \n",
       "7       80         Onset_Glitter    158.391881          158.380208   \n",
       "\n",
       "   difference(sec)  \n",
       "0        -0.018939  \n",
       "1        -0.099290  \n",
       "2        -0.016344  \n",
       "3        -0.016987  \n",
       "4        -0.018215  \n",
       "5        -0.015979  \n",
       "6        -0.016509  \n",
       "7        -0.011673  "
      ]
     },
     "execution_count": 5,
     "metadata": {},
     "output_type": "execute_result"
    }
   ],
   "source": [
    "files= [\n",
    "    \"../audio_files/audio_files/After_Searching_I_Found_and_Met_My_Birth_Mother.wav\",\n",
    "    \"../audio_files/audio_files/Camp_Lose_A_Friend.wav\",\n",
    "    \"../audio_files/audio_files/Frog_Dissection_Disaster.wav\",\n",
    "    \"../audio_files/audio_files/I_Decided_To_Be_Myself_And_Won_A_Dance_Contest.wav\",\n",
    "    \"../audio_files/audio_files/I_Fully_Embarrassed_Myself_In_Zoom_Class1.wav\",\n",
    "    \"../audio_files/audio_files/Left_Home_Alone_in_a_Tornado.wav\",\n",
    "    \"../audio_files/audio_files/The_Birthday_Party_Prank.wav\",\n",
    "    \"../audio_files/audio_files/My_Dad_Saw_Me_Wearing_Glitter_At_School.wav\"\n",
    "]\n",
    "\n",
    "\n",
    "durations = pd.DataFrame({\n",
    "    'trigger':story_onsets,\n",
    "    'story':[events[x] for x in story_onsets],\n",
    "    'lsl_duration': [get_secs_between_triggers(x+1, x) for x in story_onsets],\n",
    "    'audiofile_duration': [wave.open(x).getnframes()/wave.open(x).getframerate() for x in files] #duration of audio file is number of frames divided by the frame rate.\n",
    "})\n",
    "\n",
    "durations['difference(sec)'] = durations['audiofile_duration'] - durations['lsl_duration']\n",
    "durations"
   ]
  },
  {
   "cell_type": "markdown",
   "metadata": {},
   "source": [
    "# Linking Microphone Data to Video Data"
   ]
  },
  {
   "cell_type": "code",
   "execution_count": 30,
   "metadata": {},
   "outputs": [],
   "source": [
    "mic_data = data[5]\n",
    "mic_df = pd.DataFrame(mic_data['time_series'], columns=['int_array'])\n",
    "mic_df['bytestring'] = mic_df['int_array'].apply(lambda x: np.array(x).tobytes())\n",
    "mic_df['lsl_time_stamps'] = mic_data['time_stamps']\n",
    "mic_df['time'] = mic_data['time_stamps'] - mic_data['time_stamps'][0]"
   ]
  },
  {
   "cell_type": "code",
   "execution_count": 31,
   "metadata": {},
   "outputs": [],
   "source": [
    "start = 4145400\n",
    "stop = 4806900\n",
    "sd.play(mic_df['int_array'].values[start:stop], 44100)"
   ]
  },
  {
   "cell_type": "markdown",
   "metadata": {},
   "source": [
    "Now lets open the video frames"
   ]
  },
  {
   "cell_type": "code",
   "execution_count": 39,
   "metadata": {},
   "outputs": [
    {
     "data": {
      "text/plain": [
       "(94.0, 109.0)"
      ]
     },
     "execution_count": 39,
     "metadata": {},
     "output_type": "execute_result"
    }
   ],
   "source": [
    "start_sec = round(mic_df.iloc[start].time, 2)\n",
    "stop_sec = round(mic_df.iloc[stop].time, 2)\n",
    "start_sec, stop_sec"
   ]
  },
  {
   "cell_type": "code",
   "execution_count": 28,
   "metadata": {},
   "outputs": [
    {
     "data": {
      "text/html": [
       "<div>\n",
       "<style scoped>\n",
       "    .dataframe tbody tr th:only-of-type {\n",
       "        vertical-align: middle;\n",
       "    }\n",
       "\n",
       "    .dataframe tbody tr th {\n",
       "        vertical-align: top;\n",
       "    }\n",
       "\n",
       "    .dataframe thead th {\n",
       "        text-align: right;\n",
       "    }\n",
       "</style>\n",
       "<table border=\"1\" class=\"dataframe\">\n",
       "  <thead>\n",
       "    <tr style=\"text-align: right;\">\n",
       "      <th></th>\n",
       "      <th>frame_num</th>\n",
       "      <th>time_pre</th>\n",
       "      <th>cap_time_ms</th>\n",
       "      <th>time_post</th>\n",
       "      <th>lsl_time_stamp</th>\n",
       "      <th>frame_time_sec</th>\n",
       "      <th>lsl_time_sec</th>\n",
       "    </tr>\n",
       "  </thead>\n",
       "  <tbody>\n",
       "    <tr>\n",
       "      <th>0</th>\n",
       "      <td>1</td>\n",
       "      <td>1.722616e+09</td>\n",
       "      <td>2.533753e+08</td>\n",
       "      <td>1.722616e+09</td>\n",
       "      <td>341592.619618</td>\n",
       "      <td>0.000000</td>\n",
       "      <td>0.000000</td>\n",
       "    </tr>\n",
       "    <tr>\n",
       "      <th>1</th>\n",
       "      <td>2</td>\n",
       "      <td>1.722616e+09</td>\n",
       "      <td>2.533754e+08</td>\n",
       "      <td>1.722616e+09</td>\n",
       "      <td>341592.652952</td>\n",
       "      <td>0.033333</td>\n",
       "      <td>0.033334</td>\n",
       "    </tr>\n",
       "    <tr>\n",
       "      <th>2</th>\n",
       "      <td>3</td>\n",
       "      <td>1.722616e+09</td>\n",
       "      <td>2.533754e+08</td>\n",
       "      <td>1.722616e+09</td>\n",
       "      <td>341592.686285</td>\n",
       "      <td>0.066667</td>\n",
       "      <td>0.066667</td>\n",
       "    </tr>\n",
       "    <tr>\n",
       "      <th>3</th>\n",
       "      <td>4</td>\n",
       "      <td>1.722616e+09</td>\n",
       "      <td>2.533754e+08</td>\n",
       "      <td>1.722616e+09</td>\n",
       "      <td>341592.719619</td>\n",
       "      <td>0.100000</td>\n",
       "      <td>0.100001</td>\n",
       "    </tr>\n",
       "    <tr>\n",
       "      <th>4</th>\n",
       "      <td>5</td>\n",
       "      <td>1.722616e+09</td>\n",
       "      <td>2.533755e+08</td>\n",
       "      <td>1.722616e+09</td>\n",
       "      <td>341592.752952</td>\n",
       "      <td>0.133333</td>\n",
       "      <td>0.133334</td>\n",
       "    </tr>\n",
       "    <tr>\n",
       "      <th>...</th>\n",
       "      <td>...</td>\n",
       "      <td>...</td>\n",
       "      <td>...</td>\n",
       "      <td>...</td>\n",
       "      <td>...</td>\n",
       "      <td>...</td>\n",
       "      <td>...</td>\n",
       "    </tr>\n",
       "    <tr>\n",
       "      <th>9419</th>\n",
       "      <td>9420</td>\n",
       "      <td>1.722617e+09</td>\n",
       "      <td>2.536893e+08</td>\n",
       "      <td>1.722617e+09</td>\n",
       "      <td>341906.588479</td>\n",
       "      <td>313.966667</td>\n",
       "      <td>313.968861</td>\n",
       "    </tr>\n",
       "    <tr>\n",
       "      <th>9420</th>\n",
       "      <td>9421</td>\n",
       "      <td>1.722617e+09</td>\n",
       "      <td>2.536893e+08</td>\n",
       "      <td>1.722617e+09</td>\n",
       "      <td>341906.621813</td>\n",
       "      <td>314.000000</td>\n",
       "      <td>314.002195</td>\n",
       "    </tr>\n",
       "    <tr>\n",
       "      <th>9421</th>\n",
       "      <td>9422</td>\n",
       "      <td>1.722617e+09</td>\n",
       "      <td>2.536894e+08</td>\n",
       "      <td>1.722617e+09</td>\n",
       "      <td>341906.655146</td>\n",
       "      <td>314.033333</td>\n",
       "      <td>314.035528</td>\n",
       "    </tr>\n",
       "    <tr>\n",
       "      <th>9422</th>\n",
       "      <td>9423</td>\n",
       "      <td>1.722617e+09</td>\n",
       "      <td>2.536894e+08</td>\n",
       "      <td>1.722617e+09</td>\n",
       "      <td>341906.688480</td>\n",
       "      <td>314.066667</td>\n",
       "      <td>314.068862</td>\n",
       "    </tr>\n",
       "    <tr>\n",
       "      <th>9423</th>\n",
       "      <td>9274</td>\n",
       "      <td>1.722617e+09</td>\n",
       "      <td>2.536844e+08</td>\n",
       "      <td>1.722617e+09</td>\n",
       "      <td>341906.721814</td>\n",
       "      <td>309.100000</td>\n",
       "      <td>314.102195</td>\n",
       "    </tr>\n",
       "  </tbody>\n",
       "</table>\n",
       "<p>9424 rows × 7 columns</p>\n",
       "</div>"
      ],
      "text/plain": [
       "      frame_num      time_pre   cap_time_ms     time_post  lsl_time_stamp  \\\n",
       "0             1  1.722616e+09  2.533753e+08  1.722616e+09   341592.619618   \n",
       "1             2  1.722616e+09  2.533754e+08  1.722616e+09   341592.652952   \n",
       "2             3  1.722616e+09  2.533754e+08  1.722616e+09   341592.686285   \n",
       "3             4  1.722616e+09  2.533754e+08  1.722616e+09   341592.719619   \n",
       "4             5  1.722616e+09  2.533755e+08  1.722616e+09   341592.752952   \n",
       "...         ...           ...           ...           ...             ...   \n",
       "9419       9420  1.722617e+09  2.536893e+08  1.722617e+09   341906.588479   \n",
       "9420       9421  1.722617e+09  2.536893e+08  1.722617e+09   341906.621813   \n",
       "9421       9422  1.722617e+09  2.536894e+08  1.722617e+09   341906.655146   \n",
       "9422       9423  1.722617e+09  2.536894e+08  1.722617e+09   341906.688480   \n",
       "9423       9274  1.722617e+09  2.536844e+08  1.722617e+09   341906.721814   \n",
       "\n",
       "      frame_time_sec  lsl_time_sec  \n",
       "0           0.000000      0.000000  \n",
       "1           0.033333      0.033334  \n",
       "2           0.066667      0.066667  \n",
       "3           0.100000      0.100001  \n",
       "4           0.133333      0.133334  \n",
       "...              ...           ...  \n",
       "9419      313.966667    313.968861  \n",
       "9420      314.000000    314.002195  \n",
       "9421      314.033333    314.035528  \n",
       "9422      314.066667    314.068862  \n",
       "9423      309.100000    314.102195  \n",
       "\n",
       "[9424 rows x 7 columns]"
      ]
     },
     "execution_count": 28,
     "metadata": {},
     "output_type": "execute_result"
    }
   ],
   "source": [
    "# Identify the frames we're interested in\n",
    "cam_data = data[3]\n",
    "#cam_df = pd.DataFrame(cam['time_series'], columns=['frame'])\n",
    "#cam_df['lsl_timestamps'] = cam['time_stamps']\n",
    "#cam_df['time'] = cam_df['lsl_timestamps'] - cam_df['lsl_timestamps'][0]\n",
    "cam_data['time_series'][0]\n",
    "frame_nums = [int(i[0]) for i in cam_data['time_series']]\n",
    "time_pre = [float(i[1]) for i in cam_data['time_series']]\n",
    "time_evnt_ms = [float(i[2]) for i in cam_data['time_series']]\n",
    "time_post = [float(i[3]) for i in cam_data['time_series']]\n",
    "\n",
    "\n",
    "cam_df = pd.DataFrame({'frame_num': frame_nums, \n",
    "                    'time_pre': time_pre, \n",
    "                    'cap_time_ms': time_evnt_ms,\n",
    "                    'time_post': time_post,\n",
    "                    'lsl_time_stamp': cam_data['time_stamps']})\n",
    "\n",
    "\n",
    "\n",
    "cam_df['frame_time_sec'] = (cam_df.cap_time_ms - cam_df.cap_time_ms[0])/1000\n",
    "cam_df['lsl_time_sec'] = cam_df.lsl_time_stamp - cam_df.lsl_time_stamp[0]\n",
    "cam_df"
   ]
  },
  {
   "cell_type": "code",
   "execution_count": 42,
   "metadata": {},
   "outputs": [
    {
     "ename": "KeyError",
     "evalue": "0",
     "output_type": "error",
     "traceback": [
      "\u001b[1;31m---------------------------------------------------------------------------\u001b[0m",
      "\u001b[1;31mKeyError\u001b[0m                                  Traceback (most recent call last)",
      "File \u001b[1;32mc:\\Python311\\Lib\\site-packages\\pandas\\core\\indexes\\base.py:3805\u001b[0m, in \u001b[0;36mIndex.get_loc\u001b[1;34m(self, key)\u001b[0m\n\u001b[0;32m   3804\u001b[0m \u001b[39mtry\u001b[39;00m:\n\u001b[1;32m-> 3805\u001b[0m     \u001b[39mreturn\u001b[39;00m \u001b[39mself\u001b[39;49m\u001b[39m.\u001b[39;49m_engine\u001b[39m.\u001b[39;49mget_loc(casted_key)\n\u001b[0;32m   3806\u001b[0m \u001b[39mexcept\u001b[39;00m \u001b[39mKeyError\u001b[39;00m \u001b[39mas\u001b[39;00m err:\n",
      "File \u001b[1;32mindex.pyx:167\u001b[0m, in \u001b[0;36mpandas._libs.index.IndexEngine.get_loc\u001b[1;34m()\u001b[0m\n",
      "File \u001b[1;32mindex.pyx:196\u001b[0m, in \u001b[0;36mpandas._libs.index.IndexEngine.get_loc\u001b[1;34m()\u001b[0m\n",
      "File \u001b[1;32mpandas\\\\_libs\\\\hashtable_class_helper.pxi:7081\u001b[0m, in \u001b[0;36mpandas._libs.hashtable.PyObjectHashTable.get_item\u001b[1;34m()\u001b[0m\n",
      "File \u001b[1;32mpandas\\\\_libs\\\\hashtable_class_helper.pxi:7089\u001b[0m, in \u001b[0;36mpandas._libs.hashtable.PyObjectHashTable.get_item\u001b[1;34m()\u001b[0m\n",
      "\u001b[1;31mKeyError\u001b[0m: 0",
      "\nThe above exception was the direct cause of the following exception:\n",
      "\u001b[1;31mKeyError\u001b[0m                                  Traceback (most recent call last)",
      "Cell \u001b[1;32mIn[42], line 2\u001b[0m\n\u001b[0;32m      1\u001b[0m cam_df[\u001b[39m'\u001b[39m\u001b[39mtime\u001b[39m\u001b[39m'\u001b[39m] \u001b[39m=\u001b[39m cam_df[\u001b[39m'\u001b[39m\u001b[39mlsl_time_sec\u001b[39m\u001b[39m'\u001b[39m]\u001b[39m.\u001b[39mapply(\u001b[39mlambda\u001b[39;00m x: \u001b[39mround\u001b[39m(x, \u001b[39m2\u001b[39m))\n\u001b[1;32m----> 2\u001b[0m start_frame \u001b[39m=\u001b[39m cam_df\u001b[39m.\u001b[39;49mloc[cam_df\u001b[39m.\u001b[39;49mtime \u001b[39m==\u001b[39;49m start_sec][\u001b[39m0\u001b[39;49m]\n\u001b[0;32m      3\u001b[0m stop_frame \u001b[39m=\u001b[39m cam_df\u001b[39m.\u001b[39mloc[cam_df\u001b[39m.\u001b[39mtime \u001b[39m==\u001b[39m stop_sec]\n",
      "File \u001b[1;32mc:\\Python311\\Lib\\site-packages\\pandas\\core\\frame.py:4102\u001b[0m, in \u001b[0;36mDataFrame.__getitem__\u001b[1;34m(self, key)\u001b[0m\n\u001b[0;32m   4100\u001b[0m \u001b[39mif\u001b[39;00m \u001b[39mself\u001b[39m\u001b[39m.\u001b[39mcolumns\u001b[39m.\u001b[39mnlevels \u001b[39m>\u001b[39m \u001b[39m1\u001b[39m:\n\u001b[0;32m   4101\u001b[0m     \u001b[39mreturn\u001b[39;00m \u001b[39mself\u001b[39m\u001b[39m.\u001b[39m_getitem_multilevel(key)\n\u001b[1;32m-> 4102\u001b[0m indexer \u001b[39m=\u001b[39m \u001b[39mself\u001b[39;49m\u001b[39m.\u001b[39;49mcolumns\u001b[39m.\u001b[39;49mget_loc(key)\n\u001b[0;32m   4103\u001b[0m \u001b[39mif\u001b[39;00m is_integer(indexer):\n\u001b[0;32m   4104\u001b[0m     indexer \u001b[39m=\u001b[39m [indexer]\n",
      "File \u001b[1;32mc:\\Python311\\Lib\\site-packages\\pandas\\core\\indexes\\base.py:3812\u001b[0m, in \u001b[0;36mIndex.get_loc\u001b[1;34m(self, key)\u001b[0m\n\u001b[0;32m   3807\u001b[0m     \u001b[39mif\u001b[39;00m \u001b[39misinstance\u001b[39m(casted_key, \u001b[39mslice\u001b[39m) \u001b[39mor\u001b[39;00m (\n\u001b[0;32m   3808\u001b[0m         \u001b[39misinstance\u001b[39m(casted_key, abc\u001b[39m.\u001b[39mIterable)\n\u001b[0;32m   3809\u001b[0m         \u001b[39mand\u001b[39;00m \u001b[39many\u001b[39m(\u001b[39misinstance\u001b[39m(x, \u001b[39mslice\u001b[39m) \u001b[39mfor\u001b[39;00m x \u001b[39min\u001b[39;00m casted_key)\n\u001b[0;32m   3810\u001b[0m     ):\n\u001b[0;32m   3811\u001b[0m         \u001b[39mraise\u001b[39;00m InvalidIndexError(key)\n\u001b[1;32m-> 3812\u001b[0m     \u001b[39mraise\u001b[39;00m \u001b[39mKeyError\u001b[39;00m(key) \u001b[39mfrom\u001b[39;00m \u001b[39merr\u001b[39;00m\n\u001b[0;32m   3813\u001b[0m \u001b[39mexcept\u001b[39;00m \u001b[39mTypeError\u001b[39;00m:\n\u001b[0;32m   3814\u001b[0m     \u001b[39m# If we have a listlike key, _check_indexing_error will raise\u001b[39;00m\n\u001b[0;32m   3815\u001b[0m     \u001b[39m#  InvalidIndexError. Otherwise we fall through and re-raise\u001b[39;00m\n\u001b[0;32m   3816\u001b[0m     \u001b[39m#  the TypeError.\u001b[39;00m\n\u001b[0;32m   3817\u001b[0m     \u001b[39mself\u001b[39m\u001b[39m.\u001b[39m_check_indexing_error(key)\n",
      "\u001b[1;31mKeyError\u001b[0m: 0"
     ]
    }
   ],
   "source": [
    "cam_df['time'] = cam_df['lsl_time_sec'].apply(lambda x: round(x, 2))\n",
    "start_frame = cam_df.loc[cam_df.time == start_sec]\n",
    "stop_frame = cam_df.loc[cam_df.time == stop_sec]"
   ]
  },
  {
   "cell_type": "markdown",
   "metadata": {},
   "source": [
    "A goal here is to identify timestamps in the microphone data and their corresponding frames in the video data"
   ]
  },
  {
   "cell_type": "code",
   "execution_count": 10,
   "metadata": {},
   "outputs": [
    {
     "data": {
      "text/plain": [
       "[<matplotlib.lines.Line2D at 0x23cffa18210>]"
      ]
     },
     "execution_count": 10,
     "metadata": {},
     "output_type": "execute_result"
    },
    {
     "data": {
      "image/png": "[encoded data removed]",
      "text/plain": [
       "<Figure size 640x480 with 1 Axes>"
      ]
     },
     "metadata": {},
     "output_type": "display_data"
    }
   ],
   "source": [
    "plt.plot(mic_df['int_array'])"
   ]
  },
  {
   "cell_type": "code",
   "execution_count": null,
   "metadata": {},
   "outputs": [],
   "source": []
  }
 ],
 "metadata": {
  "kernelspec": {
   "display_name": "Python 3",
   "language": "python",
   "name": "python3"
  },
  "language_info": {
   "codemirror_mode": {
    "name": "ipython",
    "version": 3
   },
   "file_extension": ".py",
   "mimetype": "text/x-python",
   "name": "python",
   "nbconvert_exporter": "python",
   "pygments_lexer": "ipython3",
   "version": "3.11.3"
  },
  "orig_nbformat": 4
 },
 "nbformat": 4,
 "nbformat_minor": 2
}
