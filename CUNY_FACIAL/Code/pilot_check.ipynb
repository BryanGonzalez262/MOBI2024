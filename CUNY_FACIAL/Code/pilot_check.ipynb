{
 "cells": [
  {
   "attachments": {},
   "cell_type": "markdown",
   "metadata": {},
   "source": [
    "# Imports"
   ]
  },
  {
   "cell_type": "code",
   "execution_count": 1,
   "metadata": {},
   "outputs": [],
   "source": [
    "import pyxdf\n",
    "import pandas as pd\n",
    "import matplotlib.pyplot as plt \n",
    "import seaborn as sns \n",
    "import wave"
   ]
  },
  {
   "attachments": {},
   "cell_type": "markdown",
   "metadata": {},
   "source": [
    "# Load Data"
   ]
  },
  {
   "cell_type": "code",
   "execution_count": 2,
   "metadata": {},
   "outputs": [
    {
     "name": "stderr",
     "output_type": "stream",
     "text": [
      "Stream 2: Calculated effective sampling rate 119.9958 Hz is different from specified rate 90.0000 Hz.\n",
      "Stream 6: Calculated effective sampling rate 249.9915 Hz is different from specified rate 500.0000 Hz.\n"
     ]
    },
    {
     "data": {
      "text/plain": [
       "['Stimuli_Markers',\n",
       " 'Tobii',\n",
       " 'OpenSignals',\n",
       " 'WebcamStream',\n",
       " 'EGI NetAmp 0',\n",
       " 'Audio']"
      ]
     },
     "execution_count": 2,
     "metadata": {},
     "output_type": "execute_result"
    }
   ],
   "source": [
    "xdf_path = \"C:/Users/Admin/Documents/CurrentStudy/sub-P005/ses-S001/mobi/sub-P005_ses-S001_task-Story_run-001_mobi.xdf\"\n",
    "\n",
    "data, header = pyxdf.load_xdf(xdf_path)\n",
    "streams_collected = [stream['info']['name'][0] for stream in data]\n",
    "streams_collected"
   ]
  },
  {
   "attachments": {},
   "cell_type": "markdown",
   "metadata": {},
   "source": [
    "# Stimulus"
   ]
  },
  {
   "attachments": {},
   "cell_type": "markdown",
   "metadata": {},
   "source": [
    "## Stimulus Trigger Duration"
   ]
  },
  {
   "cell_type": "code",
   "execution_count": 3,
   "metadata": {},
   "outputs": [],
   "source": [
    "stim_dat = data[0]\n",
    "stim_df = pd.DataFrame(stim_dat['time_series'])\n",
    "stim_df.rename(columns={0: 'trigger'}, inplace=True)"
   ]
  },
  {
   "cell_type": "code",
   "execution_count": 4,
   "metadata": {},
   "outputs": [
    {
     "data": {
      "text/html": [
       "<div>\n",
       "<style scoped>\n",
       "    .dataframe tbody tr th:only-of-type {\n",
       "        vertical-align: middle;\n",
       "    }\n",
       "\n",
       "    .dataframe tbody tr th {\n",
       "        vertical-align: top;\n",
       "    }\n",
       "\n",
       "    .dataframe thead th {\n",
       "        text-align: right;\n",
       "    }\n",
       "</style>\n",
       "<table border=\"1\" class=\"dataframe\">\n",
       "  <thead>\n",
       "    <tr style=\"text-align: right;\">\n",
       "      <th></th>\n",
       "      <th>trigger</th>\n",
       "      <th>event</th>\n",
       "      <th>lsl_time_stamps</th>\n",
       "      <th>time</th>\n",
       "    </tr>\n",
       "  </thead>\n",
       "  <tbody>\n",
       "    <tr>\n",
       "      <th>0</th>\n",
       "      <td>100</td>\n",
       "      <td>Onset_10second_rest</td>\n",
       "      <td>339430.267538</td>\n",
       "      <td>0.000000</td>\n",
       "    </tr>\n",
       "    <tr>\n",
       "      <th>1</th>\n",
       "      <td>1722614126</td>\n",
       "      <td>psychopy_time_stamp</td>\n",
       "      <td>339430.267550</td>\n",
       "      <td>0.000013</td>\n",
       "    </tr>\n",
       "    <tr>\n",
       "      <th>2</th>\n",
       "      <td>101</td>\n",
       "      <td>Offset_10second_rest</td>\n",
       "      <td>339440.284336</td>\n",
       "      <td>10.016798</td>\n",
       "    </tr>\n",
       "    <tr>\n",
       "      <th>3</th>\n",
       "      <td>1722614136</td>\n",
       "      <td>psychopy_time_stamp</td>\n",
       "      <td>339440.284345</td>\n",
       "      <td>10.016807</td>\n",
       "    </tr>\n",
       "    <tr>\n",
       "      <th>4</th>\n",
       "      <td>60</td>\n",
       "      <td>Onset_Tornado</td>\n",
       "      <td>339440.362039</td>\n",
       "      <td>10.094501</td>\n",
       "    </tr>\n",
       "    <tr>\n",
       "      <th>5</th>\n",
       "      <td>1722614136</td>\n",
       "      <td>psychopy_time_stamp</td>\n",
       "      <td>339440.362051</td>\n",
       "      <td>10.094513</td>\n",
       "    </tr>\n",
       "    <tr>\n",
       "      <th>6</th>\n",
       "      <td>61</td>\n",
       "      <td>Offset_Tornado</td>\n",
       "      <td>339603.605601</td>\n",
       "      <td>173.338063</td>\n",
       "    </tr>\n",
       "    <tr>\n",
       "      <th>7</th>\n",
       "      <td>1722614299</td>\n",
       "      <td>psychopy_time_stamp</td>\n",
       "      <td>339603.605611</td>\n",
       "      <td>173.338073</td>\n",
       "    </tr>\n",
       "    <tr>\n",
       "      <th>8</th>\n",
       "      <td>7</td>\n",
       "      <td>Bx_input</td>\n",
       "      <td>339609.753684</td>\n",
       "      <td>179.486146</td>\n",
       "    </tr>\n",
       "    <tr>\n",
       "      <th>9</th>\n",
       "      <td>6</td>\n",
       "      <td>Bx_input</td>\n",
       "      <td>339617.836658</td>\n",
       "      <td>187.569121</td>\n",
       "    </tr>\n",
       "  </tbody>\n",
       "</table>\n",
       "</div>"
      ],
      "text/plain": [
       "      trigger                 event  lsl_time_stamps        time\n",
       "0         100   Onset_10second_rest    339430.267538    0.000000\n",
       "1  1722614126   psychopy_time_stamp    339430.267550    0.000013\n",
       "2         101  Offset_10second_rest    339440.284336   10.016798\n",
       "3  1722614136   psychopy_time_stamp    339440.284345   10.016807\n",
       "4          60         Onset_Tornado    339440.362039   10.094501\n",
       "5  1722614136   psychopy_time_stamp    339440.362051   10.094513\n",
       "6          61        Offset_Tornado    339603.605601  173.338063\n",
       "7  1722614299   psychopy_time_stamp    339603.605611  173.338073\n",
       "8           7              Bx_input    339609.753684  179.486146\n",
       "9           6              Bx_input    339617.836658  187.569121"
      ]
     },
     "execution_count": 4,
     "metadata": {},
     "output_type": "execute_result"
    }
   ],
   "source": [
    "stim_dat = data[0]\n",
    "stim_df = pd.DataFrame(stim_dat['time_series'])\n",
    "stim_df.rename(columns={0: 'trigger'}, inplace=True)\n",
    "events = {\n",
    "    100: 'Onset_10second_rest',\n",
    "    101: 'Offset_10second_rest', \n",
    "    10: 'Onset_BirthMother',\n",
    "    11: 'Offset_BirthMother', \n",
    "    20: 'Onset_CampFriend',\n",
    "    21: 'Offset_CampFriend',\n",
    "    30: 'Onset_FrogDissection',\n",
    "    31: 'Offset_FrogDissection',\n",
    "    40: 'Onset_DanceContest',\n",
    "    41: 'Offset_DanceContest',\n",
    "    50: 'Onset_ZoomClass',\n",
    "    51: 'Offset_ZoomClass',\n",
    "    60: 'Onset_Tornado',\n",
    "    61: 'Offset_Tornado',\n",
    "    70: 'Onset_BirthdayParty',\n",
    "    71: 'Offset_BirthdayParty',\n",
    "    80: 'Onset_Glitter',\n",
    "    81: 'Offset_Glitter',\n",
    "}\n",
    "\n",
    "# relabel the event if the trigger is in the events dictionary, else if \n",
    "stim_df['event'] = stim_df['trigger'].apply(lambda x: events[x] if x in events.keys() else 'Bx_input')\n",
    "\n",
    "# relabel the event as a psychopy timestamp if the trigger is greater than 4 digits\n",
    "stim_df.loc[stim_df.trigger.astype(str).str.len() > 4, 'event'] = 'psychopy_time_stamp'\n",
    "stim_df['lsl_time_stamps'] = stim_dat['time_stamps']\n",
    "stim_df['time'] = stim_dat['time_stamps'] - stim_dat['time_stamps'][0]\n",
    "stim_df.head(10)"
   ]
  },
  {
   "cell_type": "code",
   "execution_count": 5,
   "metadata": {},
   "outputs": [
    {
     "data": {
      "text/plain": [
       "[10, 20, 30, 40, 50, 60, 70, 80]"
      ]
     },
     "execution_count": 5,
     "metadata": {},
     "output_type": "execute_result"
    }
   ],
   "source": [
    "story_onsets = list(events.keys())[2:][::2] #every other trigger is the offset\n",
    "\n",
    "story_onsets"
   ]
  },
  {
   "cell_type": "code",
   "execution_count": 6,
   "metadata": {},
   "outputs": [
    {
     "data": {
      "text/plain": [
       "['BirthMother',\n",
       " 'CampFriend',\n",
       " 'FrogDissection',\n",
       " 'DanceContest',\n",
       " 'ZoomClass',\n",
       " 'Tornado',\n",
       " 'BirthdayParty',\n",
       " 'Glitter']"
      ]
     },
     "execution_count": 6,
     "metadata": {},
     "output_type": "execute_result"
    }
   ],
   "source": [
    "def get_secs_between_triggers(trigger1, trigger2):\n",
    "    return stim_df.loc[stim_df.trigger == trigger1, 'time'].values[0] - stim_df.loc[stim_df.trigger == trigger2, 'time'].values[0]\n",
    "\n",
    "# Get a list of the story names using the events dict\n",
    "story_names = [x.split('_')[1] for x in list(events.values())[2:][::2]]\n",
    "story_names"
   ]
  },
  {
   "cell_type": "code",
   "execution_count": 7,
   "metadata": {},
   "outputs": [
    {
     "data": {
      "text/html": [
       "<div>\n",
       "<style scoped>\n",
       "    .dataframe tbody tr th:only-of-type {\n",
       "        vertical-align: middle;\n",
       "    }\n",
       "\n",
       "    .dataframe tbody tr th {\n",
       "        vertical-align: top;\n",
       "    }\n",
       "\n",
       "    .dataframe thead th {\n",
       "        text-align: right;\n",
       "    }\n",
       "</style>\n",
       "<table border=\"1\" class=\"dataframe\">\n",
       "  <thead>\n",
       "    <tr style=\"text-align: right;\">\n",
       "      <th></th>\n",
       "      <th>trigger</th>\n",
       "      <th>story</th>\n",
       "      <th>lsl_duration</th>\n",
       "      <th>audiofile_duration</th>\n",
       "      <th>difference(sec)</th>\n",
       "    </tr>\n",
       "  </thead>\n",
       "  <tbody>\n",
       "    <tr>\n",
       "      <th>0</th>\n",
       "      <td>10</td>\n",
       "      <td>Onset_BirthMother</td>\n",
       "      <td>157.745044</td>\n",
       "      <td>157.726104</td>\n",
       "      <td>-0.018939</td>\n",
       "    </tr>\n",
       "    <tr>\n",
       "      <th>1</th>\n",
       "      <td>20</td>\n",
       "      <td>Onset_CampFriend</td>\n",
       "      <td>152.937353</td>\n",
       "      <td>152.838063</td>\n",
       "      <td>-0.099290</td>\n",
       "    </tr>\n",
       "    <tr>\n",
       "      <th>2</th>\n",
       "      <td>30</td>\n",
       "      <td>Onset_FrogDissection</td>\n",
       "      <td>124.361157</td>\n",
       "      <td>124.344813</td>\n",
       "      <td>-0.016344</td>\n",
       "    </tr>\n",
       "    <tr>\n",
       "      <th>3</th>\n",
       "      <td>40</td>\n",
       "      <td>Onset_DanceContest</td>\n",
       "      <td>138.335716</td>\n",
       "      <td>138.318729</td>\n",
       "      <td>-0.016987</td>\n",
       "    </tr>\n",
       "    <tr>\n",
       "      <th>4</th>\n",
       "      <td>50</td>\n",
       "      <td>Onset_ZoomClass</td>\n",
       "      <td>98.378069</td>\n",
       "      <td>98.359854</td>\n",
       "      <td>-0.018215</td>\n",
       "    </tr>\n",
       "    <tr>\n",
       "      <th>5</th>\n",
       "      <td>60</td>\n",
       "      <td>Onset_Tornado</td>\n",
       "      <td>163.243562</td>\n",
       "      <td>163.227583</td>\n",
       "      <td>-0.015979</td>\n",
       "    </tr>\n",
       "    <tr>\n",
       "      <th>6</th>\n",
       "      <td>70</td>\n",
       "      <td>Onset_BirthdayParty</td>\n",
       "      <td>160.231821</td>\n",
       "      <td>160.215313</td>\n",
       "      <td>-0.016509</td>\n",
       "    </tr>\n",
       "    <tr>\n",
       "      <th>7</th>\n",
       "      <td>80</td>\n",
       "      <td>Onset_Glitter</td>\n",
       "      <td>158.391881</td>\n",
       "      <td>158.380208</td>\n",
       "      <td>-0.011673</td>\n",
       "    </tr>\n",
       "  </tbody>\n",
       "</table>\n",
       "</div>"
      ],
      "text/plain": [
       "   trigger                 story  lsl_duration  audiofile_duration  \\\n",
       "0       10     Onset_BirthMother    157.745044          157.726104   \n",
       "1       20      Onset_CampFriend    152.937353          152.838063   \n",
       "2       30  Onset_FrogDissection    124.361157          124.344813   \n",
       "3       40    Onset_DanceContest    138.335716          138.318729   \n",
       "4       50       Onset_ZoomClass     98.378069           98.359854   \n",
       "5       60         Onset_Tornado    163.243562          163.227583   \n",
       "6       70   Onset_BirthdayParty    160.231821          160.215313   \n",
       "7       80         Onset_Glitter    158.391881          158.380208   \n",
       "\n",
       "   difference(sec)  \n",
       "0        -0.018939  \n",
       "1        -0.099290  \n",
       "2        -0.016344  \n",
       "3        -0.016987  \n",
       "4        -0.018215  \n",
       "5        -0.015979  \n",
       "6        -0.016509  \n",
       "7        -0.011673  "
      ]
     },
     "execution_count": 7,
     "metadata": {},
     "output_type": "execute_result"
    }
   ],
   "source": [
    "files= [\n",
    "    \"../audio_files/audio_files/After_Searching_I_Found_and_Met_My_Birth_Mother.wav\",\n",
    "    \"../audio_files/audio_files/Camp_Lose_A_Friend.wav\",\n",
    "    \"../audio_files/audio_files/Frog_Dissection_Disaster.wav\",\n",
    "    \"../audio_files/audio_files/I_Decided_To_Be_Myself_And_Won_A_Dance_Contest.wav\",\n",
    "    \"../audio_files/audio_files/I_Fully_Embarrassed_Myself_In_Zoom_Class1.wav\",\n",
    "    \"../audio_files/audio_files/Left_Home_Alone_in_a_Tornado.wav\",\n",
    "    \"../audio_files/audio_files/The_Birthday_Party_Prank.wav\",\n",
    "    \"../audio_files/audio_files/My_Dad_Saw_Me_Wearing_Glitter_At_School.wav\"\n",
    "]\n",
    "\n",
    "\n",
    "durations = pd.DataFrame({\n",
    "    'trigger':story_onsets,\n",
    "    'story':[events[x] for x in story_onsets],\n",
    "    'lsl_duration': [get_secs_between_triggers(x+1, x) for x in story_onsets],\n",
    "    'audiofile_duration': [wave.open(x).getnframes()/wave.open(x).getframerate() for x in files]\n",
    "})\n",
    "\n",
    "durations['difference(sec)'] = durations['audiofile_duration'] - durations['lsl_duration']\n",
    "durations"
   ]
  },
  {
   "cell_type": "code",
   "execution_count": null,
   "metadata": {},
   "outputs": [],
   "source": []
  },
  {
   "cell_type": "markdown",
   "metadata": {},
   "source": [
    "## Stimulus wav file Duration"
   ]
  },
  {
   "cell_type": "code",
   "execution_count": 8,
   "metadata": {},
   "outputs": [
    {
     "data": {
      "text/plain": [
       "163.22758333333334"
      ]
     },
     "execution_count": 8,
     "metadata": {},
     "output_type": "execute_result"
    }
   ],
   "source": [
    "def get_wave_duration(file_path):\n",
    "    with wave.open(file_path, 'rb') as wave_file:\n",
    "        frame_rate = wave_file.getframerate()\n",
    "        n_frames = wave_file.getnframes()\n",
    "        duration = n_frames / frame_rate\n",
    "        return duration\n",
    "    \n",
    "\n",
    "tornado_dur = get_wave_duration(\"../audio_files/audio_files/Left_Home_Alone_in_a_Tornado.wav\")\n",
    "tornado_dur"
   ]
  },
  {
   "cell_type": "code",
   "execution_count": null,
   "metadata": {},
   "outputs": [],
   "source": []
  }
 ],
 "metadata": {
  "kernelspec": {
   "display_name": "Python 3",
   "language": "python",
   "name": "python3"
  },
  "language_info": {
   "codemirror_mode": {
    "name": "ipython",
    "version": 3
   },
   "file_extension": ".py",
   "mimetype": "text/x-python",
   "name": "python",
   "nbconvert_exporter": "python",
   "pygments_lexer": "ipython3",
   "version": "3.11.3"
  },
  "orig_nbformat": 4
 },
 "nbformat": 4,
 "nbformat_minor": 2
}
