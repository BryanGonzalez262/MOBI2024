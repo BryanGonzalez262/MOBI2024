{
 "cells": [
  {
   "attachments": {},
   "cell_type": "markdown",
   "metadata": {},
   "source": [
    "# Imports"
   ]
  },
  {
   "cell_type": "code",
   "execution_count": 1,
   "metadata": {
    "ExecuteTime": {
     "end_time": "2024-07-22T20:19:07.703913Z",
     "start_time": "2024-07-22T20:19:07.351923Z"
    }
   },
   "outputs": [],
   "source": [
    "import pyxdf\n",
    "import cv2\n",
    "import matplotlib.pyplot as plt\n",
    "from datetime import datetime, timedelta\n",
    "import numpy as np\n",
    "import pandas as pd\n",
    "import pingouin as pg \n",
    "import seaborn as sns"
   ]
  },
  {
   "cell_type": "code",
   "execution_count": 2,
   "metadata": {
    "ExecuteTime": {
     "end_time": "2024-07-19T14:58:43.208342Z",
     "start_time": "2024-07-19T14:58:43.204925Z"
    }
   },
   "outputs": [],
   "source": [
    "\n",
    "xdf_path = \"../Data/Pilots/6_17_2024/sub-P001_ses-S001_task-Default_run-001_eeg_old5.xdf\"\n"
   ]
  },
  {
   "cell_type": "code",
   "execution_count": 3,
   "metadata": {
    "ExecuteTime": {
     "end_time": "2024-07-19T14:58:44.718056Z",
     "start_time": "2024-07-19T14:58:43.210706Z"
    }
   },
   "outputs": [
    {
     "name": "stderr",
     "output_type": "stream",
     "text": [
      "Stream 1: Calculated effective sampling rate 9.0677 Hz is different from specified rate 30.0000 Hz.\n"
     ]
    },
    {
     "data": {
      "text/plain": "['WebcamStream']"
     },
     "execution_count": 3,
     "metadata": {},
     "output_type": "execute_result"
    }
   ],
   "source": [
    "data, header = pyxdf.load_xdf(xdf_path)\n",
    "streams_collected = [stream['info']['name'][0] for stream in data]\n",
    "streams_collected"
   ]
  },
  {
   "cell_type": "markdown",
   "metadata": {},
   "source": [
    "## Computing the sampling frequency of the webcam data"
   ]
  },
  {
   "cell_type": "code",
   "execution_count": 5,
   "metadata": {
    "ExecuteTime": {
     "end_time": "2024-07-19T14:59:50.052306Z",
     "start_time": "2024-07-19T14:59:50.046364Z"
    }
   },
   "outputs": [
    {
     "data": {
      "text/plain": "9.045790205787965"
     },
     "execution_count": 5,
     "metadata": {},
     "output_type": "execute_result"
    }
   ],
   "source": [
    "#stim_data=data[0]\n",
    "cam_data = data[0]\n",
    "cam_data['time_stamps'] \n",
    "# Use the time stamps to get the sample rate\n",
    "sample_rate = 1/np.mean(np.diff(cam_data['time_stamps']))\n",
    "sample_rate"
   ]
  },
  {
   "cell_type": "code",
   "execution_count": 6,
   "metadata": {
    "ExecuteTime": {
     "end_time": "2024-07-19T14:59:51.118100Z",
     "start_time": "2024-07-19T14:59:51.080161Z"
    }
   },
   "outputs": [
    {
     "data": {
      "text/plain": "           time                                              frame  \\\n0    1719333640  [143, 194, 203, 136, 194, 205, 128, 194, 206, ...   \n1    1719333640  [141, 196, 205, 139, 197, 205, 137, 197, 205, ...   \n2    1719333640  [142, 195, 204, 139, 197, 205, 134, 196, 204, ...   \n3    1719333640  [152, 196, 202, 143, 197, 203, 136, 198, 206, ...   \n4    1719333641  [146, 197, 203, 137, 196, 204, 131, 197, 207, ...   \n..          ...                                                ...   \n284  1719333672  [153, 219, 229, 151, 220, 231, 147, 219, 231, ...   \n285  1719333672  [159, 219, 227, 155, 221, 228, 150, 221, 228, ...   \n286  1719333672  [155, 219, 229, 155, 220, 229, 155, 222, 230, ...   \n287  1719333672  [161, 219, 227, 158, 220, 228, 154, 221, 228, ...   \n288  1719333672  [160, 220, 230, 158, 220, 229, 156, 221, 228, ...   \n\n       time_stamps            datetime  \n0    690364.185109 2024-06-25 16:40:40  \n1    690364.295657 2024-06-25 16:40:40  \n2    690364.406206 2024-06-25 16:40:40  \n3    690364.516755 2024-06-25 16:40:40  \n4    690364.627303 2024-06-25 16:40:41  \n..             ...                 ...  \n284  690395.580929 2024-06-25 16:41:12  \n285  690395.691477 2024-06-25 16:41:12  \n286  690395.802026 2024-06-25 16:41:12  \n287  690395.912574 2024-06-25 16:41:12  \n288  690396.023123 2024-06-25 16:41:12  \n\n[289 rows x 4 columns]",
      "text/html": "<div>\n<style scoped>\n    .dataframe tbody tr th:only-of-type {\n        vertical-align: middle;\n    }\n\n    .dataframe tbody tr th {\n        vertical-align: top;\n    }\n\n    .dataframe thead th {\n        text-align: right;\n    }\n</style>\n<table border=\"1\" class=\"dataframe\">\n  <thead>\n    <tr style=\"text-align: right;\">\n      <th></th>\n      <th>time</th>\n      <th>frame</th>\n      <th>time_stamps</th>\n      <th>datetime</th>\n    </tr>\n  </thead>\n  <tbody>\n    <tr>\n      <th>0</th>\n      <td>1719333640</td>\n      <td>[143, 194, 203, 136, 194, 205, 128, 194, 206, ...</td>\n      <td>690364.185109</td>\n      <td>2024-06-25 16:40:40</td>\n    </tr>\n    <tr>\n      <th>1</th>\n      <td>1719333640</td>\n      <td>[141, 196, 205, 139, 197, 205, 137, 197, 205, ...</td>\n      <td>690364.295657</td>\n      <td>2024-06-25 16:40:40</td>\n    </tr>\n    <tr>\n      <th>2</th>\n      <td>1719333640</td>\n      <td>[142, 195, 204, 139, 197, 205, 134, 196, 204, ...</td>\n      <td>690364.406206</td>\n      <td>2024-06-25 16:40:40</td>\n    </tr>\n    <tr>\n      <th>3</th>\n      <td>1719333640</td>\n      <td>[152, 196, 202, 143, 197, 203, 136, 198, 206, ...</td>\n      <td>690364.516755</td>\n      <td>2024-06-25 16:40:40</td>\n    </tr>\n    <tr>\n      <th>4</th>\n      <td>1719333641</td>\n      <td>[146, 197, 203, 137, 196, 204, 131, 197, 207, ...</td>\n      <td>690364.627303</td>\n      <td>2024-06-25 16:40:41</td>\n    </tr>\n    <tr>\n      <th>...</th>\n      <td>...</td>\n      <td>...</td>\n      <td>...</td>\n      <td>...</td>\n    </tr>\n    <tr>\n      <th>284</th>\n      <td>1719333672</td>\n      <td>[153, 219, 229, 151, 220, 231, 147, 219, 231, ...</td>\n      <td>690395.580929</td>\n      <td>2024-06-25 16:41:12</td>\n    </tr>\n    <tr>\n      <th>285</th>\n      <td>1719333672</td>\n      <td>[159, 219, 227, 155, 221, 228, 150, 221, 228, ...</td>\n      <td>690395.691477</td>\n      <td>2024-06-25 16:41:12</td>\n    </tr>\n    <tr>\n      <th>286</th>\n      <td>1719333672</td>\n      <td>[155, 219, 229, 155, 220, 229, 155, 222, 230, ...</td>\n      <td>690395.802026</td>\n      <td>2024-06-25 16:41:12</td>\n    </tr>\n    <tr>\n      <th>287</th>\n      <td>1719333672</td>\n      <td>[161, 219, 227, 158, 220, 228, 154, 221, 228, ...</td>\n      <td>690395.912574</td>\n      <td>2024-06-25 16:41:12</td>\n    </tr>\n    <tr>\n      <th>288</th>\n      <td>1719333672</td>\n      <td>[160, 220, 230, 158, 220, 229, 156, 221, 228, ...</td>\n      <td>690396.023123</td>\n      <td>2024-06-25 16:41:12</td>\n    </tr>\n  </tbody>\n</table>\n<p>289 rows × 4 columns</p>\n</div>"
     },
     "execution_count": 6,
     "metadata": {},
     "output_type": "execute_result"
    }
   ],
   "source": [
    "# pop off the first element of each array in the data time series\n",
    "frame = [i[1:] for i in cam_data['time_series']]\n",
    "timez = [i[0] for i in cam_data['time_series']]\n",
    "\n",
    "dat = pd.DataFrame({'time':timez, 'frame':frame, 'time_stamps':cam_data['time_stamps']})\n",
    "# convert the time to a datetime object\n",
    "dat['datetime'] = dat['time'].apply(lambda x: datetime.utcfromtimestamp(x))\n",
    "dat"
   ]
  },
  {
   "cell_type": "code",
   "execution_count": 14,
   "metadata": {
    "ExecuteTime": {
     "end_time": "2024-07-19T17:50:00.191855Z",
     "start_time": "2024-07-19T17:50:00.180006Z"
    }
   },
   "outputs": [
    {
     "data": {
      "text/plain": "datetime.datetime(2024, 6, 25, 16, 40, 40)"
     },
     "execution_count": 14,
     "metadata": {},
     "output_type": "execute_result"
    }
   ],
   "source": [
    "test = dat.time[0] * 1000\n",
    "datetime.utcfromtimestamp(test/1000).replace(microsecond=(test%1000)*1000)\n",
    "# get more precise time stamps\n"
   ]
  },
  {
   "cell_type": "code",
   "execution_count": 15,
   "metadata": {
    "ExecuteTime": {
     "end_time": "2024-07-19T17:50:50.642015Z",
     "start_time": "2024-07-19T17:50:50.637043Z"
    }
   },
   "outputs": [
    {
     "data": {
      "text/plain": "0.03333333333333333"
     },
     "execution_count": 15,
     "metadata": {},
     "output_type": "execute_result"
    }
   ],
   "source": [
    "1/30"
   ]
  },
  {
   "cell_type": "code",
   "execution_count": 21,
   "metadata": {
    "ExecuteTime": {
     "end_time": "2024-07-19T17:53:41.605861Z",
     "start_time": "2024-07-19T17:53:41.602582Z"
    }
   },
   "outputs": [
    {
     "name": "stdout",
     "output_type": "stream",
     "text": [
      "690364.2956572808\n",
      "690364.1851086193\n"
     ]
    }
   ],
   "source": [
    "# Plot the sampling frequency as a histogram\n",
    "print(dat['time_stamps'][1])\n",
    "print(dat['time_stamps'][0])"
   ]
  },
  {
   "attachments": {},
   "cell_type": "markdown",
   "metadata": {},
   "source": [
    "## Note the that first element of every entry of 'time_series' is actually a timestamp."
   ]
  },
  {
   "cell_type": "code",
   "execution_count": 26,
   "metadata": {
    "ExecuteTime": {
     "end_time": "2024-07-19T17:59:59.262398Z",
     "start_time": "2024-07-19T17:59:59.254366Z"
    }
   },
   "outputs": [
    {
     "name": "stdout",
     "output_type": "stream",
     "text": [
      "nan\n",
      "0.11054866155609488\n",
      "0.11054866155609488\n",
      "0.11054866155609488\n",
      "0.11054866155609488\n",
      "0.11054866155609488\n",
      "0.11054866155609488\n",
      "0.11054866155609488\n",
      "0.11054866155609488\n",
      "0.11054866155609488\n"
     ]
    },
    {
     "data": {
      "text/plain": "[None, None, None, None, None, None, None, None, None, None]"
     },
     "execution_count": 26,
     "metadata": {},
     "output_type": "execute_result"
    }
   ],
   "source": [
    "[print(x) for x in dat.time_stamps.diff()[:10]]\n"
   ]
  },
  {
   "cell_type": "code",
   "outputs": [],
   "source": [
    "    "
   ],
   "metadata": {
    "collapsed": false
   }
  },
  {
   "cell_type": "code",
   "execution_count": 37,
   "metadata": {},
   "outputs": [
    {
     "data": {
      "text/plain": [
       "datetime.datetime(1969, 12, 31, 19, 0, 5)"
      ]
     },
     "execution_count": 37,
     "metadata": {},
     "output_type": "execute_result"
    }
   ],
   "source": [
    "\n",
    "import time\n",
    "import datetime\n",
    "\n",
    "datetime.datetime.fromtimestamp(cam_data['time_series'][65].tolist()[0])"
   ]
  },
  {
   "cell_type": "code",
   "execution_count": 38,
   "metadata": {},
   "outputs": [
    {
     "ename": "ValueError",
     "evalue": "cannot reshape array of size 0 into shape (480,640,3)",
     "output_type": "error",
     "traceback": [
      "\u001B[1;31m---------------------------------------------------------------------------\u001B[0m",
      "\u001B[1;31mValueError\u001B[0m                                Traceback (most recent call last)",
      "Cell \u001B[1;32mIn[38], line 2\u001B[0m\n\u001B[0;32m      1\u001B[0m frame_array \u001B[39m=\u001B[39m np\u001B[39m.\u001B[39marray(data[\u001B[39m0\u001B[39m][\u001B[39m'\u001B[39m\u001B[39mtime_series\u001B[39m\u001B[39m'\u001B[39m][\u001B[39m65\u001B[39m]\u001B[39m.\u001B[39mtolist()[\u001B[39m1\u001B[39m:], dtype\u001B[39m=\u001B[39mnp\u001B[39m.\u001B[39muint8)\n\u001B[1;32m----> 2\u001B[0m frame_array_reshaped \u001B[39m=\u001B[39m frame_array\u001B[39m.\u001B[39;49mreshape((\u001B[39m480\u001B[39;49m, \u001B[39m640\u001B[39;49m, \u001B[39m3\u001B[39;49m))\n\u001B[0;32m      3\u001B[0m frame_rgb \u001B[39m=\u001B[39m cv2\u001B[39m.\u001B[39mcvtColor(frame_array_reshaped, cv2\u001B[39m.\u001B[39mCOLOR_BGR2RGB)\n\u001B[0;32m      5\u001B[0m plt\u001B[39m.\u001B[39mimshow(frame_rgb)\n",
      "\u001B[1;31mValueError\u001B[0m: cannot reshape array of size 0 into shape (480,640,3)"
     ]
    }
   ],
   "source": [
    "frame_array = np.array(data[0]['time_series'][65].tolist()[1:], dtype=np.uint8)\n",
    "frame_array_reshaped = frame_array.reshape((480, 640, 3))\n",
    "frame_rgb = cv2.cvtColor(frame_array_reshaped, cv2.COLOR_BGR2RGB)\n",
    "\n",
    "plt.imshow(frame_rgb)\n",
    "plt.axis('off')\n",
    "plt.show()"
   ]
  },
  {
   "cell_type": "code",
   "execution_count": null,
   "metadata": {},
   "outputs": [
    {
     "data": {
      "text/plain": [
       "datetime.datetime(2024, 6, 18, 13, 27, 47)"
      ]
     },
     "execution_count": 38,
     "metadata": {},
     "output_type": "execute_result"
    }
   ],
   "source": [
    "datetime.datetime.fromtimestamp(stim_data['time_series'][1][0])"
   ]
  },
  {
   "cell_type": "code",
   "execution_count": null,
   "metadata": {},
   "outputs": [
    {
     "name": "stdout",
     "output_type": "stream",
     "text": [
      "1718731667\n"
     ]
    },
    {
     "data": {
      "text/plain": [
       "1718731667"
      ]
     },
     "execution_count": 39,
     "metadata": {},
     "output_type": "execute_result"
    }
   ],
   "source": [
    "print(cam_data['time_series'][65].tolist()[0])\n",
    "stim_data['time_series'][1][0]"
   ]
  },
  {
   "cell_type": "code",
   "execution_count": null,
   "metadata": {},
   "outputs": [],
   "source": []
  },
  {
   "cell_type": "code",
   "execution_count": null,
   "metadata": {},
   "outputs": [
    {
     "data": {
      "text/plain": [
       "datetime.datetime(1970, 1, 1, 19, 10, 17)"
      ]
     },
     "execution_count": 40,
     "metadata": {},
     "output_type": "execute_result"
    }
   ],
   "source": [
    "datetime.fromtimestamp(int(float(data[0]['footer']['info']['first_timestamp'][0])))"
   ]
  },
  {
   "cell_type": "code",
   "execution_count": null,
   "metadata": {},
   "outputs": [
    {
     "data": {
      "text/plain": [
       "datetime.datetime(1970, 1, 1, 18, 27, 56, 715743)"
      ]
     },
     "execution_count": 28,
     "metadata": {},
     "output_type": "execute_result"
    }
   ],
   "source": [
    "now = datetime.fromtimestamp(data[0]['time_stamps'][788])#data[0]['time_stamps'][750]\n",
    "epoch = datetime(1970, 1, 1)\n",
    "duration_since_epoch = (now - epoch)\n",
    "#micros_since_epoch = int(duration_since_epoch)\n",
    "#time_delta = timedelta(microseconds=micros_since_epoch)\n",
    "epoch + duration_since_epoch"
   ]
  },
  {
   "cell_type": "code",
   "execution_count": null,
   "metadata": {},
   "outputs": [
    {
     "data": {
      "text/plain": [
       "datetime.datetime(1970, 1, 1, 18, 27, 56, 715743)"
      ]
     },
     "execution_count": 29,
     "metadata": {},
     "output_type": "execute_result"
    }
   ],
   "source": [
    "now"
   ]
  },
  {
   "cell_type": "code",
   "execution_count": null,
   "metadata": {},
   "outputs": [],
   "source": [
    "cap = cv2.VideoCapture(vid_path)"
   ]
  },
  {
   "cell_type": "code",
   "execution_count": null,
   "metadata": {},
   "outputs": [
    {
     "name": "stdout",
     "output_type": "stream",
     "text": [
      "Reached the end of the video.\n"
     ]
    }
   ],
   "source": [
    "while True:\n",
    "    ret, frame = cap.read()\n",
    "    if not ret:\n",
    "        print(\"Reached the end of the video.\")\n",
    "        break\n",
    "    cv2.imshow('Frame', frame)\n",
    "    if cv2.waitKey(1) & 0xFF == ord('q'):\n",
    "        break\n",
    "\n",
    "cap.release()\n",
    "cv2.destroyAllWindows()"
   ]
  },
  {
   "cell_type": "code",
   "execution_count": null,
   "metadata": {},
   "outputs": [
    {
     "ename": "error",
     "evalue": "OpenCV(4.7.0) D:\\a\\opencv-python\\opencv-python\\opencv\\modules\\highgui\\src\\window.cpp:971: error: (-215:Assertion failed) size.width>0 && size.height>0 in function 'cv::imshow'\n",
     "output_type": "error",
     "traceback": [
      "\u001B[1;31m---------------------------------------------------------------------------\u001B[0m",
      "\u001B[1;31merror\u001B[0m                                     Traceback (most recent call last)",
      "Cell \u001B[1;32mIn[17], line 1\u001B[0m\n\u001B[1;32m----> 1\u001B[0m cv2\u001B[39m.\u001B[39;49mimshow(\u001B[39m'\u001B[39;49m\u001B[39mFrame\u001B[39;49m\u001B[39m'\u001B[39;49m, frame)\n",
      "\u001B[1;31merror\u001B[0m: OpenCV(4.7.0) D:\\a\\opencv-python\\opencv-python\\opencv\\modules\\highgui\\src\\window.cpp:971: error: (-215:Assertion failed) size.width>0 && size.height>0 in function 'cv::imshow'\n"
     ]
    }
   ],
   "source": [
    "cv2.imshow('Frame', frame)"
   ]
  },
  {
   "cell_type": "code",
   "execution_count": null,
   "metadata": {},
   "outputs": [
    {
     "data": {
      "image/png": "[encoded data removed]",
      "text/plain": [
       "<Figure size 640x480 with 1 Axes>"
      ]
     },
     "metadata": {},
     "output_type": "display_data"
    }
   ],
   "source": [
    "cap = cv2.VideoCapture(vid_path)\n",
    "if not cap.isOpened():\n",
    "    print(\"Error opening the video\")\n",
    "else:\n",
    "    frame_number = 800\n",
    "\n",
    "    # Set the video position to the specified frame\n",
    "    cap.set(cv2.CAP_PROP_POS_FRAMES, frame_number)\n",
    "    # read the frame\n",
    "    ret, frame = cap.read()\n",
    "    if ret:\n",
    "        #convert the frame from BGR to RGB\n",
    "        frame_rgb = cv2.cvtColor(frame, cv2.COLOR_BGR2RGB)\n",
    "\n",
    "        plt.imshow(frame_rgb)\n",
    "        plt.axis('off')\n",
    "        plt.show()\n",
    "    else:\n",
    "        print('could not read frame')\n",
    "\n",
    "    cap.release()"
   ]
  },
  {
   "cell_type": "code",
   "execution_count": null,
   "metadata": {},
   "outputs": [
    {
     "data": {
      "text/plain": [
       "(480, 640, 3)"
      ]
     },
     "execution_count": 20,
     "metadata": {},
     "output_type": "execute_result"
    }
   ],
   "source": [
    "frame.shape"
   ]
  },
  {
   "cell_type": "code",
   "execution_count": null,
   "metadata": {},
   "outputs": [],
   "source": [
    "# Total number of frames\n",
    "cap = cv2.VideoCapture(vid_path)\n",
    "if not cap.isOpened():\n",
    "    print(\"Error opening the video\")\n",
    "else:\n",
    "    total_frames = int(cap.get(cv2.CAP_PROP_FRAME_COUNT))\n",
    "\n",
    "    cap.release()"
   ]
  },
  {
   "cell_type": "code",
   "execution_count": null,
   "metadata": {},
   "outputs": [],
   "source": [
    "frm_numbers = data[0]['time_series']\n",
    "ts = []\n",
    "\n",
    "for x in frm_numbers:\n",
    "    ts.append(x[0])\n",
    "    #print(x)"
   ]
  },
  {
   "cell_type": "code",
   "execution_count": null,
   "metadata": {},
   "outputs": [
    {
     "data": {
      "text/plain": [
       "969"
      ]
     },
     "execution_count": 24,
     "metadata": {},
     "output_type": "execute_result"
    }
   ],
   "source": [
    "ts.index(1800)"
   ]
  },
  {
   "cell_type": "code",
   "execution_count": null,
   "metadata": {},
   "outputs": [
    {
     "data": {
      "text/plain": [
       "datetime.datetime(1969, 12, 31, 20, 25, 52, 880529)"
      ]
     },
     "execution_count": 30,
     "metadata": {},
     "output_type": "execute_result"
    }
   ],
   "source": [
    "datetime.fromtimestamp(data[0]['time_stamps'][969])"
   ]
  },
  {
   "cell_type": "code",
   "execution_count": null,
   "metadata": {},
   "outputs": [
    {
     "data": {
      "text/plain": [
       "[{'info': defaultdict(list,\n",
       "              {'name': ['WebcamStream'],\n",
       "               'type': ['video'],\n",
       "               'channel_count': ['1'],\n",
       "               'channel_format': ['int32'],\n",
       "               'source_id': ['WebcamStreamID'],\n",
       "               'nominal_srate': ['30.00000000000000'],\n",
       "               'version': ['1.100000000000000'],\n",
       "               'created_at': ['7686.566416400000'],\n",
       "               'uid': ['110f3212-9af5-45fb-a7f3-ae476bddb192'],\n",
       "               'session_id': ['default'],\n",
       "               'hostname': ['C3-EYE-TRACKING'],\n",
       "               'v4address': [None],\n",
       "               'v4data_port': ['16572'],\n",
       "               'v4service_port': ['16572'],\n",
       "               'v6address': [None],\n",
       "               'v6data_port': ['16572'],\n",
       "               'v6service_port': ['16572'],\n",
       "               'desc': [None],\n",
       "               'stream_id': 1,\n",
       "               'effective_srate': 29.994532813108}),\n",
       "  'footer': {'info': defaultdict(list,\n",
       "               {'first_timestamp': ['7714.5856968'],\n",
       "                'last_timestamp': ['7887.6883277'],\n",
       "                'sample_count': ['5190'],\n",
       "                'clock_offsets': [defaultdict(list,\n",
       "                             {'offset': [defaultdict(list,\n",
       "                                           {'time': ['7720.352032899999'],\n",
       "                                            'value': ['-2593.9974373']}),\n",
       "                               defaultdict(list,\n",
       "                                           {'time': ['7725.352245800001'],\n",
       "                                            'value': ['-2593.997443600001']}),\n",
       "                               defaultdict(list,\n",
       "                                           {'time': ['7730.35297915'],\n",
       "                                            'value': ['-2593.99744595']}),\n",
       "                               defaultdict(list,\n",
       "                                           {'time': ['7735.35320605'],\n",
       "                                            'value': ['-2593.99757125']}),\n",
       "                               defaultdict(list,\n",
       "                                           {'time': ['7740.35376225'],\n",
       "                                            'value': ['-2593.99761105']}),\n",
       "                               defaultdict(list,\n",
       "                                           {'time': ['7745.354107'],\n",
       "                                            'value': ['-2593.9976687']}),\n",
       "                               defaultdict(list,\n",
       "                                           {'time': ['7750.354466649999'],\n",
       "                                            'value': ['-2593.99768515']}),\n",
       "                               defaultdict(list,\n",
       "                                           {'time': ['7755.35513695'],\n",
       "                                            'value': ['-2593.99769695']}),\n",
       "                               defaultdict(list,\n",
       "                                           {'time': ['7760.3559397'],\n",
       "                                            'value': ['-2593.9977852']}),\n",
       "                               defaultdict(list,\n",
       "                                           {'time': ['7765.35632455'],\n",
       "                                            'value': ['-2593.99784305']}),\n",
       "                               defaultdict(list,\n",
       "                                           {'time': ['7770.35708945'],\n",
       "                                            'value': ['-2593.99788345']}),\n",
       "                               defaultdict(list,\n",
       "                                           {'time': ['7775.357921500001'],\n",
       "                                            'value': ['-2593.997933']}),\n",
       "                               defaultdict(list,\n",
       "                                           {'time': ['7780.358631749999'],\n",
       "                                            'value': ['-2593.99795715']}),\n",
       "                               defaultdict(list,\n",
       "                                           {'time': ['7785.35944465'],\n",
       "                                            'value': ['-2593.99805235']}),\n",
       "                               defaultdict(list,\n",
       "                                           {'time': ['7790.359822299999'],\n",
       "                                            'value': ['-2593.9980598']}),\n",
       "                               defaultdict(list,\n",
       "                                           {'time': ['7795.3599371'],\n",
       "                                            'value': ['-2593.9981426']}),\n",
       "                               defaultdict(list,\n",
       "                                           {'time': ['7800.35999875'],\n",
       "                                            'value': ['-2593.99811575']}),\n",
       "                               defaultdict(list,\n",
       "                                           {'time': ['7805.360436999999'],\n",
       "                                            'value': ['-2593.9982077']}),\n",
       "                               defaultdict(list,\n",
       "                                           {'time': ['7810.36050535'],\n",
       "                                            'value': ['-2593.99825555']}),\n",
       "                               defaultdict(list,\n",
       "                                           {'time': ['7815.36117355'],\n",
       "                                            'value': ['-2593.99829385']}),\n",
       "                               defaultdict(list,\n",
       "                                           {'time': ['7820.3622298'],\n",
       "                                            'value': ['-2593.9983099']}),\n",
       "                               defaultdict(list,\n",
       "                                           {'time': ['7825.363051349999'],\n",
       "                                            'value': ['-2593.998404349999']}),\n",
       "                               defaultdict(list,\n",
       "                                           {'time': ['7830.36403185'],\n",
       "                                            'value': ['-2593.99844775']}),\n",
       "                               defaultdict(list,\n",
       "                                           {'time': ['7835.364197299999'],\n",
       "                                            'value': ['-2593.9984695']}),\n",
       "                               defaultdict(list,\n",
       "                                           {'time': ['7840.36488275'],\n",
       "                                            'value': ['-2593.99857065']}),\n",
       "                               defaultdict(list,\n",
       "                                           {'time': ['7845.3653954'],\n",
       "                                            'value': ['-2593.9985886']}),\n",
       "                               defaultdict(list,\n",
       "                                           {'time': ['7850.36581465'],\n",
       "                                            'value': ['-2593.99865245']}),\n",
       "                               defaultdict(list,\n",
       "                                           {'time': ['7855.3668161'],\n",
       "                                            'value': ['-2593.9986491']}),\n",
       "                               defaultdict(list,\n",
       "                                           {'time': ['7860.367629349999'],\n",
       "                                            'value': ['-2593.99871855']}),\n",
       "                               defaultdict(list,\n",
       "                                           {'time': ['7865.367819749999'],\n",
       "                                            'value': ['-2593.99875255']}),\n",
       "                               defaultdict(list,\n",
       "                                           {'time': ['7870.368537849999'],\n",
       "                                            'value': ['-2593.99878795']}),\n",
       "                               defaultdict(list,\n",
       "                                           {'time': ['7875.3694626'],\n",
       "                                            'value': ['-2593.9988731']}),\n",
       "                               defaultdict(list,\n",
       "                                           {'time': ['7880.37051655'],\n",
       "                                            'value': ['-2593.99891545']}),\n",
       "                               defaultdict(list,\n",
       "                                           {'time': ['7885.3707875'],\n",
       "                                            'value': ['-2593.9989438']}),\n",
       "                               defaultdict(list,\n",
       "                                           {'time': ['7890.3713216'],\n",
       "                                            'value': ['-2593.9989962']})]})]})},\n",
       "  'time_series': array([[ 831],\n",
       "         [ 832],\n",
       "         [ 833],\n",
       "         ...,\n",
       "         [6019],\n",
       "         [6020],\n",
       "         [6021]]),\n",
       "  'time_stamps': array([5120.57463996, 5120.60797937, 5120.64131878, ..., 5293.5395004 ,\n",
       "         5293.57283981, 5293.60617922])},\n",
       " {'info': defaultdict(list,\n",
       "              {'name': ['Audio'],\n",
       "               'type': ['AudioCapture'],\n",
       "               'channel_count': ['1'],\n",
       "               'channel_format': ['int16'],\n",
       "               'source_id': ['audio-C4-BIOSIGNALS'],\n",
       "               'nominal_srate': ['44100.00000000000'],\n",
       "               'version': ['1.100000000000000'],\n",
       "               'created_at': ['4757029.390101500'],\n",
       "               'uid': ['29fc611d-0f3b-47d9-bf7b-ffb9694a8bda'],\n",
       "               'session_id': ['default'],\n",
       "               'hostname': ['C4-BIOSIGNALS'],\n",
       "               'v4address': [None],\n",
       "               'v4data_port': ['16572'],\n",
       "               'v4service_port': ['16572'],\n",
       "               'v6address': [None],\n",
       "               'v6data_port': ['16572'],\n",
       "               'v6service_port': ['16572'],\n",
       "               'desc': [None],\n",
       "               'stream_id': 2,\n",
       "               'effective_srate': 44097.89313519011}),\n",
       "  'footer': {'info': defaultdict(list,\n",
       "               {'first_timestamp': ['4758902.111353775'],\n",
       "                'last_timestamp': ['4759075.122206339'],\n",
       "                'sample_count': ['7629299'],\n",
       "                'clock_offsets': [defaultdict(list,\n",
       "                             {'offset': [defaultdict(list,\n",
       "                                           {'time': ['4758907.8347079'],\n",
       "                                            'value': ['-4753781.4800927']}),\n",
       "                               defaultdict(list,\n",
       "                                           {'time': ['4758912.83483845'],\n",
       "                                            'value': ['-4753781.48001675']}),\n",
       "                               defaultdict(list,\n",
       "                                           {'time': ['4758917.835625899'],\n",
       "                                            'value': ['-4753781.480154499']}),\n",
       "                               defaultdict(list,\n",
       "                                           {'time': ['4758922.8357857'],\n",
       "                                            'value': ['-4753781.4801508']}),\n",
       "                               defaultdict(list,\n",
       "                                           {'time': ['4758927.83640385'],\n",
       "                                            'value': ['-4753781.48025875']}),\n",
       "                               defaultdict(list,\n",
       "                                           {'time': ['4758932.8367077'],\n",
       "                                            'value': ['-4753781.480291']}),\n",
       "                               defaultdict(list,\n",
       "                                           {'time': ['4758937.83695745'],\n",
       "                                            'value': ['-4753781.48016825']}),\n",
       "                               defaultdict(list,\n",
       "                                           {'time': ['4758942.83757705'],\n",
       "                                            'value': ['-4753781.480137249']}),\n",
       "                               defaultdict(list,\n",
       "                                           {'time': ['4758947.83823655'],\n",
       "                                            'value': ['-4753781.48008205']}),\n",
       "                               defaultdict(list,\n",
       "                                           {'time': ['4758952.838657199'],\n",
       "                                            'value': ['-4753781.4801616']}),\n",
       "                               defaultdict(list,\n",
       "                                           {'time': ['4758957.839371299'],\n",
       "                                            'value': ['-4753781.4801654']}),\n",
       "                               defaultdict(list,\n",
       "                                           {'time': ['4758962.840217349'],\n",
       "                                            'value': ['-4753781.48022835']}),\n",
       "                               defaultdict(list,\n",
       "                                           {'time': ['4758967.840875149'],\n",
       "                                            'value': ['-4753781.480200449']}),\n",
       "                               defaultdict(list,\n",
       "                                           {'time': ['4758972.84158255'],\n",
       "                                            'value': ['-4753781.48017745']}),\n",
       "                               defaultdict(list,\n",
       "                                           {'time': ['4758977.8419894'],\n",
       "                                            'value': ['-4753781.4802214']}),\n",
       "                               defaultdict(list,\n",
       "                                           {'time': ['4758982.84305975'],\n",
       "                                            'value': ['-4753781.48025035']}),\n",
       "                               defaultdict(list,\n",
       "                                           {'time': ['4758987.843118699'],\n",
       "                                            'value': ['-4753781.4802386']}),\n",
       "                               defaultdict(list,\n",
       "                                           {'time': ['4758992.843465549'],\n",
       "                                            'value': ['-4753781.480246849']}),\n",
       "                               defaultdict(list,\n",
       "                                           {'time': ['4758997.8434066'],\n",
       "                                            'value': ['-4753781.4801559']}),\n",
       "                               defaultdict(list,\n",
       "                                           {'time': ['4759002.8441586'],\n",
       "                                            'value': ['-4753781.4802551']}),\n",
       "                               defaultdict(list,\n",
       "                                           {'time': ['4759007.845123501'],\n",
       "                                            'value': ['-4753781.480193']}),\n",
       "                               defaultdict(list,\n",
       "                                           {'time': ['4759012.84587825'],\n",
       "                                            'value': ['-4753781.48023475']}),\n",
       "                               defaultdict(list,\n",
       "                                           {'time': ['4759017.8468827'],\n",
       "                                            'value': ['-4753781.4803115']}),\n",
       "                               defaultdict(list,\n",
       "                                           {'time': ['4759022.84694635'],\n",
       "                                            'value': ['-4753781.48023425']}),\n",
       "                               defaultdict(list,\n",
       "                                           {'time': ['4759027.8471128'],\n",
       "                                            'value': ['-4753781.4803083']}),\n",
       "                               defaultdict(list,\n",
       "                                           {'time': ['4759032.84810185'],\n",
       "                                            'value': ['-4753781.48030285']}),\n",
       "                               defaultdict(list,\n",
       "                                           {'time': ['4759037.848388551'],\n",
       "                                            'value': ['-4753781.480237151']}),\n",
       "                               defaultdict(list,\n",
       "                                           {'time': ['4759042.849438501'],\n",
       "                                            'value': ['-4753781.480283201']}),\n",
       "                               defaultdict(list,\n",
       "                                           {'time': ['4759047.850226351'],\n",
       "                                            'value': ['-4753781.480319451']}),\n",
       "                               defaultdict(list,\n",
       "                                           {'time': ['4759052.85031885'],\n",
       "                                            'value': ['-4753781.48024215']}),\n",
       "                               defaultdict(list,\n",
       "                                           {'time': ['4759057.851071301'],\n",
       "                                            'value': ['-4753781.480322201']}),\n",
       "                               defaultdict(list,\n",
       "                                           {'time': ['4759062.851993799'],\n",
       "                                            'value': ['-4753781.4804249']}),\n",
       "                               defaultdict(list,\n",
       "                                           {'time': ['4759067.8520173'],\n",
       "                                            'value': ['-4753781.480333']}),\n",
       "                               defaultdict(list,\n",
       "                                           {'time': ['4759072.852129151'],\n",
       "                                            'value': ['-4753781.480285451']}),\n",
       "                               defaultdict(list,\n",
       "                                           {'time': ['4759077.8527479'],\n",
       "                                            'value': ['-4753781.4804455']})]})]})},\n",
       "  'time_series': array([[-13],\n",
       "         [-12],\n",
       "         [-13],\n",
       "         ...,\n",
       "         [ 14],\n",
       "         [ 15],\n",
       "         [ 14]], dtype=int16),\n",
       "  'time_stamps': array([5120.63613519, 5120.63615787, 5120.63618054, ..., 5293.64433258,\n",
       "         5293.64435526, 5293.64437794])}]"
      ]
     },
     "execution_count": 31,
     "metadata": {},
     "output_type": "execute_result"
    }
   ],
   "source": [
    "data"
   ]
  },
  {
   "cell_type": "code",
   "execution_count": null,
   "metadata": {},
   "outputs": [
    {
     "data": {
      "text/plain": [
       "datetime.datetime(1969, 12, 31, 21, 8, 34, 585697)"
      ]
     },
     "execution_count": 43,
     "metadata": {},
     "output_type": "execute_result"
    }
   ],
   "source": [
    "datetime.fromtimestamp(float(data[0]['footer']['info']['first_timestamp'][0]))"
   ]
  },
  {
   "attachments": {},
   "cell_type": "markdown",
   "metadata": {},
   "source": [
    "# TESTING THE EFFECT OF LUMINANCE ON PUPILOMETRY  - 6.25.24. Bryan Nathalia Test\n"
   ]
  },
  {
   "cell_type": "code",
   "execution_count": 2,
   "metadata": {
    "ExecuteTime": {
     "end_time": "2024-07-22T20:19:39.820619Z",
     "start_time": "2024-07-22T20:19:39.716755Z"
    }
   },
   "outputs": [
    {
     "name": "stderr",
     "output_type": "stream",
     "text": [
      "Stream 1: Calculated effective sampling rate 119.9949 Hz is different from specified rate 90.0000 Hz.\n"
     ]
    },
    {
     "data": {
      "text/plain": "['Stimuli_Markers', 'Tobii']"
     },
     "execution_count": 2,
     "metadata": {},
     "output_type": "execute_result"
    }
   ],
   "source": [
    "xdf_path = \"../Data/Pilots/luminance/sub-P001_ses-S001_task-Default_run-001_eyetracking.xdf\"\n",
    "\n",
    "\n",
    "data, header= pyxdf.load_xdf(xdf_path)\n",
    "streams_collected = [stream['info']['name'][0] for stream in data]\n",
    "streams_collected"
   ]
  },
  {
   "cell_type": "code",
   "execution_count": 3,
   "metadata": {
    "ExecuteTime": {
     "end_time": "2024-07-22T20:19:55.039466Z",
     "start_time": "2024-07-22T20:19:55.036315Z"
    }
   },
   "outputs": [],
   "source": [
    "dat = data[1]"
   ]
  },
  {
   "cell_type": "code",
   "execution_count": 4,
   "metadata": {
    "ExecuteTime": {
     "end_time": "2024-07-22T20:19:55.748304Z",
     "start_time": "2024-07-22T20:19:55.742666Z"
    }
   },
   "outputs": [
    {
     "data": {
      "text/plain": "31860"
     },
     "execution_count": 4,
     "metadata": {},
     "output_type": "execute_result"
    }
   ],
   "source": [
    "len(dat['time_series'])"
   ]
  },
  {
   "cell_type": "code",
   "execution_count": 5,
   "metadata": {
    "ExecuteTime": {
     "end_time": "2024-07-22T20:19:58.472487Z",
     "start_time": "2024-07-22T20:19:58.466002Z"
    }
   },
   "outputs": [
    {
     "data": {
      "text/plain": "defaultdict(list,\n            {'name': ['Tobii'],\n             'type': ['ET'],\n             'channel_count': ['31'],\n             'channel_format': ['float32'],\n             'source_id': ['tobii-prp://TPFC2-010201444964'],\n             'nominal_srate': ['90.00000000000000'],\n             'version': ['1.100000000000000'],\n             'created_at': ['2344337.888169100'],\n             'uid': ['a0fe3287-5420-489e-838d-fe0b46586ac4'],\n             'session_id': ['default'],\n             'hostname': ['C3-EYE-TRACKING'],\n             'v4address': [None],\n             'v4data_port': ['16572'],\n             'v4service_port': ['16572'],\n             'v6address': [None],\n             'v6data_port': ['16572'],\n             'v6service_port': ['16572'],\n             'desc': [defaultdict(list,\n                          {'manufacturer': ['Tobii'],\n                           'channels': [defaultdict(list,\n                                        {'channel': [defaultdict(list,\n                                                      {'label': ['device_time_stamp'],\n                                                       'unit': ['device'],\n                                                       'type': ['ET']}),\n                                          defaultdict(list,\n                                                      {'label': ['left_gaze_origin_validity'],\n                                                       'unit': ['device'],\n                                                       'type': ['ET']}),\n                                          defaultdict(list,\n                                                      {'label': ['right_gaze_origin_validity'],\n                                                       'unit': ['device'],\n                                                       'type': ['ET']}),\n                                          defaultdict(list,\n                                                      {'label': ['left_gaze_origin_in_user_coordinate_system_0'],\n                                                       'unit': ['device'],\n                                                       'type': ['ET']}),\n                                          defaultdict(list,\n                                                      {'label': ['left_gaze_origin_in_user_coordinate_system_1'],\n                                                       'unit': ['device'],\n                                                       'type': ['ET']}),\n                                          defaultdict(list,\n                                                      {'label': ['left_gaze_origin_in_user_coordinate_system_2'],\n                                                       'unit': ['device'],\n                                                       'type': ['ET']}),\n                                          defaultdict(list,\n                                                      {'label': ['right_gaze_origin_in_user_coordinate_system_0'],\n                                                       'unit': ['device'],\n                                                       'type': ['ET']}),\n                                          defaultdict(list,\n                                                      {'label': ['right_gaze_origin_in_user_coordinate_system_1'],\n                                                       'unit': ['device'],\n                                                       'type': ['ET']}),\n                                          defaultdict(list,\n                                                      {'label': ['right_gaze_origin_in_user_coordinate_system_2'],\n                                                       'unit': ['device'],\n                                                       'type': ['ET']}),\n                                          defaultdict(list,\n                                                      {'label': ['left_gaze_origin_in_trackbox_coordinate_system_0'],\n                                                       'unit': ['device'],\n                                                       'type': ['ET']}),\n                                          defaultdict(list,\n                                                      {'label': ['left_gaze_origin_in_trackbox_coordinate_system_1'],\n                                                       'unit': ['device'],\n                                                       'type': ['ET']}),\n                                          defaultdict(list,\n                                                      {'label': ['left_gaze_origin_in_trackbox_coordinate_system_2'],\n                                                       'unit': ['device'],\n                                                       'type': ['ET']}),\n                                          defaultdict(list,\n                                                      {'label': ['right_gaze_origin_in_trackbox_coordinate_system_0'],\n                                                       'unit': ['device'],\n                                                       'type': ['ET']}),\n                                          defaultdict(list,\n                                                      {'label': ['right_gaze_origin_in_trackbox_coordinate_system_1'],\n                                                       'unit': ['device'],\n                                                       'type': ['ET']}),\n                                          defaultdict(list,\n                                                      {'label': ['right_gaze_origin_in_trackbox_coordinate_system_2'],\n                                                       'unit': ['device'],\n                                                       'type': ['ET']}),\n                                          defaultdict(list,\n                                                      {'label': ['left_gaze_point_validity'],\n                                                       'unit': ['device'],\n                                                       'type': ['ET']}),\n                                          defaultdict(list,\n                                                      {'label': ['right_gaze_point_validity'],\n                                                       'unit': ['device'],\n                                                       'type': ['ET']}),\n                                          defaultdict(list,\n                                                      {'label': ['left_gaze_point_in_user_coordinate_system_0'],\n                                                       'unit': ['device'],\n                                                       'type': ['ET']}),\n                                          defaultdict(list,\n                                                      {'label': ['left_gaze_point_in_user_coordinate_system_1'],\n                                                       'unit': ['device'],\n                                                       'type': ['ET']}),\n                                          defaultdict(list,\n                                                      {'label': ['left_gaze_point_in_user_coordinate_system_2'],\n                                                       'unit': ['device'],\n                                                       'type': ['ET']}),\n                                          defaultdict(list,\n                                                      {'label': ['right_gaze_point_in_user_coordinate_system_0'],\n                                                       'unit': ['device'],\n                                                       'type': ['ET']}),\n                                          defaultdict(list,\n                                                      {'label': ['right_gaze_point_in_user_coordinate_system_1'],\n                                                       'unit': ['device'],\n                                                       'type': ['ET']}),\n                                          defaultdict(list,\n                                                      {'label': ['right_gaze_point_in_user_coordinate_system_2'],\n                                                       'unit': ['device'],\n                                                       'type': ['ET']}),\n                                          defaultdict(list,\n                                                      {'label': ['left_gaze_point_on_display_area_0'],\n                                                       'unit': ['device'],\n                                                       'type': ['ET']}),\n                                          defaultdict(list,\n                                                      {'label': ['left_gaze_point_on_display_area_1'],\n                                                       'unit': ['device'],\n                                                       'type': ['ET']}),\n                                          defaultdict(list,\n                                                      {'label': ['right_gaze_point_on_display_area_0'],\n                                                       'unit': ['device'],\n                                                       'type': ['ET']}),\n                                          defaultdict(list,\n                                                      {'label': ['right_gaze_point_on_display_area_1'],\n                                                       'unit': ['device'],\n                                                       'type': ['ET']}),\n                                          defaultdict(list,\n                                                      {'label': ['left_pupil_validity'],\n                                                       'unit': ['device'],\n                                                       'type': ['ET']}),\n                                          defaultdict(list,\n                                                      {'label': ['right_pupil_validity'],\n                                                       'unit': ['device'],\n                                                       'type': ['ET']}),\n                                          defaultdict(list,\n                                                      {'label': ['left_pupil_diameter'],\n                                                       'unit': ['device'],\n                                                       'type': ['ET']}),\n                                          defaultdict(list,\n                                                      {'label': ['right_pupil_diameter'],\n                                                       'unit': ['device'],\n                                                       'type': ['ET']})]})]})],\n             'stream_id': 1,\n             'effective_srate': 119.99490349989755})"
     },
     "execution_count": 5,
     "metadata": {},
     "output_type": "execute_result"
    }
   ],
   "source": [
    "dat['info']"
   ]
  },
  {
   "attachments": {},
   "cell_type": "markdown",
   "metadata": {},
   "source": [
    "## Finding the stimulus markers"
   ]
  },
  {
   "cell_type": "code",
   "execution_count": 7,
   "metadata": {
    "ExecuteTime": {
     "end_time": "2024-07-22T20:20:30.948140Z",
     "start_time": "2024-07-22T20:20:30.944749Z"
    }
   },
   "outputs": [
    {
     "name": "stdout",
     "output_type": "stream",
     "text": [
      "[[         1]\n",
      " [1721678425]\n",
      " [         2]\n",
      " [1721678546]\n",
      " [         3]\n",
      " [1721678666]]\n"
     ]
    }
   ],
   "source": [
    "print(data[0]['time_series'])\n",
    "begining = data[0]['time_series'][1]\n",
    "switch = data[0]['time_series'][3]\n",
    "end = data[0]['time_series'][5]"
   ]
  },
  {
   "cell_type": "code",
   "execution_count": 8,
   "metadata": {
    "ExecuteTime": {
     "end_time": "2024-07-22T20:20:56.184988Z",
     "start_time": "2024-07-22T20:20:56.182179Z"
    }
   },
   "outputs": [
    {
     "name": "stdout",
     "output_type": "stream",
     "text": [
      "3035419.852361585\n"
     ]
    }
   ],
   "source": [
    "\n",
    "begin_time = data[0]['time_stamps'][1]\n",
    "switch_time = data[0]['time_stamps'][3]\n",
    "end_time = data[0]['time_stamps'][5]\n",
    "print(end_time)\n",
    "# finding index of that matches these times from the tobii steam\n"
   ]
  },
  {
   "cell_type": "code",
   "execution_count": 9,
   "metadata": {
    "ExecuteTime": {
     "end_time": "2024-07-22T20:21:09.852658Z",
     "start_time": "2024-07-22T20:21:09.841087Z"
    }
   },
   "outputs": [
    {
     "data": {
      "text/plain": "(array([], dtype=int64),)"
     },
     "execution_count": 9,
     "metadata": {},
     "output_type": "execute_result"
    }
   ],
   "source": [
    "ts = np.array([int(x) for x in data[1]['time_stamps']])\n",
    "np.where(ts== 705412)\n"
   ]
  },
  {
   "cell_type": "code",
   "execution_count": 9,
   "metadata": {
    "ExecuteTime": {
     "end_time": "2024-06-26T19:30:54.174994Z",
     "start_time": "2024-06-26T19:30:54.172535Z"
    }
   },
   "outputs": [],
   "source": [
    "#tobii_ts = str.format(data[0]['time_stamps'], '.2f')\n",
    "#tobii_ts\n",
    "\n",
    "tobii_begin_time = data[1]['time_stamps'][339] # this is the tobii time stamp corresponding to the stimulus begin time\n",
    "tobii_switch_time = data[1]['time_stamps'][14884]\n",
    "tobii_end_time = data[1]['time_stamps'][29284]"
   ]
  },
  {
   "cell_type": "code",
   "execution_count": 10,
   "metadata": {
    "ExecuteTime": {
     "end_time": "2024-06-26T19:30:54.794957Z",
     "start_time": "2024-06-26T19:30:54.792682Z"
    }
   },
   "outputs": [],
   "source": [
    "gray_half = dat['time_series'][339:14884]\n",
    "green_half = dat['time_series'][14884:29284]"
   ]
  },
  {
   "cell_type": "code",
   "execution_count": 11,
   "metadata": {
    "ExecuteTime": {
     "end_time": "2024-06-26T19:30:56.055181Z",
     "start_time": "2024-06-26T19:30:56.051940Z"
    }
   },
   "outputs": [],
   "source": [
    "# Get the column names\n",
    "column_labels = [dat['info']['desc'][0]['channels'][0]['channel'][i]['label'][0] for i in range(len(dat['info']['desc'][0]['channels'][0]['channel']))]\n",
    "\n",
    "gray_df = pd.DataFrame(data=gray_half, columns=column_labels)\n",
    "green_df = pd.DataFrame(data=green_half, columns=column_labels)"
   ]
  },
  {
   "cell_type": "code",
   "execution_count": 12,
   "metadata": {
    "ExecuteTime": {
     "end_time": "2024-06-26T19:31:04.775490Z",
     "start_time": "2024-06-26T19:31:04.768189Z"
    }
   },
   "outputs": [],
   "source": [
    "# removing first and last 10 secs\n",
    "gray_half = gray_df[1200:]\n",
    "gray_half = gray_df[:-1200].dropna()\n",
    "\n",
    "green_half = green_df[1200:]\n",
    "green_half = green_df[:-1200].dropna() # remove eye blinks\n",
    "\n"
   ]
  },
  {
   "cell_type": "code",
   "execution_count": 13,
   "metadata": {
    "ExecuteTime": {
     "end_time": "2024-06-26T19:31:05.603052Z",
     "start_time": "2024-06-26T19:31:05.571700Z"
    }
   },
   "outputs": [
    {
     "data": {
      "text/plain": [
       "0"
      ]
     },
     "execution_count": 13,
     "metadata": {},
     "output_type": "execute_result"
    }
   ],
   "source": [
    "sum([sum(green_half.isna()[col]) for col in column_labels])"
   ]
  },
  {
   "cell_type": "code",
   "execution_count": 14,
   "metadata": {
    "ExecuteTime": {
     "end_time": "2024-06-26T19:31:08.641395Z",
     "start_time": "2024-06-26T19:31:08.638786Z"
    }
   },
   "outputs": [],
   "source": [
    "left_gray = gray_half['left_pupil_diameter'] \n",
    "left_green = green_half['left_pupil_diameter'] \n",
    "right_gray = gray_half['right_pupil_diameter'] \n",
    "right_green = green_half['right_pupil_diameter'] "
   ]
  },
  {
   "cell_type": "code",
   "execution_count": 15,
   "metadata": {
    "ExecuteTime": {
     "end_time": "2024-06-26T19:31:15.386258Z",
     "start_time": "2024-06-26T19:31:15.383873Z"
    }
   },
   "outputs": [],
   "source": [
    "#making gray and green the same size by shortening gray\n",
    "left_gray = left_gray[:len(left_green)]\n",
    "right_gray = right_gray[:len(right_green)]"
   ]
  },
  {
   "attachments": {},
   "cell_type": "markdown",
   "metadata": {},
   "source": [
    "## Left eye"
   ]
  },
  {
   "cell_type": "code",
   "execution_count": 16,
   "metadata": {
    "ExecuteTime": {
     "end_time": "2024-06-26T19:32:02.479060Z",
     "start_time": "2024-06-26T19:32:02.470334Z"
    }
   },
   "outputs": [],
   "source": [
    "left_green = pd.DataFrame(left_green[::120])\n",
    "left_green['color'] = 'green'\n",
    "left_gray = pd.DataFrame(left_gray[::120])\n",
    "left_gray['color'] = 'gray'"
   ]
  },
  {
   "cell_type": "code",
   "execution_count": 17,
   "metadata": {
    "ExecuteTime": {
     "end_time": "2024-06-26T19:32:09.938298Z",
     "start_time": "2024-06-26T19:32:09.679257Z"
    }
   },
   "outputs": [
    {
     "data": {
      "text/plain": [
       "<seaborn.axisgrid.FacetGrid at 0x15d251190>"
      ]
     },
     "execution_count": 17,
     "metadata": {},
     "output_type": "execute_result"
    },
    {
     "data": {
      "image/png": "[encoded data removed]",
      "text/plain": [
       "<Figure size 585.625x500 with 1 Axes>"
      ]
     },
     "metadata": {},
     "output_type": "display_data"
    }
   ],
   "source": [
    "\n",
    "\n",
    "left = pd.concat([left_gray, left_green], )\n",
    "left_o = left.loc[left.left_pupil_diameter > 1.8]\n",
    "sns.displot(data=left, hue='color', x='left_pupil_diameter', palette=['#808080', '#008000'])"
   ]
  },
  {
   "cell_type": "code",
   "execution_count": 30,
   "metadata": {},
   "outputs": [
    {
     "data": {
      "text/plain": [
       "<seaborn.axisgrid.FacetGrid at 0x14762c04090>"
      ]
     },
     "execution_count": 30,
     "metadata": {},
     "output_type": "execute_result"
    },
    {
     "data": {
      "image/png": "[encoded data removed]",
      "text/plain": [
       "<Figure size 581.5x500 with 1 Axes>"
      ]
     },
     "metadata": {},
     "output_type": "display_data"
    }
   ],
   "source": [
    "sns.displot(data=left.loc[left.color=='gray'], hue='color', x='left_pupil_diameter')"
   ]
  },
  {
   "cell_type": "code",
   "execution_count": null,
   "metadata": {},
   "outputs": [],
   "source": []
  },
  {
   "cell_type": "code",
   "execution_count": 18,
   "metadata": {
    "ExecuteTime": {
     "end_time": "2024-06-26T19:32:46.812045Z",
     "start_time": "2024-06-26T19:32:46.804523Z"
    }
   },
   "outputs": [
    {
     "name": "stdout",
     "output_type": "stream",
     "text": [
      "-4.708806947376315\n",
      "p value:7.444949855e-06\n"
     ]
    }
   ],
   "source": [
    "from scipy import stats\n",
    "\n",
    "before = left.loc[left.color == 'gray'].left_pupil_diameter.values\n",
    "after =  left.loc[left.color == 'green'].left_pupil_diameter.values\n",
    "t_stat, p_val = stats.ttest_rel(before, after)\n",
    "print(t_stat)\n",
    "print(f'p value:{p_val:.10}')"
   ]
  },
  {
   "cell_type": "code",
   "execution_count": 27,
   "metadata": {},
   "outputs": [
    {
     "data": {
      "text/html": [
       "<div>\n",
       "<style scoped>\n",
       "    .dataframe tbody tr th:only-of-type {\n",
       "        vertical-align: middle;\n",
       "    }\n",
       "\n",
       "    .dataframe tbody tr th {\n",
       "        vertical-align: top;\n",
       "    }\n",
       "\n",
       "    .dataframe thead th {\n",
       "        text-align: right;\n",
       "    }\n",
       "</style>\n",
       "<table border=\"1\" class=\"dataframe\">\n",
       "  <thead>\n",
       "    <tr style=\"text-align: right;\">\n",
       "      <th></th>\n",
       "      <th>left_pupil_diameter</th>\n",
       "    </tr>\n",
       "  </thead>\n",
       "  <tbody>\n",
       "    <tr>\n",
       "      <th>count</th>\n",
       "      <td>26072.000000</td>\n",
       "    </tr>\n",
       "    <tr>\n",
       "      <th>mean</th>\n",
       "      <td>2.375584</td>\n",
       "    </tr>\n",
       "    <tr>\n",
       "      <th>std</th>\n",
       "      <td>0.131155</td>\n",
       "    </tr>\n",
       "    <tr>\n",
       "      <th>min</th>\n",
       "      <td>1.152527</td>\n",
       "    </tr>\n",
       "    <tr>\n",
       "      <th>25%</th>\n",
       "      <td>2.284344</td>\n",
       "    </tr>\n",
       "    <tr>\n",
       "      <th>50%</th>\n",
       "      <td>2.365204</td>\n",
       "    </tr>\n",
       "    <tr>\n",
       "      <th>75%</th>\n",
       "      <td>2.458744</td>\n",
       "    </tr>\n",
       "    <tr>\n",
       "      <th>max</th>\n",
       "      <td>2.806229</td>\n",
       "    </tr>\n",
       "  </tbody>\n",
       "</table>\n",
       "</div>"
      ],
      "text/plain": [
       "       left_pupil_diameter\n",
       "count         26072.000000\n",
       "mean              2.375584\n",
       "std               0.131155\n",
       "min               1.152527\n",
       "25%               2.284344\n",
       "50%               2.365204\n",
       "75%               2.458744\n",
       "max               2.806229"
      ]
     },
     "execution_count": 27,
     "metadata": {},
     "output_type": "execute_result"
    }
   ],
   "source": [
    "left.describe()\n"
   ]
  },
  {
   "cell_type": "code",
   "execution_count": 23,
   "metadata": {
    "ExecuteTime": {
     "end_time": "2024-06-26T19:49:56.476738Z",
     "start_time": "2024-06-26T19:49:56.457008Z"
    }
   },
   "outputs": [
    {
     "data": {
      "text/html": [
       "<div>\n",
       "<style scoped>\n",
       "    .dataframe tbody tr th:only-of-type {\n",
       "        vertical-align: middle;\n",
       "    }\n",
       "\n",
       "    .dataframe tbody tr th {\n",
       "        vertical-align: top;\n",
       "    }\n",
       "\n",
       "    .dataframe thead th {\n",
       "        text-align: right;\n",
       "    }\n",
       "</style>\n",
       "<table border=\"1\" class=\"dataframe\">\n",
       "  <thead>\n",
       "    <tr style=\"text-align: right;\">\n",
       "      <th></th>\n",
       "      <th>T</th>\n",
       "      <th>dof</th>\n",
       "      <th>alternative</th>\n",
       "      <th>p-val</th>\n",
       "      <th>CI95%</th>\n",
       "      <th>cohen-d</th>\n",
       "      <th>BF10</th>\n",
       "      <th>power</th>\n",
       "    </tr>\n",
       "  </thead>\n",
       "  <tbody>\n",
       "    <tr>\n",
       "      <th>T-test</th>\n",
       "      <td>-4.469982</td>\n",
       "      <td>216</td>\n",
       "      <td>two-sided</td>\n",
       "      <td>0.000013</td>\n",
       "      <td>[-0.11, -0.04]</td>\n",
       "      <td>0.605491</td>\n",
       "      <td>1317.388</td>\n",
       "      <td>0.993614</td>\n",
       "    </tr>\n",
       "  </tbody>\n",
       "</table>\n",
       "</div>"
      ],
      "text/plain": [
       "               T  dof alternative     p-val           CI95%   cohen-d  \\\n",
       "T-test -4.469982  216   two-sided  0.000013  [-0.11, -0.04]  0.605491   \n",
       "\n",
       "            BF10     power  \n",
       "T-test  1317.388  0.993614  "
      ]
     },
     "execution_count": 23,
     "metadata": {},
     "output_type": "execute_result"
    }
   ],
   "source": [
    "pg.ttest(before, after, paired=False)"
   ]
  },
  {
   "cell_type": "code",
   "execution_count": 1,
   "metadata": {},
   "outputs": [
    {
     "ename": "NameError",
     "evalue": "name 'sns' is not defined",
     "output_type": "error",
     "traceback": [
      "\u001B[1;31m---------------------------------------------------------------------------\u001B[0m",
      "\u001B[1;31mNameError\u001B[0m                                 Traceback (most recent call last)",
      "Cell \u001B[1;32mIn[1], line 1\u001B[0m\n\u001B[1;32m----> 1\u001B[0m sns\u001B[39m.\u001B[39mdisplot(data\u001B[39m=\u001B[39mleft, hue\u001B[39m=\u001B[39m\u001B[39m'\u001B[39m\u001B[39mcolor\u001B[39m\u001B[39m'\u001B[39m, y\u001B[39m=\u001B[39m\u001B[39m'\u001B[39m\u001B[39mleft_pupil_diameter\u001B[39m\u001B[39m'\u001B[39m)\n",
      "\u001B[1;31mNameError\u001B[0m: name 'sns' is not defined"
     ]
    }
   ],
   "source": []
  },
  {
   "attachments": {},
   "cell_type": "markdown",
   "metadata": {},
   "source": [
    "# paired ttest"
   ]
  },
  {
   "cell_type": "code",
   "execution_count": 17,
   "metadata": {},
   "outputs": [
    {
     "data": {
      "text/html": [
       "<div>\n",
       "<style scoped>\n",
       "    .dataframe tbody tr th:only-of-type {\n",
       "        vertical-align: middle;\n",
       "    }\n",
       "\n",
       "    .dataframe tbody tr th {\n",
       "        vertical-align: top;\n",
       "    }\n",
       "\n",
       "    .dataframe thead th {\n",
       "        text-align: right;\n",
       "    }\n",
       "</style>\n",
       "<table border=\"1\" class=\"dataframe\">\n",
       "  <thead>\n",
       "    <tr style=\"text-align: right;\">\n",
       "      <th></th>\n",
       "      <th>gray_left_pupil_diameter</th>\n",
       "      <th>color</th>\n",
       "      <th>green_left_pupil_diameter</th>\n",
       "      <th>color</th>\n",
       "    </tr>\n",
       "  </thead>\n",
       "  <tbody>\n",
       "    <tr>\n",
       "      <th>0</th>\n",
       "      <td>2.699326</td>\n",
       "      <td>gray</td>\n",
       "      <td>2.436554</td>\n",
       "      <td>green</td>\n",
       "    </tr>\n",
       "    <tr>\n",
       "      <th>1</th>\n",
       "      <td>2.693115</td>\n",
       "      <td>gray</td>\n",
       "      <td>2.447052</td>\n",
       "      <td>green</td>\n",
       "    </tr>\n",
       "    <tr>\n",
       "      <th>2</th>\n",
       "      <td>2.693832</td>\n",
       "      <td>gray</td>\n",
       "      <td>2.449341</td>\n",
       "      <td>green</td>\n",
       "    </tr>\n",
       "    <tr>\n",
       "      <th>3</th>\n",
       "      <td>2.696716</td>\n",
       "      <td>gray</td>\n",
       "      <td>2.440491</td>\n",
       "      <td>green</td>\n",
       "    </tr>\n",
       "    <tr>\n",
       "      <th>4</th>\n",
       "      <td>2.698532</td>\n",
       "      <td>gray</td>\n",
       "      <td>2.453903</td>\n",
       "      <td>green</td>\n",
       "    </tr>\n",
       "    <tr>\n",
       "      <th>...</th>\n",
       "      <td>...</td>\n",
       "      <td>...</td>\n",
       "      <td>...</td>\n",
       "      <td>...</td>\n",
       "    </tr>\n",
       "    <tr>\n",
       "      <th>13615</th>\n",
       "      <td>NaN</td>\n",
       "      <td>NaN</td>\n",
       "      <td>3.241898</td>\n",
       "      <td>green</td>\n",
       "    </tr>\n",
       "    <tr>\n",
       "      <th>13616</th>\n",
       "      <td>NaN</td>\n",
       "      <td>NaN</td>\n",
       "      <td>3.197464</td>\n",
       "      <td>green</td>\n",
       "    </tr>\n",
       "    <tr>\n",
       "      <th>13617</th>\n",
       "      <td>NaN</td>\n",
       "      <td>NaN</td>\n",
       "      <td>3.251907</td>\n",
       "      <td>green</td>\n",
       "    </tr>\n",
       "    <tr>\n",
       "      <th>13618</th>\n",
       "      <td>NaN</td>\n",
       "      <td>NaN</td>\n",
       "      <td>3.276917</td>\n",
       "      <td>green</td>\n",
       "    </tr>\n",
       "    <tr>\n",
       "      <th>13619</th>\n",
       "      <td>NaN</td>\n",
       "      <td>NaN</td>\n",
       "      <td>3.248032</td>\n",
       "      <td>green</td>\n",
       "    </tr>\n",
       "  </tbody>\n",
       "</table>\n",
       "<p>13618 rows × 4 columns</p>\n",
       "</div>"
      ],
      "text/plain": [
       "       gray_left_pupil_diameter color  green_left_pupil_diameter  color\n",
       "0                      2.699326  gray                   2.436554  green\n",
       "1                      2.693115  gray                   2.447052  green\n",
       "2                      2.693832  gray                   2.449341  green\n",
       "3                      2.696716  gray                   2.440491  green\n",
       "4                      2.698532  gray                   2.453903  green\n",
       "...                         ...   ...                        ...    ...\n",
       "13615                       NaN   NaN                   3.241898  green\n",
       "13616                       NaN   NaN                   3.197464  green\n",
       "13617                       NaN   NaN                   3.251907  green\n",
       "13618                       NaN   NaN                   3.276917  green\n",
       "13619                       NaN   NaN                   3.248032  green\n",
       "\n",
       "[13618 rows x 4 columns]"
      ]
     },
     "execution_count": 17,
     "metadata": {},
     "output_type": "execute_result"
    }
   ],
   "source": [
    "l_gray = left_gray.rename(columns={'left_pupil_diameter':'gray_left_pupil_diameter' })\n",
    "l_green = left_green.rename(columns={'left_pupil_diameter':'green_left_pupil_diameter' })\n",
    "\n",
    "pleft = pd.concat([l_gray, l_green], axis=1)\n",
    "pleft"
   ]
  },
  {
   "cell_type": "code",
   "execution_count": 22,
   "metadata": {},
   "outputs": [
    {
     "ename": "TypeError",
     "evalue": "ttest() missing 1 required positional argument: 'y'",
     "output_type": "error",
     "traceback": [
      "\u001B[1;31m---------------------------------------------------------------------------\u001B[0m",
      "\u001B[1;31mTypeError\u001B[0m                                 Traceback (most recent call last)",
      "Cell \u001B[1;32mIn[22], line 2\u001B[0m\n\u001B[0;32m      1\u001B[0m left_diffs \u001B[39m=\u001B[39m left_gray[\u001B[39m'\u001B[39m\u001B[39mleft_pupil_diameter\u001B[39m\u001B[39m'\u001B[39m] \u001B[39m-\u001B[39m left_green[\u001B[39m'\u001B[39m\u001B[39mleft_pupil_diameter\u001B[39m\u001B[39m'\u001B[39m]\n\u001B[1;32m----> 2\u001B[0m pg\u001B[39m.\u001B[39;49mttest(left_diffs, paired\u001B[39m=\u001B[39;49m\u001B[39mFalse\u001B[39;49;00m)\n",
      "\u001B[1;31mTypeError\u001B[0m: ttest() missing 1 required positional argument: 'y'"
     ]
    }
   ],
   "source": [
    "left_diffs = left_gray['left_pupil_diameter'] - left_green['left_pupil_diameter']\n",
    "pg.ttest(left_diffs, paired=False)"
   ]
  },
  {
   "attachments": {},
   "cell_type": "markdown",
   "metadata": {},
   "source": [
    "## Right eye    "
   ]
  },
  {
   "cell_type": "code",
   "execution_count": 20,
   "metadata": {
    "ExecuteTime": {
     "end_time": "2024-06-26T19:35:21.199501Z",
     "start_time": "2024-06-26T19:35:21.195077Z"
    }
   },
   "outputs": [],
   "source": [
    "right_green = pd.DataFrame(right_green[::120])\n",
    "right_green['color'] = 'green'\n",
    "right_gray = pd.DataFrame(right_gray[::120])\n",
    "right_gray['color'] = 'gray'\n",
    "\n",
    "right = pd.concat([right_gray, right_green], )"
   ]
  },
  {
   "cell_type": "code",
   "execution_count": 22,
   "metadata": {
    "ExecuteTime": {
     "end_time": "2024-06-26T19:38:42.942168Z",
     "start_time": "2024-06-26T19:38:42.692721Z"
    },
    "collapsed": false
   },
   "outputs": [
    {
     "data": {
      "text/plain": [
       "<seaborn.axisgrid.FacetGrid at 0x15d495510>"
      ]
     },
     "execution_count": 22,
     "metadata": {},
     "output_type": "execute_result"
    },
    {
     "data": {
      "image/png": "[encoded data removed]",
      "text/plain": [
       "<Figure size 585.625x500 with 1 Axes>"
      ]
     },
     "metadata": {},
     "output_type": "display_data"
    }
   ],
   "source": [
    "sns.displot(data=right, hue='color', x='right_pupil_diameter', palette=['#808080', '#008000'])\n"
   ]
  },
  {
   "cell_type": "code",
   "execution_count": 21,
   "metadata": {
    "ExecuteTime": {
     "end_time": "2024-06-26T19:35:24.741689Z",
     "start_time": "2024-06-26T19:35:24.729136Z"
    }
   },
   "outputs": [
    {
     "data": {
      "text/html": [
       "<div>\n",
       "<style scoped>\n",
       "    .dataframe tbody tr th:only-of-type {\n",
       "        vertical-align: middle;\n",
       "    }\n",
       "\n",
       "    .dataframe tbody tr th {\n",
       "        vertical-align: top;\n",
       "    }\n",
       "\n",
       "    .dataframe thead th {\n",
       "        text-align: right;\n",
       "    }\n",
       "</style>\n",
       "<table border=\"1\" class=\"dataframe\">\n",
       "  <thead>\n",
       "    <tr style=\"text-align: right;\">\n",
       "      <th></th>\n",
       "      <th>T</th>\n",
       "      <th>dof</th>\n",
       "      <th>alternative</th>\n",
       "      <th>p-val</th>\n",
       "      <th>CI95%</th>\n",
       "      <th>cohen-d</th>\n",
       "      <th>BF10</th>\n",
       "      <th>power</th>\n",
       "    </tr>\n",
       "  </thead>\n",
       "  <tbody>\n",
       "    <tr>\n",
       "      <th>T-test</th>\n",
       "      <td>-6.84211</td>\n",
       "      <td>216</td>\n",
       "      <td>two-sided</td>\n",
       "      <td>7.924552e-11</td>\n",
       "      <td>[-0.17, -0.09]</td>\n",
       "      <td>0.926812</td>\n",
       "      <td>1.006e+08</td>\n",
       "      <td>0.999999</td>\n",
       "    </tr>\n",
       "  </tbody>\n",
       "</table>\n",
       "</div>"
      ],
      "text/plain": [
       "              T  dof alternative         p-val           CI95%   cohen-d  \\\n",
       "T-test -6.84211  216   two-sided  7.924552e-11  [-0.17, -0.09]  0.926812   \n",
       "\n",
       "             BF10     power  \n",
       "T-test  1.006e+08  0.999999  "
      ]
     },
     "execution_count": 21,
     "metadata": {},
     "output_type": "execute_result"
    }
   ],
   "source": [
    "pg.ttest(right_gray['right_pupil_diameter'], right_green['right_pupil_diameter'], paired=False)\n"
   ]
  },
  {
   "cell_type": "code",
   "execution_count": 23,
   "metadata": {
    "ExecuteTime": {
     "end_time": "2024-06-26T19:20:38.266201Z",
     "start_time": "2024-06-26T19:20:37.885731Z"
    }
   },
   "outputs": [
    {
     "data": {
      "text/plain": [
       "<seaborn.axisgrid.FacetGrid at 0x15bbae950>"
      ]
     },
     "execution_count": 23,
     "metadata": {},
     "output_type": "execute_result"
    },
    {
     "data": {
      "image/png": "[encoded data removed]",
      "text/plain": [
       "<Figure size 585.625x500 with 1 Axes>"
      ]
     },
     "metadata": {},
     "output_type": "display_data"
    }
   ],
   "source": [
    "clrs = ['#808080', '#008000']\n",
    "sns.displot(data=right, hue='color', x='right_pupil_diameter', hue_order=['gray', 'green'], palette=clrs)"
   ]
  },
  {
   "cell_type": "code",
   "execution_count": 20,
   "metadata": {},
   "outputs": [
    {
     "data": {
      "text/html": [
       "<div>\n",
       "<style scoped>\n",
       "    .dataframe tbody tr th:only-of-type {\n",
       "        vertical-align: middle;\n",
       "    }\n",
       "\n",
       "    .dataframe tbody tr th {\n",
       "        vertical-align: top;\n",
       "    }\n",
       "\n",
       "    .dataframe thead th {\n",
       "        text-align: right;\n",
       "    }\n",
       "</style>\n",
       "<table border=\"1\" class=\"dataframe\">\n",
       "  <thead>\n",
       "    <tr style=\"text-align: right;\">\n",
       "      <th></th>\n",
       "      <th>right_pupil_diameter</th>\n",
       "    </tr>\n",
       "  </thead>\n",
       "  <tbody>\n",
       "    <tr>\n",
       "      <th>count</th>\n",
       "      <td>31406.000000</td>\n",
       "    </tr>\n",
       "    <tr>\n",
       "      <th>mean</th>\n",
       "      <td>2.827009</td>\n",
       "    </tr>\n",
       "    <tr>\n",
       "      <th>std</th>\n",
       "      <td>0.317837</td>\n",
       "    </tr>\n",
       "    <tr>\n",
       "      <th>min</th>\n",
       "      <td>1.659378</td>\n",
       "    </tr>\n",
       "    <tr>\n",
       "      <th>25%</th>\n",
       "      <td>2.598282</td>\n",
       "    </tr>\n",
       "    <tr>\n",
       "      <th>50%</th>\n",
       "      <td>2.760986</td>\n",
       "    </tr>\n",
       "    <tr>\n",
       "      <th>75%</th>\n",
       "      <td>2.956650</td>\n",
       "    </tr>\n",
       "    <tr>\n",
       "      <th>max</th>\n",
       "      <td>3.850403</td>\n",
       "    </tr>\n",
       "  </tbody>\n",
       "</table>\n",
       "</div>"
      ],
      "text/plain": [
       "       right_pupil_diameter\n",
       "count          31406.000000\n",
       "mean               2.827009\n",
       "std                0.317837\n",
       "min                1.659378\n",
       "25%                2.598282\n",
       "50%                2.760986\n",
       "75%                2.956650\n",
       "max                3.850403"
      ]
     },
     "execution_count": 20,
     "metadata": {},
     "output_type": "execute_result"
    }
   ],
   "source": [
    "right.describe()"
   ]
  },
  {
   "cell_type": "code",
   "execution_count": 21,
   "metadata": {},
   "outputs": [
    {
     "data": {
      "text/html": [
       "<div>\n",
       "<style scoped>\n",
       "    .dataframe tbody tr th:only-of-type {\n",
       "        vertical-align: middle;\n",
       "    }\n",
       "\n",
       "    .dataframe tbody tr th {\n",
       "        vertical-align: top;\n",
       "    }\n",
       "\n",
       "    .dataframe thead th {\n",
       "        text-align: right;\n",
       "    }\n",
       "</style>\n",
       "<table border=\"1\" class=\"dataframe\">\n",
       "  <thead>\n",
       "    <tr style=\"text-align: right;\">\n",
       "      <th></th>\n",
       "      <th>left_pupil_diameter</th>\n",
       "    </tr>\n",
       "  </thead>\n",
       "  <tbody>\n",
       "    <tr>\n",
       "      <th>count</th>\n",
       "      <td>31406.000000</td>\n",
       "    </tr>\n",
       "    <tr>\n",
       "      <th>mean</th>\n",
       "      <td>2.724874</td>\n",
       "    </tr>\n",
       "    <tr>\n",
       "      <th>std</th>\n",
       "      <td>0.312403</td>\n",
       "    </tr>\n",
       "    <tr>\n",
       "      <th>min</th>\n",
       "      <td>1.530197</td>\n",
       "    </tr>\n",
       "    <tr>\n",
       "      <th>25%</th>\n",
       "      <td>2.492779</td>\n",
       "    </tr>\n",
       "    <tr>\n",
       "      <th>50%</th>\n",
       "      <td>2.651367</td>\n",
       "    </tr>\n",
       "    <tr>\n",
       "      <th>75%</th>\n",
       "      <td>2.864475</td>\n",
       "    </tr>\n",
       "    <tr>\n",
       "      <th>max</th>\n",
       "      <td>3.969498</td>\n",
       "    </tr>\n",
       "  </tbody>\n",
       "</table>\n",
       "</div>"
      ],
      "text/plain": [
       "       left_pupil_diameter\n",
       "count         31406.000000\n",
       "mean              2.724874\n",
       "std               0.312403\n",
       "min               1.530197\n",
       "25%               2.492779\n",
       "50%               2.651367\n",
       "75%               2.864475\n",
       "max               3.969498"
      ]
     },
     "execution_count": 21,
     "metadata": {},
     "output_type": "execute_result"
    }
   ],
   "source": [
    "left.describe()"
   ]
  },
  {
   "cell_type": "code",
   "execution_count": null,
   "metadata": {},
   "outputs": [],
   "source": []
  }
 ],
 "metadata": {
  "kernelspec": {
   "display_name": "Python 3",
   "language": "python",
   "name": "python3"
  },
  "language_info": {
   "codemirror_mode": {
    "name": "ipython",
    "version": 3
   },
   "file_extension": ".py",
   "mimetype": "text/x-python",
   "name": "python",
   "nbconvert_exporter": "python",
   "pygments_lexer": "ipython3",
   "version": "3.11.9"
  },
  "orig_nbformat": 4
 },
 "nbformat": 4,
 "nbformat_minor": 2
}
